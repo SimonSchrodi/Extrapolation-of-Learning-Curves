{
  "nbformat": 4,
  "nbformat_minor": 0,
  "metadata": {
    "kernelspec": {
      "name": "python3",
      "display_name": "Python 3"
    },
    "language_info": {
      "codemirror_mode": {
        "name": "ipython",
        "version": 3
      },
      "file_extension": ".py",
      "mimetype": "text/x-python",
      "name": "python",
      "nbconvert_exporter": "python",
      "pygments_lexer": "ipython3",
      "version": "3.6.0"
    },
    "colab": {
      "name": "Conditional_Multi_Step_Univariate_LSTM.ipynb",
      "provenance": [],
      "collapsed_sections": [
        "x5tMN7p1iqoZ",
        "IiSCqyhijWzd"
      ]
    },
    "accelerator": "GPU"
  },
  "cells": [
    {
      "cell_type": "markdown",
      "metadata": {
        "id": "oJd_VxDKN8pn",
        "colab_type": "text"
      },
      "source": [
        "# Task A: Creating a Performance Predictor\n",
        "\n",
        "In this task, you will use training data from 2000 configurations on a single OpenML dataset to train a performance predictor. The data will be splitted into train, test and validation set and we will only use the first 10 epochs of the learning curves for predicitons. You are provided with the full benchmark logs for Fashion-MNIST, that is learning curves, config parameters and gradient statistics, and you can use them freely.\n",
        "\n",
        "For questions, you can contact zimmerl@informatik.uni-freiburg.\n",
        "\n",
        "__Note: Please use the dataloading and splits you are provided with in this notebook.__"
      ]
    },
    {
      "cell_type": "markdown",
      "metadata": {
        "id": "cqPBWpd5N8pt",
        "colab_type": "text"
      },
      "source": [
        "## Specifications:\n",
        "\n",
        "* Data: fashion_mnist.json\n",
        "* Number of datasets: 1\n",
        "* Number of configurations: 2000\n",
        "* Number of epochs seed during prediction: 10\n",
        "* Available data: Learning curves, architecture parameters and hyperparameters, gradient statistics \n",
        "* Target: Final validation accuracy\n",
        "* Evaluation metric: MSE"
      ]
    },
    {
      "cell_type": "markdown",
      "metadata": {
        "id": "4eYlSG9BN8py",
        "colab_type": "text"
      },
      "source": [
        "## Importing and splitting data\n",
        "\n",
        "__Note__: There are 51 steps logged, 50 epochs plus the 0th epoch, prior to any weight updates."
      ]
    },
    {
      "cell_type": "code",
      "metadata": {
        "id": "OX6ZD931iPpX",
        "colab_type": "code",
        "outputId": "418e94e3-6982-4e30-9d23-dc8d3a6f63af",
        "colab": {
          "base_uri": "https://localhost:8080/",
          "height": 712
        }
      },
      "source": [
        "!pip install torchvision\n",
        "!pip install hpbandster"
      ],
      "execution_count": 1,
      "outputs": [
        {
          "output_type": "stream",
          "text": [
            "Requirement already satisfied: torchvision in /usr/local/lib/python3.6/dist-packages (0.5.0)\n",
            "Requirement already satisfied: six in /usr/local/lib/python3.6/dist-packages (from torchvision) (1.12.0)\n",
            "Requirement already satisfied: torch==1.4.0 in /usr/local/lib/python3.6/dist-packages (from torchvision) (1.4.0)\n",
            "Requirement already satisfied: numpy in /usr/local/lib/python3.6/dist-packages (from torchvision) (1.17.5)\n",
            "Requirement already satisfied: pillow>=4.1.1 in /usr/local/lib/python3.6/dist-packages (from torchvision) (6.2.2)\n",
            "Collecting hpbandster\n",
            "\u001b[?25l  Downloading https://files.pythonhosted.org/packages/13/3e/62192b0bb527d9353d222b4b6df14400b3c4f36a92a2b138f11a5eafe000/hpbandster-0.7.4.tar.gz (51kB)\n",
            "\u001b[K     |████████████████████████████████| 61kB 2.3MB/s \n",
            "\u001b[?25hCollecting Pyro4\n",
            "\u001b[?25l  Downloading https://files.pythonhosted.org/packages/e5/24/123d570d039bbe167f266025c2551683e115ffa475ed5d66208b0c8c97c1/Pyro4-4.78-py2.py3-none-any.whl (90kB)\n",
            "\u001b[K     |████████████████████████████████| 92kB 5.1MB/s \n",
            "\u001b[?25hCollecting serpent\n",
            "  Downloading https://files.pythonhosted.org/packages/b4/a1/24871492bfc34ea18aee3bf38e0cee22d8c11d8d5e765ccc921103140747/serpent-1.30.2-py3-none-any.whl\n",
            "Collecting ConfigSpace\n",
            "\u001b[?25l  Downloading https://files.pythonhosted.org/packages/28/26/eddb59c773bfcc6376ae8e05ddb9b6469c9d7e6abed28d48211a6e5d6541/ConfigSpace-0.4.12.tar.gz (966kB)\n",
            "\u001b[K     |████████████████████████████████| 972kB 10.0MB/s \n",
            "\u001b[?25hRequirement already satisfied: numpy in /usr/local/lib/python3.6/dist-packages (from hpbandster) (1.17.5)\n",
            "Requirement already satisfied: statsmodels in /usr/local/lib/python3.6/dist-packages (from hpbandster) (0.10.2)\n",
            "Requirement already satisfied: scipy in /usr/local/lib/python3.6/dist-packages (from hpbandster) (1.4.1)\n",
            "Collecting netifaces\n",
            "  Downloading https://files.pythonhosted.org/packages/0c/9b/c4c7eb09189548d45939a3d3a6b3d53979c67d124459b27a094c365c347f/netifaces-0.10.9-cp36-cp36m-manylinux1_x86_64.whl\n",
            "Requirement already satisfied: cython in /usr/local/lib/python3.6/dist-packages (from ConfigSpace->hpbandster) (0.29.14)\n",
            "Requirement already satisfied: pyparsing in /usr/local/lib/python3.6/dist-packages (from ConfigSpace->hpbandster) (2.4.6)\n",
            "Requirement already satisfied: patsy>=0.4.0 in /usr/local/lib/python3.6/dist-packages (from statsmodels->hpbandster) (0.5.1)\n",
            "Requirement already satisfied: pandas>=0.19 in /usr/local/lib/python3.6/dist-packages (from statsmodels->hpbandster) (0.25.3)\n",
            "Requirement already satisfied: six in /usr/local/lib/python3.6/dist-packages (from patsy>=0.4.0->statsmodels->hpbandster) (1.12.0)\n",
            "Requirement already satisfied: pytz>=2017.2 in /usr/local/lib/python3.6/dist-packages (from pandas>=0.19->statsmodels->hpbandster) (2018.9)\n",
            "Requirement already satisfied: python-dateutil>=2.6.1 in /usr/local/lib/python3.6/dist-packages (from pandas>=0.19->statsmodels->hpbandster) (2.6.1)\n",
            "Building wheels for collected packages: hpbandster, ConfigSpace\n",
            "  Building wheel for hpbandster (setup.py) ... \u001b[?25l\u001b[?25hdone\n",
            "  Created wheel for hpbandster: filename=hpbandster-0.7.4-cp36-none-any.whl size=80007 sha256=8eec35de3a83f6f18544d6b4c862ec3860bda6f87a09c2ce044c0d8399bc71bb\n",
            "  Stored in directory: /root/.cache/pip/wheels/9d/57/62/6b00c8011bac96e0c404adc5be4e16964ba4544614240b4e23\n",
            "  Building wheel for ConfigSpace (setup.py) ... \u001b[?25l\u001b[?25hdone\n",
            "  Created wheel for ConfigSpace: filename=ConfigSpace-0.4.12-cp36-cp36m-linux_x86_64.whl size=2925951 sha256=c09b8ae92a97c9d07f817a53ecb76d118a5178f323f8075a3bf61a7fee5a5dde\n",
            "  Stored in directory: /root/.cache/pip/wheels/ae/b2/85/feafec2387f97065d914a72c42ff3a0f6f60d8e1fd03c6bd4b\n",
            "Successfully built hpbandster ConfigSpace\n",
            "Installing collected packages: serpent, Pyro4, ConfigSpace, netifaces, hpbandster\n",
            "Successfully installed ConfigSpace-0.4.12 Pyro4-4.78 hpbandster-0.7.4 netifaces-0.10.9 serpent-1.30.2\n"
          ],
          "name": "stdout"
        }
      ]
    },
    {
      "cell_type": "code",
      "metadata": {
        "id": "aT8tEKUJOqNy",
        "colab_type": "code",
        "outputId": "b8e6f567-0ede-4587-ec0c-9c329757f011",
        "colab": {
          "base_uri": "https://localhost:8080/",
          "height": 248
        }
      },
      "source": [
        "!pip install wget\n",
        "!pip install zipfile36"
      ],
      "execution_count": 2,
      "outputs": [
        {
          "output_type": "stream",
          "text": [
            "Collecting wget\n",
            "  Downloading https://files.pythonhosted.org/packages/47/6a/62e288da7bcda82b935ff0c6cfe542970f04e29c756b0e147251b2fb251f/wget-3.2.zip\n",
            "Building wheels for collected packages: wget\n",
            "  Building wheel for wget (setup.py) ... \u001b[?25l\u001b[?25hdone\n",
            "  Created wheel for wget: filename=wget-3.2-cp36-none-any.whl size=9682 sha256=b0a4aff22cf2018c139e38cced45ba4ba07288dde7e74a90c1b07f2fae82f0d6\n",
            "  Stored in directory: /root/.cache/pip/wheels/40/15/30/7d8f7cea2902b4db79e3fea550d7d7b85ecb27ef992b618f3f\n",
            "Successfully built wget\n",
            "Installing collected packages: wget\n",
            "Successfully installed wget-3.2\n",
            "Collecting zipfile36\n",
            "  Downloading https://files.pythonhosted.org/packages/fd/8a/3b7da0b0bd87d1ef05b74207827c72d348b56a0d6d83242582be18a81e02/zipfile36-0.1.3-py3-none-any.whl\n",
            "Installing collected packages: zipfile36\n",
            "Successfully installed zipfile36-0.1.3\n"
          ],
          "name": "stdout"
        }
      ]
    },
    {
      "cell_type": "code",
      "metadata": {
        "id": "-GSY73FpOPdD",
        "colab_type": "code",
        "outputId": "e11e29cc-1d58-43a4-82c9-d5c7cffc3960",
        "colab": {
          "base_uri": "https://localhost:8080/",
          "height": 35
        }
      },
      "source": [
        "import wget\n",
        "import zipfile\n",
        "dir_path = 'content/'\n",
        "filename=wget.download('https://ndownloader.figshare.com/files/21001311')\n",
        "with zipfile.ZipFile(filename, 'r') as zip_ref:\n",
        "    zip_ref.extractall(\"\")\n",
        "!rm fashion_mnist.zip\n",
        "wget.download('https://raw.githubusercontent.com/automl/LCBench/master/api.py')\n",
        "wget.download('https://raw.githubusercontent.com/infomon/Extrapolation-of-Learning-Curves/master/utils.py')\n",
        "!mkdir content/models\n",
        "!mkdir models"
      ],
      "execution_count": 3,
      "outputs": [
        {
          "output_type": "stream",
          "text": [
            "mkdir: cannot create directory ‘content/models’: No such file or directory\n"
          ],
          "name": "stdout"
        }
      ]
    },
    {
      "cell_type": "code",
      "metadata": {
        "id": "ql1OqCfgN8p4",
        "colab_type": "code",
        "colab": {}
      },
      "source": [
        "%%capture\n",
        "%cd ..\n",
        "import numpy as np\n",
        "from sklearn.model_selection import train_test_split\n",
        "from sklearn.metrics import mean_squared_error\n",
        "import matplotlib.pyplot as plt\n",
        "\n",
        "from content.api import Benchmark\n",
        "import content.utils as utils\n",
        "import torch\n",
        "\n",
        "import os"
      ],
      "execution_count": 0,
      "outputs": []
    },
    {
      "cell_type": "code",
      "metadata": {
        "id": "QKGiEJ_IidBk",
        "colab_type": "code",
        "colab": {}
      },
      "source": [
        "import ConfigSpace as CS\n",
        "import ConfigSpace.hyperparameters as CSH\n",
        "\n",
        "import pickle\n",
        "import logging\n",
        "\n",
        "from hpbandster.core.worker import Worker\n",
        "import hpbandster.core.nameserver as hpns\n",
        "import hpbandster.core.result as hpres\n",
        "from hpbandster.optimizers import BOHB\n",
        "\n",
        "logging.getLogger('hpbandster').setLevel(logging.DEBUG)"
      ],
      "execution_count": 0,
      "outputs": []
    },
    {
      "cell_type": "code",
      "metadata": {
        "id": "e2sQv_05N8qJ",
        "colab_type": "code",
        "outputId": "4624e4c3-8b27-41d9-8e74-ed37d177fb7e",
        "colab": {
          "base_uri": "https://localhost:8080/",
          "height": 88
        }
      },
      "source": [
        "bench_dir = dir_path+\"fashion_mnist.json\"\n",
        "bench = Benchmark(bench_dir, cache=False)"
      ],
      "execution_count": 6,
      "outputs": [
        {
          "output_type": "stream",
          "text": [
            "==> Loading data...\n",
            "==> No cached data found or cache set to False.\n",
            "==> Reading json data...\n",
            "==> Done.\n"
          ],
          "name": "stdout"
        }
      ]
    },
    {
      "cell_type": "code",
      "metadata": {
        "id": "9eq4DxuuN8qe",
        "colab_type": "code",
        "outputId": "d8a681c1-c9e3-45e2-9f6e-b68c7bfa6885",
        "colab": {
          "base_uri": "https://localhost:8080/",
          "height": 70
        }
      },
      "source": [
        "# Read data\n",
        "def cut_data(data, cut_position):\n",
        "    targets = []\n",
        "    for dp in data:\n",
        "        targets.append(dp[\"Train/val_accuracy\"][50])\n",
        "        for tag in dp:\n",
        "            if tag.startswith(\"Train/\"):\n",
        "                dp[tag] = dp[tag][0:cut_position]\n",
        "    return data, targets\n",
        "\n",
        "def read_data():\n",
        "    dataset_name = 'Fashion-MNIST'\n",
        "    n_configs = bench.get_number_of_configs(dataset_name)\n",
        "    \n",
        "    # Query API\n",
        "    data = []\n",
        "    for config_id in range(n_configs):\n",
        "        data_point = dict()\n",
        "        data_point[\"config\"] = bench.query(dataset_name=dataset_name, tag=\"config\", config_id=config_id)\n",
        "        for tag in bench.get_queriable_tags(dataset_name=dataset_name, config_id=config_id):\n",
        "            if tag.startswith(\"Train/\"):\n",
        "                data_point[tag] = bench.query(dataset_name=dataset_name, tag=tag, config_id=config_id)    \n",
        "        data.append(data_point)\n",
        "        \n",
        "    # Split: 50% train, 25% validation, 25% test (the data is already shuffled)\n",
        "    indices = np.arange(n_configs)\n",
        "    ind_train = indices[0:int(np.floor(0.5*n_configs))]\n",
        "    ind_val = indices[int(np.floor(0.5*n_configs)):int(np.floor(0.75*n_configs))]\n",
        "    ind_test = indices[int(np.floor(0.75*n_configs)):]\n",
        "\n",
        "    array_data = np.array(data)\n",
        "    train_data = array_data[ind_train]\n",
        "    val_data = array_data[ind_val]\n",
        "    test_data = array_data[ind_test]\n",
        "    \n",
        "    # Cut curves for validation and test\n",
        "    cut_position = 11\n",
        "    #val_data, val_targets = cut_data(val_data, cut_position)\n",
        "    #test_data, test_targets = cut_data(test_data, cut_position)\n",
        "    val_data, val_targets = cut_data(val_data, 51)\n",
        "    test_data, test_targets = cut_data(test_data, 51)\n",
        "    train_data, train_targets = cut_data(train_data, 51)   # Cut last value as it is repeated\n",
        "    \n",
        "    return train_data, val_data, test_data, train_targets, val_targets, test_targets\n",
        "    \n",
        "train_data, val_data, test_data, train_targets, val_targets, test_targets = read_data()\n",
        "\n",
        "print(\"Train:\", len(train_data))\n",
        "print(\"Validation:\", len(val_data))\n",
        "print(\"Test:\", len(test_data))"
      ],
      "execution_count": 7,
      "outputs": [
        {
          "output_type": "stream",
          "text": [
            "Train: 1000\n",
            "Validation: 500\n",
            "Test: 500\n"
          ],
          "name": "stdout"
        }
      ]
    },
    {
      "cell_type": "markdown",
      "metadata": {
        "id": "9PphdZ2aN8qv",
        "colab_type": "text"
      },
      "source": [
        "The data contains the configuration of the trained model and learning curves as well as global and layer-wise gradient statistics.\n",
        "\n",
        "__Note__: Not all parameters vary across different configurations. The varying parameters are batch_size, max_dropout, max_units, num_layers, learning_rate, momentum, weight_decay"
      ]
    },
    {
      "cell_type": "markdown",
      "metadata": {
        "id": "x5tMN7p1iqoZ",
        "colab_type": "text"
      },
      "source": [
        "## Sample use of data"
      ]
    },
    {
      "cell_type": "code",
      "metadata": {
        "id": "Ybnns3VKN8q0",
        "colab_type": "code",
        "outputId": "ba89ad17-ee81-468e-948c-15f97154755a",
        "colab": {
          "base_uri": "https://localhost:8080/",
          "height": 0
        }
      },
      "source": [
        "# Config\n",
        "print(\"Config example:\", train_data[0][\"config\"])"
      ],
      "execution_count": 8,
      "outputs": [
        {
          "output_type": "stream",
          "text": [
            "Config example: {'batch_size': 71, 'imputation_strategy': 'mean', 'learning_rate_scheduler': 'cosine_annealing', 'loss': 'cross_entropy_weighted', 'network': 'shapedmlpnet', 'max_dropout': 0.025926231827891333, 'normalization_strategy': 'standardize', 'optimizer': 'sgd', 'cosine_annealing_T_max': 50, 'cosine_annealing_eta_min': 1e-08, 'activation': 'relu', 'max_units': 293, 'mlp_shape': 'funnel', 'num_layers': 3, 'learning_rate': 0.0018243300267253295, 'momentum': 0.21325193168301043, 'weight_decay': 0.020472816917443872}\n"
          ],
          "name": "stdout"
        }
      ]
    },
    {
      "cell_type": "code",
      "metadata": {
        "id": "Ua6h3ORrlA5N",
        "colab_type": "code",
        "outputId": "62f52a96-6256-40db-adb4-152ac34d32ed",
        "colab": {
          "base_uri": "https://localhost:8080/",
          "height": 0
        }
      },
      "source": [
        "train_data[1][\"config\"]"
      ],
      "execution_count": 9,
      "outputs": [
        {
          "output_type": "execute_result",
          "data": {
            "text/plain": [
              "{'activation': 'relu',\n",
              " 'batch_size': 457,\n",
              " 'cosine_annealing_T_max': 50,\n",
              " 'cosine_annealing_eta_min': 1e-08,\n",
              " 'imputation_strategy': 'mean',\n",
              " 'learning_rate': 0.01239328605026128,\n",
              " 'learning_rate_scheduler': 'cosine_annealing',\n",
              " 'loss': 'cross_entropy_weighted',\n",
              " 'max_dropout': 0.5472322491757223,\n",
              " 'max_units': 950,\n",
              " 'mlp_shape': 'funnel',\n",
              " 'momentum': 0.16411425552061212,\n",
              " 'network': 'shapedmlpnet',\n",
              " 'normalization_strategy': 'standardize',\n",
              " 'num_layers': 4,\n",
              " 'optimizer': 'sgd',\n",
              " 'weight_decay': 0.09762768273307641}"
            ]
          },
          "metadata": {
            "tags": []
          },
          "execution_count": 9
        }
      ]
    },
    {
      "cell_type": "code",
      "metadata": {
        "id": "pTl67TOTN8rD",
        "colab_type": "code",
        "outputId": "893382c4-9929-4429-f428-6a32e044b575",
        "colab": {
          "base_uri": "https://localhost:8080/",
          "height": 0
        }
      },
      "source": [
        "# Learning curve\n",
        "plt.plot(train_data[10][\"Train/val_accuracy\"])"
      ],
      "execution_count": 10,
      "outputs": [
        {
          "output_type": "execute_result",
          "data": {
            "text/plain": [
              "[<matplotlib.lines.Line2D at 0x7f4984eb5c50>]"
            ]
          },
          "metadata": {
            "tags": []
          },
          "execution_count": 10
        },
        {
          "output_type": "display_data",
          "data": {
            "image/png": "[encoded data removed]",
            "text/plain": [
              "<Figure size 432x288 with 1 Axes>"
            ]
          },
          "metadata": {
            "tags": []
          }
        }
      ]
    },
    {
      "cell_type": "code",
      "metadata": {
        "id": "zXGuPeBKN8rM",
        "colab_type": "code",
        "outputId": "4224d09a-0cf5-486f-ed3e-4396f2d8dc6b",
        "colab": {
          "base_uri": "https://localhost:8080/",
          "height": 0
        }
      },
      "source": [
        "# Gradient statistics\n",
        "plt.plot(train_data[10][\"Train/layer_wise_gradient_mean_layer_0\"])"
      ],
      "execution_count": 11,
      "outputs": [
        {
          "output_type": "execute_result",
          "data": {
            "text/plain": [
              "[<matplotlib.lines.Line2D at 0x7f49849890b8>]"
            ]
          },
          "metadata": {
            "tags": []
          },
          "execution_count": 11
        },
        {
          "output_type": "display_data",
          "data": {
            "image/png": "[encoded data removed]",
            "text/plain": [
              "<Figure size 432x288 with 1 Axes>"
            ]
          },
          "metadata": {
            "tags": []
          }
        }
      ]
    },
    {
      "cell_type": "markdown",
      "metadata": {
        "id": "IaYC_PH4N8rQ",
        "colab_type": "text"
      },
      "source": [
        "## A simple baseline"
      ]
    },
    {
      "cell_type": "code",
      "metadata": {
        "id": "WJrvEgLzN8rS",
        "colab_type": "code",
        "colab": {}
      },
      "source": [
        "class SimpleLearningCurvePredictor():\n",
        "    \"\"\"A learning curve predictor that predicts the last observed epoch of the validation accuracy as final performance\"\"\"\n",
        "    \n",
        "    def __init__(self):\n",
        "        pass\n",
        "        \n",
        "    def fit(self, X, y):\n",
        "        pass\n",
        "    \n",
        "    def predict(self, X):\n",
        "        predictions = []\n",
        "        for datapoint in X:\n",
        "            predictions.append(datapoint[\"Train/val_accuracy\"][-1])\n",
        "        return predictions\n",
        "    \n",
        "def score(y_true, y_pred):\n",
        "    return mean_squared_error(y_true, y_pred)"
      ],
      "execution_count": 0,
      "outputs": []
    },
    {
      "cell_type": "code",
      "metadata": {
        "id": "d23UZhgHN8rW",
        "colab_type": "code",
        "outputId": "a92369a5-2878-464b-98a5-1667134899ad",
        "colab": {
          "base_uri": "https://localhost:8080/",
          "height": 35
        }
      },
      "source": [
        "# Training & tuning\n",
        "predictor = SimpleLearningCurvePredictor()\n",
        "predictor.fit(train_data, train_targets)\n",
        "preds = predictor.predict(val_data)\n",
        "mse = score(val_targets, preds)\n",
        "print(\"Score on validation set:\", mse)"
      ],
      "execution_count": 13,
      "outputs": [
        {
          "output_type": "stream",
          "text": [
            "Score on validation set: 0.0\n"
          ],
          "name": "stdout"
        }
      ]
    },
    {
      "cell_type": "code",
      "metadata": {
        "id": "NMWiY0XbN8rc",
        "colab_type": "code",
        "outputId": "63aba1d5-591c-4c6f-80bf-d0fd7eacc804",
        "colab": {
          "base_uri": "https://localhost:8080/",
          "height": 35
        }
      },
      "source": [
        "# Final evaluation (after tuning)\n",
        "final_preds = predictor.predict(test_data)\n",
        "final_score = score(test_targets, final_preds)\n",
        "print(\"Final test score:\", final_score)"
      ],
      "execution_count": 14,
      "outputs": [
        {
          "output_type": "stream",
          "text": [
            "Final test score: 0.0\n"
          ],
          "name": "stdout"
        }
      ]
    },
    {
      "cell_type": "markdown",
      "metadata": {
        "id": "fNOcxEQji6du",
        "colab_type": "text"
      },
      "source": [
        "## Conditional Multi-Step Univariate LSTM"
      ]
    },
    {
      "cell_type": "code",
      "metadata": {
        "id": "WyPMeBHetWGs",
        "colab_type": "code",
        "colab": {}
      },
      "source": [
        "multivariate = False\n",
        "nof_multi = 7\n",
        "input_size = nof_multi if multivariate else 1"
      ],
      "execution_count": 0,
      "outputs": []
    },
    {
      "cell_type": "markdown",
      "metadata": {
        "id": "dqojlKAujgIt",
        "colab_type": "text"
      },
      "source": [
        "### Data Preperation"
      ]
    },
    {
      "cell_type": "code",
      "metadata": {
        "id": "VnEQJbbLyGG2",
        "colab_type": "code",
        "colab": {}
      },
      "source": [
        "if multivariate:\n",
        "  train_data_loader = utils.prep_data(train_data, train_targets, batch_size=32,\n",
        "                                      temporal_keys=['Train/val_accuracy','Train/loss','Train/train_accuracy','Train/train_cross_entropy','Train/val_cross_entropy','Train/gradient_mean','Train/lr'],\n",
        "                                      normalization_factor_temporal_data=[100,1,100,1,1,1,1], one_shot=True)\n",
        "  val_data_loader = utils.prep_data(val_data, val_targets, batch_size=32,\n",
        "                                    temporal_keys=['Train/val_accuracy','Train/loss','Train/train_accuracy','Train/train_cross_entropy','Train/val_cross_entropy','Train/gradient_mean','Train/lr'],\n",
        "                                    normalization_factor_temporal_data=[100,1,100,1,1,1,1], one_shot=True)\n",
        "  test_data_loader = utils.prep_data(test_data, test_targets, batch_size=32,\n",
        "                                    temporal_keys=['Train/val_accuracy','Train/loss','Train/train_accuracy','Train/train_cross_entropy','Train/val_cross_entropy','Train/gradient_mean','Train/lr'],\n",
        "                                    normalization_factor_temporal_data=[100,1,100,1,1,1,1],one_shot=True)\n",
        "else:\n",
        "  train_data_loader = utils.prep_data(train_data, train_targets, batch_size=32, normalization_factor_temporal_data=[100],one_shot=True)\n",
        "  val_data_loader = utils.prep_data(val_data, val_targets, batch_size=32, normalization_factor_temporal_data=[100], one_shot=True)\n",
        "  test_data_loader = utils.prep_data(test_data, test_targets, batch_size=32, normalization_factor_temporal_data=[100],one_shot=True)"
      ],
      "execution_count": 0,
      "outputs": []
    },
    {
      "cell_type": "markdown",
      "metadata": {
        "id": "lt-kazBujFr0",
        "colab_type": "text"
      },
      "source": [
        "### Models"
      ]
    },
    {
      "cell_type": "code",
      "metadata": {
        "id": "YBGim3i6CoCK",
        "colab_type": "code",
        "colab": {}
      },
      "source": [
        "class EncoderRNN(torch.nn.Module):\n",
        "    def __init__(self, input_size, hidden_size, nof_configs, num_layers, dropout = 0.5, bidirectional=False):\n",
        "        super(EncoderRNN, self).__init__()\n",
        "        \n",
        "        self.nof_configs = nof_configs\n",
        "        self.num_layers = num_layers\n",
        "        self.dropout = dropout\n",
        "        self.bidirectional = bidirectional\n",
        "        self.num_directions = 2 if bidirectional else 1\n",
        "        \n",
        "        self.hidden_size = hidden_size\n",
        "        self.lstm = torch.nn.LSTM(input_size=input_size, \n",
        "                                  hidden_size=hidden_size,\n",
        "                                  num_layers=num_layers,\n",
        "                                  dropout=dropout,\n",
        "                                  bidirectional=bidirectional)\n",
        "\n",
        "        self.relu = torch.nn.functional.relu\n",
        "\n",
        "        self.encode_fc1 = torch.nn.Linear(self.nof_configs,int(self.hidden_size/2))\n",
        "        self.encode_bn1 = torch.nn.BatchNorm1d(int(self.hidden_size/2))\n",
        "        self.encode_fc2 = torch.nn.Linear(int(self.hidden_size/2),self.hidden_size)\n",
        "        self.encode_bn2 = torch.nn.BatchNorm1d(self.hidden_size)\n",
        "\n",
        "    def forward(self, seq, config):\n",
        "        h0 = self.initHidden(config)\n",
        "        c0 = self.initCell(seq.size()[1])\n",
        "        seq = seq.permute(2,1,0)\n",
        "        output, (hidden,cell) = self.lstm(seq, (h0,c0))\n",
        "        return output, hidden, cell\n",
        "\n",
        "    def initHidden(self, config):\n",
        "        x = self.relu(self.encode_bn1(self.encode_fc1(config)))\n",
        "        x = self.relu(self.encode_bn2(self.encode_fc2(x)))\n",
        "        return torch.stack([x for _ in range(self.num_layers*self.num_directions)])\n",
        "\n",
        "    def initCell(self, batch_size):\n",
        "        return torch.zeros(self.num_layers*self.num_directions, batch_size, self.hidden_size)"
      ],
      "execution_count": 0,
      "outputs": []
    },
    {
      "cell_type": "code",
      "metadata": {
        "id": "dErX6on9FYyy",
        "colab_type": "code",
        "colab": {}
      },
      "source": [
        "class DecoderRNN(torch.nn.Module):\n",
        "    def __init__(self, input_size, hidden_size, output_size, num_layers, dropout = 0.5):\n",
        "        super(DecoderRNN, self).__init__()\n",
        "        \n",
        "        self.output_size = output_size\n",
        "        self.num_layers = num_layers\n",
        "        self.dropout = dropout\n",
        "        \n",
        "        self.hidden_size = hidden_size\n",
        "        self.lstm = torch.nn.LSTM(input_size=input_size, \n",
        "                                  hidden_size=hidden_size,\n",
        "                                  num_layers=num_layers,\n",
        "                                  dropout=dropout,\n",
        "                                  bidirectional=False)\n",
        "        \n",
        "        self.fc_out = torch.nn.Linear(hidden_size, output_size)\n",
        "        self.relu = torch.nn.functional.relu\n",
        "\n",
        "    def forward(self, seq, h0, c0):\n",
        "        seq = seq.unsqueeze(0)\n",
        "        seq = seq.unsqueeze(-1)\n",
        "        output, (hidden,cell) = self.lstm(seq, (h0,c0))\n",
        "        output = self.fc_out(output)\n",
        "        return output.squeeze(), hidden, cell\n"
      ],
      "execution_count": 0,
      "outputs": []
    },
    {
      "cell_type": "code",
      "metadata": {
        "id": "Hwbesz1Slf4k",
        "colab_type": "code",
        "colab": {}
      },
      "source": [
        "class Seq2Seq(torch.nn.Module):\n",
        "  def __init__(self, encoder, decoder):\n",
        "    super(Seq2Seq, self).__init__()\n",
        "    self.encoder = encoder\n",
        "    self.decoder = decoder\n",
        "\n",
        "    assert encoder.hidden_size == decoder.hidden_size\n",
        "    #assert encoder.num_layers == decoder.num_layers\n",
        "\n",
        "  def forward(self, source, target, teacher_forcing_ratio = 0.5):\n",
        "    batch_size = target.size()[0]\n",
        "    target_len = target.size()[1]\n",
        "\n",
        "    outputs = torch.zeros(target_len, batch_size, 1)\n",
        "\n",
        "    seq , config = source\n",
        "    output, hidden, cell = self.encoder(seq, config)\n",
        "\n",
        "    decoder_input = target[:,0]\n",
        "    for t in range(1, target_len):\n",
        "      output, hidden, cell = self.decoder(decoder_input, hidden, cell)\n",
        "      outputs[t] = output.unsqueeze(-1)\n",
        "      use_teacher_forcing = np.random.random() < teacher_forcing_ratio\n",
        "      decoder_input = target[:,t] if use_teacher_forcing else output\n",
        "    return outputs"
      ],
      "execution_count": 0,
      "outputs": []
    },
    {
      "cell_type": "markdown",
      "metadata": {
        "id": "flpCWz4sjL2P",
        "colab_type": "text"
      },
      "source": [
        "### Train, eval & test"
      ]
    },
    {
      "cell_type": "code",
      "metadata": {
        "id": "Lam0RyyPwD_v",
        "colab_type": "code",
        "colab": {}
      },
      "source": [
        "def preprocess_batch(batch):\n",
        "  temporal = batch[:nof_multi if multivariate else 1]\n",
        "  temporal = torch.stack([t for t in temporal],dim=0)\n",
        "  configs = batch[-2]\n",
        "  targets = batch[-1]\n",
        "  return temporal, configs, targets"
      ],
      "execution_count": 0,
      "outputs": []
    },
    {
      "cell_type": "code",
      "metadata": {
        "id": "sk5Jat93mO_l",
        "colab_type": "code",
        "colab": {}
      },
      "source": [
        "def train(model, optimizer, criterion, clip=5):\n",
        "    model.train()\n",
        "    epoch_loss = []\n",
        "    for batch in train_data_loader:\n",
        "      temporal, configs, targets = preprocess_batch(batch)\n",
        "      optimizer.zero_grad()\n",
        "      output = model([temporal,configs],targets)\n",
        "      output = output.squeeze()\n",
        "      output = torch.t(output)\n",
        "      loss = criterion(output, targets)\n",
        "      loss.backward()\n",
        "      torch.nn.utils.clip_grad_norm_(model.parameters(),clip)\n",
        "      optimizer.step()\n",
        "      epoch_loss.append(loss.item())\n",
        "    return np.array(epoch_loss).mean()"
      ],
      "execution_count": 0,
      "outputs": []
    },
    {
      "cell_type": "code",
      "metadata": {
        "id": "7GulE-3SosoY",
        "colab_type": "code",
        "colab": {}
      },
      "source": [
        "def evaluate(model, criterion):\n",
        "  model.eval()\n",
        "  epoch_loss = []\n",
        "  with torch.no_grad():\n",
        "    for batch in val_data_loader:\n",
        "      temporal, configs, targets = preprocess_batch(batch)\n",
        "      output = model([temporal, configs], targets, 0)\n",
        "      output = output.squeeze()\n",
        "      output = torch.t(output)\n",
        "      loss = criterion(output, targets)\n",
        "      epoch_loss.append(loss.item())\n",
        "  return np.array(epoch_loss).mean()"
      ],
      "execution_count": 0,
      "outputs": []
    },
    {
      "cell_type": "code",
      "metadata": {
        "id": "f8R89hbqJp6t",
        "colab_type": "code",
        "colab": {}
      },
      "source": [
        "def RMSELoss(yhat,y):\n",
        "    return torch.sqrt(torch.mean((yhat-y)**2))"
      ],
      "execution_count": 0,
      "outputs": []
    },
    {
      "cell_type": "code",
      "metadata": {
        "id": "9OFaN6Rx1Njn",
        "colab_type": "code",
        "colab": {}
      },
      "source": [
        "def test(model, criterion):\n",
        "    model.load_state_dict(torch.load('content/models/model.pt'))\n",
        "    model.eval()\n",
        "    epoch_loss=[]\n",
        "    with torch.no_grad():\n",
        "      for batch in test_data_loader:\n",
        "        temporal, configs, targets = preprocess_batch(batch)\n",
        "        output = model([temporal, configs], targets, 0)\n",
        "        output = output.squeeze()\n",
        "        output = torch.t(output)\n",
        "        loss = criterion(output[:,-1], targets[:,-1])\n",
        "        epoch_loss.append(loss.item())\n",
        "        \n",
        "    return np.array(epoch_loss).mean()"
      ],
      "execution_count": 0,
      "outputs": []
    },
    {
      "cell_type": "markdown",
      "metadata": {
        "id": "U5u3PuTVjrKx",
        "colab_type": "text"
      },
      "source": [
        "### BOHB"
      ]
    },
    {
      "cell_type": "code",
      "metadata": {
        "id": "dYUBJMijLLQB",
        "colab_type": "code",
        "colab": {}
      },
      "source": [
        "run_bohb=False"
      ],
      "execution_count": 0,
      "outputs": []
    },
    {
      "cell_type": "code",
      "metadata": {
        "id": "jR-Zp7gmnXU_",
        "colab_type": "code",
        "colab": {}
      },
      "source": [
        "def get_model(config):\n",
        "  def init_weights(m):\n",
        "    for name, param in m.named_parameters():\n",
        "      torch.nn.init.uniform_(param.data, -0.08, 0.08)\n",
        "  \n",
        "  input_size = 1\n",
        "  outcome_dim = 1\n",
        "  config_size = 7\n",
        "  bidirectional = bool(config['bidirectional'])\n",
        "  encoder = EncoderRNN(input_size, config['hidden_dim'], config_size, config['num_layers'],\n",
        "                       dropout=config['encoder_dropout'],bidirectional=bidirectional)\n",
        "  decoder = DecoderRNN(input_size, config['hidden_dim'], outcome_dim, \n",
        "                       num_layers=2*config['num_layers'] if bidirectional else config['num_layers'],dropout=config['decoder_dropout'])\n",
        "  model = Seq2Seq(encoder, decoder)\n",
        "  model.apply(init_weights)\n",
        "  return model"
      ],
      "execution_count": 0,
      "outputs": []
    },
    {
      "cell_type": "code",
      "metadata": {
        "id": "DdHviALlrSaU",
        "colab_type": "code",
        "colab": {}
      },
      "source": [
        "working_dir = os.curdir\n",
        "# minimum budget that BOHB uses\n",
        "min_budget = 30\n",
        "# largest budget BOHB will use\n",
        "max_budget = 200"
      ],
      "execution_count": 0,
      "outputs": []
    },
    {
      "cell_type": "code",
      "metadata": {
        "id": "WXq6mTaBjvWU",
        "colab_type": "code",
        "colab": {}
      },
      "source": [
        "class PyTorchWorker(Worker):\n",
        "    def __init__(self, **kwargs):\n",
        "        super().__init__(**kwargs)\n",
        "        self.train_loader, self.validation_loader, self.test_loader = train_data_loader, val_data_loader, test_data_loader\n",
        "\n",
        "    @staticmethod\n",
        "    def get_model(config: CS.Configuration) -> torch.nn.Module:\n",
        "        \"\"\" Define a configurable convolution model.\n",
        "            \n",
        "        See description of get_conv_model above for more details on the model.\n",
        "        \"\"\"\n",
        "        return get_model(config)\n",
        "        \n",
        "    @staticmethod\n",
        "    def get_configspace() -> CS.Configuration:\n",
        "        \"\"\" \n",
        "        Define a conditional hyperparameter search-space.\n",
        "        \"\"\"\n",
        "        cs = CS.ConfigurationSpace()\n",
        "        hidden_dim = CSH.UniformIntegerHyperparameter(\"hidden_dim\",lower=5,upper=500,log=True)\n",
        "        num_layers = CSH.UniformIntegerHyperparameter(\"num_layers\",lower=1,upper=5)\n",
        "        encoder_dropout = CSH.UniformFloatHyperparameter(\"encoder_dropout\",lower=0.1,upper=0.8)\n",
        "        decoder_dropout = CSH.UniformFloatHyperparameter(\"decoder_dropout\",lower=0.1,upper=0.8)\n",
        "        bidirectional = CSH.UniformIntegerHyperparameter(\"bidirectional\",lower=0,upper=1)\n",
        "\n",
        "        lr = CSH.UniformFloatHyperparameter(\"lr\",lower=1e-6,upper=1e-1,log=True)\n",
        "        weight_decay = CSH.UniformFloatHyperparameter(\"weight_decay\",lower=1e-6,upper=1e-1,log=True)\n",
        "        sgd_momentum = CSH.UniformFloatHyperparameter(\"sgd_momentum\",lower=0.00,upper=0.99)\n",
        "        optimizer = CSH.CategoricalHyperparameter('optimizer', choices=['Adam', 'SGD'])\n",
        "        \n",
        "        scheduler = CSH.CategoricalHyperparameter('scheduler', choices=['CosAnn', 'CosAnnWarm'])\n",
        "        T_max = CSH.UniformIntegerHyperparameter(\"T_max\",lower=10,upper=max_budget)\n",
        "        T_0 = CSH.UniformIntegerHyperparameter(\"T_0\",lower=10,upper=int(max_budget/3))\n",
        "\n",
        "        cs.add_hyperparameters([hidden_dim, num_layers, encoder_dropout, decoder_dropout, bidirectional,\n",
        "                                lr, weight_decay, sgd_momentum,optimizer,scheduler,T_max,T_0])\n",
        "    \n",
        "        condition1 = CS.EqualsCondition(sgd_momentum,optimizer,'SGD')\n",
        "        cs.add_condition(condition1)\n",
        "        condition2 = CS.EqualsCondition(T_max,scheduler,'CosAnn')\n",
        "        cs.add_condition(condition2)\n",
        "        condition3 = CS.EqualsCondition(T_0,scheduler,'CosAnnWarm')\n",
        "        cs.add_condition(condition3)\n",
        "        return cs\n",
        "\n",
        "    def compute(self, config: CS.Configuration, budget: float, working_directory: str,\n",
        "                *args, **kwargs) -> dict:\n",
        "        \"\"\"Evaluate a function with the given config and budget and return a loss.\n",
        "        \n",
        "        Bohb tries to minimize the returned loss.\n",
        "        \n",
        "        In our case the function is the training and validation of a model,\n",
        "        the budget is the number of epochs and the loss is the validation error.\n",
        "        \"\"\"\n",
        "        model = self.get_model(config)\n",
        "\n",
        "        if config['optimizer'] == 'Adam':\n",
        "          optimizer = torch.optim.Adam(model.parameters(), lr=config['lr'], weight_decay=config['weight_decay'])\n",
        "        else:\n",
        "          optimizer = torch.optim.SGD(model.parameters(), lr=config['lr'], momentum=config['sgd_momentum'])\n",
        "        \n",
        "        if config['scheduler'] == 'CosAnnWarm':\n",
        "          scheduler = torch.optim.lr_scheduler.CosineAnnealingWarmRestarts(optimizer, T_0=config['T_0'])\n",
        "        else:\n",
        "          scheduler = torch.optim.lr_scheduler.CosineAnnealingLR(optimizer, T_max=config['T_max'])\n",
        "\n",
        "        criterion = torch.nn.MSELoss()\n",
        "        clip = 5\n",
        "\n",
        "        for epoch in range(int(budget)):\n",
        "          loss = 0\n",
        "          model.train()\n",
        "          for val_acc, configs, targets in self.train_loader:\n",
        "            optimizer.zero_grad()\n",
        "            output = model([val_acc,configs],targets)\n",
        "            output = output.squeeze()\n",
        "            output = torch.t(output)\n",
        "            loss = criterion(output, targets)\n",
        "            loss.backward()\n",
        "            torch.nn.utils.clip_grad_norm_(model.parameters(),clip)\n",
        "            optimizer.step()\n",
        "          scheduler.step()\n",
        "        \n",
        "        train_loss = evaluate(model, self.train_loader)\n",
        "        validation_loss = evaluate(model, self.validation_loader)\n",
        "        test_loss = evaluate(model, self.test_loader)\n",
        "        \n",
        "        return ({\n",
        "                'loss': validation_loss,  # remember: HpBandSter minimizes the loss!\n",
        "                'info': {'test_loss': test_loss,\n",
        "                         'train_loss': train_loss,\n",
        "                         'validation_loss': validation_loss,\n",
        "                         'model': str(model)}\n",
        "                })"
      ],
      "execution_count": 0,
      "outputs": []
    },
    {
      "cell_type": "code",
      "metadata": {
        "id": "aWKQurHYsbkA",
        "colab_type": "code",
        "colab": {}
      },
      "source": [
        "if run_bohb:\n",
        "  worker = PyTorchWorker(run_id='0')\n",
        "  cs = worker.get_configspace()\n",
        "\n",
        "  config = cs.sample_configuration().get_dictionary()\n",
        "  print(config)\n",
        "\n",
        "  res = worker.compute(config=config, budget=min_budget, working_directory=working_dir)\n",
        "  print(res)"
      ],
      "execution_count": 0,
      "outputs": []
    },
    {
      "cell_type": "code",
      "metadata": {
        "id": "O50di5m_sfvm",
        "colab_type": "code",
        "colab": {}
      },
      "source": [
        "if run_bohb:\n",
        "  result_file = os.path.join(working_dir, 'bohb_result.pkl')\n",
        "  nic_name = 'lo0'\n",
        "  port = 0\n",
        "  run_id = 'bohb_run_1'\n",
        "  n_bohb_iterations = 12"
      ],
      "execution_count": 0,
      "outputs": []
    },
    {
      "cell_type": "code",
      "metadata": {
        "id": "rR8rgsM7wTdJ",
        "colab_type": "code",
        "colab": {}
      },
      "source": [
        "if run_bohb:\n",
        "  try:\n",
        "      # Start a nameserver\n",
        "      worker = PyTorchWorker(run_id='0')\n",
        "      ns = hpns.NameServer(run_id=run_id, host='127.0.0.1', port=port,\n",
        "                          working_directory=working_dir)\n",
        "      ns_host, ns_port = ns.start()\n",
        "      # Start local worker\n",
        "      w = PyTorchWorker(run_id=run_id, host='127.0.0.1', nameserver=ns_host,\n",
        "                        nameserver_port=ns_port, timeout=120)\n",
        "      w.run(background=True)\n",
        "\n",
        "      # Run an optimizer\n",
        "      bohb = BOHB(configspace=worker.get_configspace(),\n",
        "                  run_id=run_id,\n",
        "                  host='127.0.0.1',\n",
        "                  nameserver=ns_host,\n",
        "                  nameserver_port=ns_port,\n",
        "                  min_budget=min_budget, max_budget=max_budget)\n",
        "\n",
        "      result = bohb.run(n_iterations=n_bohb_iterations)\n",
        "      print(\"Write result to file {}\".format(result_file))\n",
        "      with open(result_file, 'wb') as f:\n",
        "          pickle.dump(result, f)\n",
        "  finally:\n",
        "      bohb.shutdown(shutdown_workers=True)\n",
        "      ns.shutdown()"
      ],
      "execution_count": 0,
      "outputs": []
    },
    {
      "cell_type": "markdown",
      "metadata": {
        "id": "ACwkRPySjTCu",
        "colab_type": "text"
      },
      "source": [
        "### Training Loop"
      ]
    },
    {
      "cell_type": "code",
      "metadata": {
        "id": "nsgAX8SUKpLI",
        "colab_type": "code",
        "colab": {}
      },
      "source": [
        "def init_weights(m):\n",
        "    for name, param in m.named_parameters():\n",
        "      torch.nn.init.uniform_(param.data, -0.08, 0.08)"
      ],
      "execution_count": 0,
      "outputs": []
    },
    {
      "cell_type": "code",
      "metadata": {
        "id": "i8TtwTZiKH2R",
        "colab_type": "code",
        "colab": {}
      },
      "source": [
        "epochs = 2500\n",
        "\n",
        "decoder_input_size = 1\n",
        "output_size = 1\n",
        "config_size = 7\n",
        "hidden_size=50\n",
        "encoder_dropout=0.5\n",
        "decoder_dropout=0.5\n",
        "num_layers=2\n",
        "bidirectional = True\n",
        "encoder = EncoderRNN(input_size, hidden_size=hidden_size, nof_configs=config_size, num_layers=num_layers,\n",
        "                      dropout=encoder_dropout,bidirectional=bidirectional)\n",
        "decoder = DecoderRNN(decoder_input_size, hidden_size=hidden_size, output_size=output_size, \n",
        "                      num_layers=2*num_layers if bidirectional else num_layers,dropout=decoder_dropout)\n",
        "model = Seq2Seq(encoder, decoder)\n",
        "model.apply(init_weights)\n",
        "\n",
        "criterion = torch.nn.MSELoss()\n",
        "optimizer = torch.optim.Adam(model.parameters(), lr=0.01, weight_decay=10e-3)\n",
        "scheduler = torch.optim.lr_scheduler.CosineAnnealingWarmRestarts(optimizer, T_0=50)"
      ],
      "execution_count": 0,
      "outputs": []
    },
    {
      "cell_type": "code",
      "metadata": {
        "id": "hqBLkuRznl9y",
        "colab_type": "code",
        "outputId": "bbd596c6-88e6-400f-9f5c-6a973d86c6b4",
        "colab": {
          "base_uri": "https://localhost:8080/",
          "height": 1000
        }
      },
      "source": [
        "best_val_loss = float('inf')\n",
        "\n",
        "for epoch in range(epochs):\n",
        "  train_loss = train(model, optimizer, criterion)\n",
        "  val_loss = evaluate(model, criterion)\n",
        "\n",
        "  if val_loss < best_val_loss:\n",
        "    torch.save(model.state_dict(),\"content/models/model.pt\")    \n",
        "    print('Val loss decreased ({:.6f} --> {:.6f}).  Saving model ...'.format(best_val_loss,val_loss))\n",
        "    best_val_loss = val_loss\n",
        "\n",
        "  print(f'Epoch: {epoch}\\t Train Loss: {train_loss:.3f}\\t Val. Loss: {val_loss:.3f}')\n",
        "  scheduler.step()"
      ],
      "execution_count": 0,
      "outputs": [
        {
          "output_type": "stream",
          "text": [
            "Val loss decreased (inf --> 3622.436050).  Saving model ...\n",
            "Epoch: 0\t Train Loss: 4760.393\t Val. Loss: 3622.436\n",
            "Val loss decreased (3622.436050 --> 1938.671989).  Saving model ...\n",
            "Epoch: 1\t Train Loss: 2773.007\t Val. Loss: 1938.672\n",
            "Val loss decreased (1938.671989 --> 811.669666).  Saving model ...\n",
            "Epoch: 2\t Train Loss: 1363.551\t Val. Loss: 811.670\n",
            "Val loss decreased (811.669666 --> 215.193925).  Saving model ...\n",
            "Epoch: 3\t Train Loss: 496.718\t Val. Loss: 215.194\n",
            "Val loss decreased (215.193925 --> 97.085549).  Saving model ...\n",
            "Epoch: 4\t Train Loss: 151.644\t Val. Loss: 97.086\n",
            "Epoch: 5\t Train Loss: 128.940\t Val. Loss: 122.513\n",
            "Val loss decreased (97.085549 --> 34.376609).  Saving model ...\n",
            "Epoch: 6\t Train Loss: 96.702\t Val. Loss: 34.377\n",
            "Val loss decreased (34.376609 --> 24.790811).  Saving model ...\n",
            "Epoch: 7\t Train Loss: 38.353\t Val. Loss: 24.791\n",
            "Epoch: 8\t Train Loss: 31.923\t Val. Loss: 57.102\n",
            "Epoch: 9\t Train Loss: 30.429\t Val. Loss: 26.767\n",
            "Val loss decreased (24.790811 --> 18.205824).  Saving model ...\n",
            "Epoch: 10\t Train Loss: 22.470\t Val. Loss: 18.206\n",
            "Epoch: 11\t Train Loss: 25.115\t Val. Loss: 29.835\n",
            "Val loss decreased (18.205824 --> 17.439513).  Saving model ...\n",
            "Epoch: 12\t Train Loss: 23.297\t Val. Loss: 17.440\n",
            "Epoch: 13\t Train Loss: 25.200\t Val. Loss: 17.517\n",
            "Val loss decreased (17.439513 --> 13.704079).  Saving model ...\n",
            "Epoch: 14\t Train Loss: 19.935\t Val. Loss: 13.704\n",
            "Epoch: 15\t Train Loss: 18.674\t Val. Loss: 16.881\n",
            "Epoch: 16\t Train Loss: 19.700\t Val. Loss: 15.574\n",
            "Epoch: 17\t Train Loss: 16.956\t Val. Loss: 15.719\n",
            "Epoch: 18\t Train Loss: 17.829\t Val. Loss: 14.940\n",
            "Val loss decreased (13.704079 --> 13.607945).  Saving model ...\n",
            "Epoch: 19\t Train Loss: 16.743\t Val. Loss: 13.608\n",
            "Epoch: 20\t Train Loss: 19.053\t Val. Loss: 15.872\n",
            "Epoch: 21\t Train Loss: 15.566\t Val. Loss: 13.674\n",
            "Val loss decreased (13.607945 --> 13.557538).  Saving model ...\n",
            "Epoch: 22\t Train Loss: 15.285\t Val. Loss: 13.558\n",
            "Epoch: 23\t Train Loss: 16.681\t Val. Loss: 14.282\n",
            "Val loss decreased (13.557538 --> 12.204663).  Saving model ...\n",
            "Epoch: 24\t Train Loss: 20.092\t Val. Loss: 12.205\n",
            "Epoch: 25\t Train Loss: 17.325\t Val. Loss: 14.719\n",
            "Val loss decreased (12.204663 --> 11.090251).  Saving model ...\n",
            "Epoch: 26\t Train Loss: 14.796\t Val. Loss: 11.090\n",
            "Epoch: 27\t Train Loss: 13.052\t Val. Loss: 14.350\n",
            "Epoch: 28\t Train Loss: 16.023\t Val. Loss: 14.960\n",
            "Epoch: 29\t Train Loss: 14.970\t Val. Loss: 13.092\n",
            "Epoch: 30\t Train Loss: 13.740\t Val. Loss: 11.708\n",
            "Epoch: 31\t Train Loss: 12.769\t Val. Loss: 12.375\n",
            "Epoch: 32\t Train Loss: 14.664\t Val. Loss: 11.100\n",
            "Val loss decreased (11.090251 --> 9.944596).  Saving model ...\n",
            "Epoch: 33\t Train Loss: 11.538\t Val. Loss: 9.945\n",
            "Epoch: 34\t Train Loss: 13.852\t Val. Loss: 13.728\n",
            "Epoch: 35\t Train Loss: 12.397\t Val. Loss: 10.783\n",
            "Epoch: 36\t Train Loss: 12.042\t Val. Loss: 11.190\n",
            "Epoch: 37\t Train Loss: 11.327\t Val. Loss: 10.330\n",
            "Epoch: 38\t Train Loss: 12.997\t Val. Loss: 10.153\n",
            "Val loss decreased (9.944596 --> 9.874830).  Saving model ...\n",
            "Epoch: 39\t Train Loss: 11.091\t Val. Loss: 9.875\n",
            "Epoch: 40\t Train Loss: 11.263\t Val. Loss: 10.175\n",
            "Val loss decreased (9.874830 --> 9.758214).  Saving model ...\n",
            "Epoch: 41\t Train Loss: 11.345\t Val. Loss: 9.758\n",
            "Epoch: 42\t Train Loss: 11.009\t Val. Loss: 9.983\n",
            "Val loss decreased (9.758214 --> 9.729768).  Saving model ...\n",
            "Epoch: 43\t Train Loss: 11.228\t Val. Loss: 9.730\n",
            "Epoch: 44\t Train Loss: 10.253\t Val. Loss: 9.922\n",
            "Val loss decreased (9.729768 --> 9.640692).  Saving model ...\n",
            "Epoch: 45\t Train Loss: 10.435\t Val. Loss: 9.641\n",
            "Val loss decreased (9.640692 --> 9.562268).  Saving model ...\n",
            "Epoch: 46\t Train Loss: 10.440\t Val. Loss: 9.562\n",
            "Val loss decreased (9.562268 --> 9.335893).  Saving model ...\n",
            "Epoch: 47\t Train Loss: 10.293\t Val. Loss: 9.336\n",
            "Val loss decreased (9.335893 --> 9.316041).  Saving model ...\n",
            "Epoch: 48\t Train Loss: 10.535\t Val. Loss: 9.316\n",
            "Epoch: 49\t Train Loss: 10.161\t Val. Loss: 9.322\n",
            "Epoch: 50\t Train Loss: 17.039\t Val. Loss: 19.200\n",
            "Epoch: 51\t Train Loss: 21.262\t Val. Loss: 14.621\n",
            "Epoch: 52\t Train Loss: 17.548\t Val. Loss: 11.633\n",
            "Epoch: 53\t Train Loss: 16.897\t Val. Loss: 15.443\n",
            "Epoch: 54\t Train Loss: 15.654\t Val. Loss: 12.944\n",
            "Epoch: 55\t Train Loss: 16.634\t Val. Loss: 15.349\n",
            "Epoch: 56\t Train Loss: 19.748\t Val. Loss: 16.820\n",
            "Epoch: 57\t Train Loss: 17.899\t Val. Loss: 17.395\n",
            "Epoch: 58\t Train Loss: 21.362\t Val. Loss: 16.651\n",
            "Epoch: 59\t Train Loss: 17.408\t Val. Loss: 13.121\n",
            "Epoch: 60\t Train Loss: 17.848\t Val. Loss: 15.114\n",
            "Epoch: 61\t Train Loss: 20.469\t Val. Loss: 14.094\n",
            "Epoch: 62\t Train Loss: 19.590\t Val. Loss: 14.573\n",
            "Epoch: 63\t Train Loss: 16.187\t Val. Loss: 16.923\n",
            "Epoch: 64\t Train Loss: 16.509\t Val. Loss: 14.413\n",
            "Epoch: 65\t Train Loss: 16.291\t Val. Loss: 13.422\n",
            "Epoch: 66\t Train Loss: 17.765\t Val. Loss: 15.912\n",
            "Epoch: 67\t Train Loss: 18.550\t Val. Loss: 13.169\n",
            "Epoch: 68\t Train Loss: 19.304\t Val. Loss: 15.026\n",
            "Epoch: 69\t Train Loss: 18.016\t Val. Loss: 19.150\n",
            "Epoch: 70\t Train Loss: 17.398\t Val. Loss: 14.603\n",
            "Epoch: 71\t Train Loss: 17.166\t Val. Loss: 16.947\n",
            "Epoch: 72\t Train Loss: 14.553\t Val. Loss: 18.004\n",
            "Epoch: 73\t Train Loss: 13.720\t Val. Loss: 11.403\n",
            "Epoch: 74\t Train Loss: 14.126\t Val. Loss: 12.358\n",
            "Epoch: 75\t Train Loss: 19.765\t Val. Loss: 16.260\n",
            "Epoch: 76\t Train Loss: 21.415\t Val. Loss: 14.957\n",
            "Epoch: 77\t Train Loss: 15.213\t Val. Loss: 15.912\n",
            "Epoch: 78\t Train Loss: 13.419\t Val. Loss: 12.905\n",
            "Epoch: 79\t Train Loss: 15.193\t Val. Loss: 14.922\n",
            "Epoch: 80\t Train Loss: 13.597\t Val. Loss: 12.175\n",
            "Epoch: 81\t Train Loss: 14.652\t Val. Loss: 11.001\n",
            "Epoch: 82\t Train Loss: 12.379\t Val. Loss: 10.179\n",
            "Epoch: 83\t Train Loss: 12.872\t Val. Loss: 10.932\n",
            "Epoch: 84\t Train Loss: 12.361\t Val. Loss: 11.185\n",
            "Epoch: 85\t Train Loss: 12.263\t Val. Loss: 10.126\n",
            "Epoch: 86\t Train Loss: 11.922\t Val. Loss: 10.817\n",
            "Epoch: 87\t Train Loss: 12.154\t Val. Loss: 10.776\n",
            "Epoch: 88\t Train Loss: 11.192\t Val. Loss: 9.748\n",
            "Epoch: 89\t Train Loss: 10.707\t Val. Loss: 9.838\n",
            "Epoch: 90\t Train Loss: 12.047\t Val. Loss: 9.831\n",
            "Epoch: 91\t Train Loss: 11.148\t Val. Loss: 9.805\n",
            "Epoch: 92\t Train Loss: 11.232\t Val. Loss: 9.565\n",
            "Epoch: 93\t Train Loss: 10.434\t Val. Loss: 9.598\n",
            "Epoch: 94\t Train Loss: 10.564\t Val. Loss: 9.604\n",
            "Epoch: 95\t Train Loss: 10.452\t Val. Loss: 9.349\n",
            "Val loss decreased (9.316041 --> 9.311764).  Saving model ...\n",
            "Epoch: 96\t Train Loss: 10.088\t Val. Loss: 9.312\n",
            "Val loss decreased (9.311764 --> 9.236604).  Saving model ...\n",
            "Epoch: 97\t Train Loss: 9.997\t Val. Loss: 9.237\n",
            "Val loss decreased (9.236604 --> 9.155556).  Saving model ...\n",
            "Epoch: 98\t Train Loss: 9.891\t Val. Loss: 9.156\n",
            "Val loss decreased (9.155556 --> 9.148669).  Saving model ...\n",
            "Epoch: 99\t Train Loss: 10.023\t Val. Loss: 9.149\n",
            "Epoch: 100\t Train Loss: 19.287\t Val. Loss: 11.757\n",
            "Epoch: 101\t Train Loss: 18.769\t Val. Loss: 33.020\n",
            "Epoch: 102\t Train Loss: 17.037\t Val. Loss: 12.989\n",
            "Epoch: 103\t Train Loss: 16.109\t Val. Loss: 13.797\n",
            "Epoch: 104\t Train Loss: 18.591\t Val. Loss: 16.223\n",
            "Epoch: 105\t Train Loss: 16.940\t Val. Loss: 16.346\n",
            "Epoch: 106\t Train Loss: 19.222\t Val. Loss: 11.787\n",
            "Epoch: 107\t Train Loss: 18.462\t Val. Loss: 13.873\n",
            "Epoch: 108\t Train Loss: 14.848\t Val. Loss: 16.639\n"
          ],
          "name": "stdout"
        }
      ]
    },
    {
      "cell_type": "markdown",
      "metadata": {
        "id": "IiSCqyhijWzd",
        "colab_type": "text"
      },
      "source": [
        "### Test results"
      ]
    },
    {
      "cell_type": "code",
      "metadata": {
        "id": "9vKyR0Rq1JxW",
        "colab_type": "code",
        "colab": {}
      },
      "source": [
        "mse_test = test(model, criterion)\n",
        "print(\"MSE Test loss: {:.3f}\".format(np.mean(mse_test)))\n",
        "rmse_test = test(model, RMSELoss)\n",
        "print(\"RMSE Test loss: {:.3f}\".format(np.mean(rmse_test)))"
      ],
      "execution_count": 0,
      "outputs": []
    },
    {
      "cell_type": "code",
      "metadata": {
        "id": "0GTtrISY_Xru",
        "colab_type": "code",
        "colab": {}
      },
      "source": [
        "import matplotlib.pyplot as plt\n",
        "def plot_curve(model):\n",
        "  model.load_state_dict(torch.load('content/models/model.pt'))\n",
        "  model.eval()\n",
        "  with torch.no_grad():\n",
        "      for batch in test_data_loader:\n",
        "        temporal, configs, targets = preprocess_batch(batch)\n",
        "        output = model([temporal, configs], targets, 0)\n",
        "        output = output.squeeze()\n",
        "        output = torch.t(output)\n",
        "        plt.plot(np.arange(51),targets[2],c='g')\n",
        "        plt.plot(np.arange(51),output[2],c='r')\n",
        "        plt.show()\n",
        "        break\n",
        "\n",
        "plot_curve(model)"
      ],
      "execution_count": 0,
      "outputs": []
    }
  ]
}