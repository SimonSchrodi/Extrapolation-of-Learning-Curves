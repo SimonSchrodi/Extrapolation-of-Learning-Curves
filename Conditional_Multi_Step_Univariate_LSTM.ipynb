{
  "nbformat": 4,
  "nbformat_minor": 0,
  "metadata": {
    "kernelspec": {
      "name": "python3",
      "display_name": "Python 3"
    },
    "language_info": {
      "codemirror_mode": {
        "name": "ipython",
        "version": 3
      },
      "file_extension": ".py",
      "mimetype": "text/x-python",
      "name": "python",
      "nbconvert_exporter": "python",
      "pygments_lexer": "ipython3",
      "version": "3.6.0"
    },
    "colab": {
      "name": "Conditional Multi-Step Univariate LSTM.ipynb",
      "provenance": [],
      "collapsed_sections": [
        "x5tMN7p1iqoZ",
        "IiSCqyhijWzd"
      ]
    },
    "accelerator": "GPU"
  },
  "cells": [
    {
      "cell_type": "markdown",
      "metadata": {
        "id": "oJd_VxDKN8pn",
        "colab_type": "text"
      },
      "source": [
        "# Task A: Creating a Performance Predictor\n",
        "\n",
        "In this task, you will use training data from 2000 configurations on a single OpenML dataset to train a performance predictor. The data will be splitted into train, test and validation set and we will only use the first 10 epochs of the learning curves for predicitons. You are provided with the full benchmark logs for Fashion-MNIST, that is learning curves, config parameters and gradient statistics, and you can use them freely.\n",
        "\n",
        "For questions, you can contact zimmerl@informatik.uni-freiburg.\n",
        "\n",
        "__Note: Please use the dataloading and splits you are provided with in this notebook.__"
      ]
    },
    {
      "cell_type": "markdown",
      "metadata": {
        "id": "cqPBWpd5N8pt",
        "colab_type": "text"
      },
      "source": [
        "## Specifications:\n",
        "\n",
        "* Data: fashion_mnist.json\n",
        "* Number of datasets: 1\n",
        "* Number of configurations: 2000\n",
        "* Number of epochs seed during prediction: 10\n",
        "* Available data: Learning curves, architecture parameters and hyperparameters, gradient statistics \n",
        "* Target: Final validation accuracy\n",
        "* Evaluation metric: MSE"
      ]
    },
    {
      "cell_type": "markdown",
      "metadata": {
        "id": "4eYlSG9BN8py",
        "colab_type": "text"
      },
      "source": [
        "## Importing and splitting data\n",
        "\n",
        "__Note__: There are 51 steps logged, 50 epochs plus the 0th epoch, prior to any weight updates."
      ]
    },
    {
      "cell_type": "code",
      "metadata": {
        "id": "OX6ZD931iPpX",
        "colab_type": "code",
        "outputId": "8eeaff4d-32f0-4002-c090-a9a44010872b",
        "colab": {
          "base_uri": "https://localhost:8080/",
          "height": 481
        }
      },
      "source": [
        "!pip install torchvision\n",
        "!pip install hpbandster"
      ],
      "execution_count": 6,
      "outputs": [
        {
          "output_type": "stream",
          "text": [
            "Requirement already satisfied: torchvision in /usr/local/lib/python3.6/dist-packages (0.5.0)\n",
            "Requirement already satisfied: numpy in /usr/local/lib/python3.6/dist-packages (from torchvision) (1.17.5)\n",
            "Requirement already satisfied: pillow>=4.1.1 in /usr/local/lib/python3.6/dist-packages (from torchvision) (6.2.2)\n",
            "Requirement already satisfied: torch==1.4.0 in /usr/local/lib/python3.6/dist-packages (from torchvision) (1.4.0)\n",
            "Requirement already satisfied: six in /usr/local/lib/python3.6/dist-packages (from torchvision) (1.12.0)\n",
            "Processing /root/.cache/pip/wheels/9d/57/62/6b00c8011bac96e0c404adc5be4e16964ba4544614240b4e23/hpbandster-0.7.4-cp36-none-any.whl\n",
            "Collecting Pyro4\n",
            "  Using cached https://files.pythonhosted.org/packages/e5/24/123d570d039bbe167f266025c2551683e115ffa475ed5d66208b0c8c97c1/Pyro4-4.78-py2.py3-none-any.whl\n",
            "Requirement already satisfied: statsmodels in /usr/local/lib/python3.6/dist-packages (from hpbandster) (0.10.2)\n",
            "Requirement already satisfied: scipy in /usr/local/lib/python3.6/dist-packages (from hpbandster) (1.4.1)\n",
            "Collecting netifaces\n",
            "  Using cached https://files.pythonhosted.org/packages/0c/9b/c4c7eb09189548d45939a3d3a6b3d53979c67d124459b27a094c365c347f/netifaces-0.10.9-cp36-cp36m-manylinux1_x86_64.whl\n",
            "Collecting serpent\n",
            "  Using cached https://files.pythonhosted.org/packages/b4/a1/24871492bfc34ea18aee3bf38e0cee22d8c11d8d5e765ccc921103140747/serpent-1.30.2-py3-none-any.whl\n",
            "Requirement already satisfied: numpy in /usr/local/lib/python3.6/dist-packages (from hpbandster) (1.17.5)\n",
            "Processing /root/.cache/pip/wheels/ae/b2/85/feafec2387f97065d914a72c42ff3a0f6f60d8e1fd03c6bd4b/ConfigSpace-0.4.12-cp36-cp36m-linux_x86_64.whl\n",
            "Requirement already satisfied: patsy>=0.4.0 in /usr/local/lib/python3.6/dist-packages (from statsmodels->hpbandster) (0.5.1)\n",
            "Requirement already satisfied: pandas>=0.19 in /usr/local/lib/python3.6/dist-packages (from statsmodels->hpbandster) (0.25.3)\n",
            "Requirement already satisfied: cython in /usr/local/lib/python3.6/dist-packages (from ConfigSpace->hpbandster) (0.29.14)\n",
            "Requirement already satisfied: pyparsing in /usr/local/lib/python3.6/dist-packages (from ConfigSpace->hpbandster) (2.4.6)\n",
            "Requirement already satisfied: six in /usr/local/lib/python3.6/dist-packages (from patsy>=0.4.0->statsmodels->hpbandster) (1.12.0)\n",
            "Requirement already satisfied: pytz>=2017.2 in /usr/local/lib/python3.6/dist-packages (from pandas>=0.19->statsmodels->hpbandster) (2018.9)\n",
            "Requirement already satisfied: python-dateutil>=2.6.1 in /usr/local/lib/python3.6/dist-packages (from pandas>=0.19->statsmodels->hpbandster) (2.6.1)\n",
            "Installing collected packages: serpent, Pyro4, netifaces, ConfigSpace, hpbandster\n",
            "Successfully installed ConfigSpace-0.4.12 Pyro4-4.78 hpbandster-0.7.4 netifaces-0.10.9 serpent-1.30.2\n"
          ],
          "name": "stdout"
        }
      ]
    },
    {
      "cell_type": "code",
      "metadata": {
        "id": "aT8tEKUJOqNy",
        "colab_type": "code",
        "outputId": "567ac7ac-4d8b-444d-cad7-71ee980c9089",
        "colab": {
          "base_uri": "https://localhost:8080/",
          "height": 268
        }
      },
      "source": [
        "!pip install wget\n",
        "!pip install zipfile36"
      ],
      "execution_count": 2,
      "outputs": [
        {
          "output_type": "stream",
          "text": [
            "Collecting wget\n",
            "  Downloading https://files.pythonhosted.org/packages/47/6a/62e288da7bcda82b935ff0c6cfe542970f04e29c756b0e147251b2fb251f/wget-3.2.zip\n",
            "Building wheels for collected packages: wget\n",
            "  Building wheel for wget (setup.py) ... \u001b[?25l\u001b[?25hdone\n",
            "  Created wheel for wget: filename=wget-3.2-cp36-none-any.whl size=9682 sha256=4eb4570024b04e68dc7c2bb375e4a5c16a497cb85d20707d1d853c088ba61629\n",
            "  Stored in directory: /root/.cache/pip/wheels/40/15/30/7d8f7cea2902b4db79e3fea550d7d7b85ecb27ef992b618f3f\n",
            "Successfully built wget\n",
            "Installing collected packages: wget\n",
            "Successfully installed wget-3.2\n",
            "Collecting zipfile36\n",
            "  Downloading https://files.pythonhosted.org/packages/fd/8a/3b7da0b0bd87d1ef05b74207827c72d348b56a0d6d83242582be18a81e02/zipfile36-0.1.3-py3-none-any.whl\n",
            "Installing collected packages: zipfile36\n",
            "Successfully installed zipfile36-0.1.3\n"
          ],
          "name": "stdout"
        }
      ]
    },
    {
      "cell_type": "code",
      "metadata": {
        "id": "-GSY73FpOPdD",
        "colab_type": "code",
        "outputId": "4b293af4-a3e8-4094-df1b-ad0f76c9bf8a",
        "colab": {
          "base_uri": "https://localhost:8080/",
          "height": 35
        }
      },
      "source": [
        "import wget\n",
        "import zipfile\n",
        "dir_path = 'content/'\n",
        "filename=wget.download('https://ndownloader.figshare.com/files/21001311')\n",
        "with zipfile.ZipFile(filename, 'r') as zip_ref:\n",
        "    zip_ref.extractall(\"\")\n",
        "!rm fashion_mnist.zip\n",
        "wget.download('https://raw.githubusercontent.com/automl/LCBench/master/api.py')\n",
        "wget.download('https://raw.githubusercontent.com/infomon/Extrapolation-of-Learning-Curves/master/utils.py')\n",
        "!mkdir content/models\n",
        "!mkdir models"
      ],
      "execution_count": 3,
      "outputs": [
        {
          "output_type": "stream",
          "text": [
            "mkdir: cannot create directory ‘content/models’: No such file or directory\n"
          ],
          "name": "stdout"
        }
      ]
    },
    {
      "cell_type": "code",
      "metadata": {
        "id": "ql1OqCfgN8p4",
        "colab_type": "code",
        "colab": {}
      },
      "source": [
        "%%capture\n",
        "%cd ..\n",
        "import numpy as np\n",
        "from sklearn.model_selection import train_test_split\n",
        "from sklearn.metrics import mean_squared_error\n",
        "import matplotlib.pyplot as plt\n",
        "\n",
        "from content.api import Benchmark\n",
        "import content.utils as utils\n",
        "import torch\n",
        "\n",
        "import os"
      ],
      "execution_count": 0,
      "outputs": []
    },
    {
      "cell_type": "code",
      "metadata": {
        "id": "QKGiEJ_IidBk",
        "colab_type": "code",
        "colab": {}
      },
      "source": [
        "import ConfigSpace as CS\n",
        "import ConfigSpace.hyperparameters as CSH\n",
        "\n",
        "import pickle\n",
        "import logging\n",
        "\n",
        "from hpbandster.core.worker import Worker\n",
        "import hpbandster.core.nameserver as hpns\n",
        "import hpbandster.core.result as hpres\n",
        "from hpbandster.optimizers import BOHB\n",
        "\n",
        "logging.getLogger('hpbandster').setLevel(logging.DEBUG)"
      ],
      "execution_count": 0,
      "outputs": []
    },
    {
      "cell_type": "code",
      "metadata": {
        "id": "e2sQv_05N8qJ",
        "colab_type": "code",
        "outputId": "04555dce-f48b-41b1-c2d6-c1614739b6b5",
        "colab": {
          "base_uri": "https://localhost:8080/",
          "height": 88
        }
      },
      "source": [
        "bench_dir = dir_path+\"fashion_mnist.json\"\n",
        "bench = Benchmark(bench_dir, cache=False)"
      ],
      "execution_count": 8,
      "outputs": [
        {
          "output_type": "stream",
          "text": [
            "==> Loading data...\n",
            "==> No cached data found or cache set to False.\n",
            "==> Reading json data...\n",
            "==> Done.\n"
          ],
          "name": "stdout"
        }
      ]
    },
    {
      "cell_type": "code",
      "metadata": {
        "id": "9eq4DxuuN8qe",
        "colab_type": "code",
        "outputId": "b14f8b02-a4f4-4e3a-86f0-931bec3bad46",
        "colab": {
          "base_uri": "https://localhost:8080/",
          "height": 70
        }
      },
      "source": [
        "# Read data\n",
        "def cut_data(data, cut_position):\n",
        "    targets = []\n",
        "    for dp in data:\n",
        "        targets.append(dp[\"Train/val_accuracy\"][50])\n",
        "        for tag in dp:\n",
        "            if tag.startswith(\"Train/\"):\n",
        "                dp[tag] = dp[tag][0:cut_position]\n",
        "    return data, targets\n",
        "\n",
        "def read_data():\n",
        "    dataset_name = 'Fashion-MNIST'\n",
        "    n_configs = bench.get_number_of_configs(dataset_name)\n",
        "    \n",
        "    # Query API\n",
        "    data = []\n",
        "    for config_id in range(n_configs):\n",
        "        data_point = dict()\n",
        "        data_point[\"config\"] = bench.query(dataset_name=dataset_name, tag=\"config\", config_id=config_id)\n",
        "        for tag in bench.get_queriable_tags(dataset_name=dataset_name, config_id=config_id):\n",
        "            if tag.startswith(\"Train/\"):\n",
        "                data_point[tag] = bench.query(dataset_name=dataset_name, tag=tag, config_id=config_id)    \n",
        "        data.append(data_point)\n",
        "        \n",
        "    # Split: 50% train, 25% validation, 25% test (the data is already shuffled)\n",
        "    indices = np.arange(n_configs)\n",
        "    ind_train = indices[0:int(np.floor(0.5*n_configs))]\n",
        "    ind_val = indices[int(np.floor(0.5*n_configs)):int(np.floor(0.75*n_configs))]\n",
        "    ind_test = indices[int(np.floor(0.75*n_configs)):]\n",
        "\n",
        "    array_data = np.array(data)\n",
        "    train_data = array_data[ind_train]\n",
        "    val_data = array_data[ind_val]\n",
        "    test_data = array_data[ind_test]\n",
        "    \n",
        "    # Cut curves for validation and test\n",
        "    cut_position = 11\n",
        "    #val_data, val_targets = cut_data(val_data, cut_position)\n",
        "    #test_data, test_targets = cut_data(test_data, cut_position)\n",
        "    val_data, val_targets = cut_data(val_data, 51)\n",
        "    test_data, test_targets = cut_data(test_data, 51)\n",
        "    train_data, train_targets = cut_data(train_data, 51)   # Cut last value as it is repeated\n",
        "    \n",
        "    return train_data, val_data, test_data, train_targets, val_targets, test_targets\n",
        "    \n",
        "train_data, val_data, test_data, train_targets, val_targets, test_targets = read_data()\n",
        "\n",
        "print(\"Train:\", len(train_data))\n",
        "print(\"Validation:\", len(val_data))\n",
        "print(\"Test:\", len(test_data))"
      ],
      "execution_count": 9,
      "outputs": [
        {
          "output_type": "stream",
          "text": [
            "Train: 1000\n",
            "Validation: 500\n",
            "Test: 500\n"
          ],
          "name": "stdout"
        }
      ]
    },
    {
      "cell_type": "markdown",
      "metadata": {
        "id": "9PphdZ2aN8qv",
        "colab_type": "text"
      },
      "source": [
        "The data contains the configuration of the trained model and learning curves as well as global and layer-wise gradient statistics.\n",
        "\n",
        "__Note__: Not all parameters vary across different configurations. The varying parameters are batch_size, max_dropout, max_units, num_layers, learning_rate, momentum, weight_decay"
      ]
    },
    {
      "cell_type": "markdown",
      "metadata": {
        "id": "x5tMN7p1iqoZ",
        "colab_type": "text"
      },
      "source": [
        "## Sample use of data"
      ]
    },
    {
      "cell_type": "code",
      "metadata": {
        "id": "Ybnns3VKN8q0",
        "colab_type": "code",
        "outputId": "52e77e22-fd95-46dc-f3f7-a8f1b9e9e65e",
        "colab": {
          "base_uri": "https://localhost:8080/",
          "height": 0
        }
      },
      "source": [
        "# Config\n",
        "print(\"Config example:\", train_data[0][\"config\"])"
      ],
      "execution_count": 10,
      "outputs": [
        {
          "output_type": "stream",
          "text": [
            "Config example: {'batch_size': 71, 'imputation_strategy': 'mean', 'learning_rate_scheduler': 'cosine_annealing', 'loss': 'cross_entropy_weighted', 'network': 'shapedmlpnet', 'max_dropout': 0.025926231827891333, 'normalization_strategy': 'standardize', 'optimizer': 'sgd', 'cosine_annealing_T_max': 50, 'cosine_annealing_eta_min': 1e-08, 'activation': 'relu', 'max_units': 293, 'mlp_shape': 'funnel', 'num_layers': 3, 'learning_rate': 0.0018243300267253295, 'momentum': 0.21325193168301043, 'weight_decay': 0.020472816917443872}\n"
          ],
          "name": "stdout"
        }
      ]
    },
    {
      "cell_type": "code",
      "metadata": {
        "id": "Ua6h3ORrlA5N",
        "colab_type": "code",
        "outputId": "7f556b6a-2226-4277-9ae5-0e750d4b7600",
        "colab": {
          "base_uri": "https://localhost:8080/",
          "height": 0
        }
      },
      "source": [
        "train_data[1][\"config\"]"
      ],
      "execution_count": 11,
      "outputs": [
        {
          "output_type": "execute_result",
          "data": {
            "text/plain": [
              "{'activation': 'relu',\n",
              " 'batch_size': 457,\n",
              " 'cosine_annealing_T_max': 50,\n",
              " 'cosine_annealing_eta_min': 1e-08,\n",
              " 'imputation_strategy': 'mean',\n",
              " 'learning_rate': 0.01239328605026128,\n",
              " 'learning_rate_scheduler': 'cosine_annealing',\n",
              " 'loss': 'cross_entropy_weighted',\n",
              " 'max_dropout': 0.5472322491757223,\n",
              " 'max_units': 950,\n",
              " 'mlp_shape': 'funnel',\n",
              " 'momentum': 0.16411425552061212,\n",
              " 'network': 'shapedmlpnet',\n",
              " 'normalization_strategy': 'standardize',\n",
              " 'num_layers': 4,\n",
              " 'optimizer': 'sgd',\n",
              " 'weight_decay': 0.09762768273307641}"
            ]
          },
          "metadata": {
            "tags": []
          },
          "execution_count": 11
        }
      ]
    },
    {
      "cell_type": "code",
      "metadata": {
        "id": "pTl67TOTN8rD",
        "colab_type": "code",
        "outputId": "3cfd0e25-512b-4544-cdb6-8a121428ae1b",
        "colab": {
          "base_uri": "https://localhost:8080/",
          "height": 0
        }
      },
      "source": [
        "# Learning curve\n",
        "plt.plot(train_data[10][\"Train/val_accuracy\"])"
      ],
      "execution_count": 12,
      "outputs": [
        {
          "output_type": "execute_result",
          "data": {
            "text/plain": [
              "[<matplotlib.lines.Line2D at 0x7ff14ebb5630>]"
            ]
          },
          "metadata": {
            "tags": []
          },
          "execution_count": 12
        },
        {
          "output_type": "display_data",
          "data": {
            "image/png": "[encoded data removed]",
            "text/plain": [
              "<Figure size 432x288 with 1 Axes>"
            ]
          },
          "metadata": {
            "tags": []
          }
        }
      ]
    },
    {
      "cell_type": "code",
      "metadata": {
        "id": "zXGuPeBKN8rM",
        "colab_type": "code",
        "outputId": "2e084e4e-1027-4a0a-e2a5-92c4c7a79b8b",
        "colab": {
          "base_uri": "https://localhost:8080/",
          "height": 0
        }
      },
      "source": [
        "# Gradient statistics\n",
        "plt.plot(train_data[10][\"Train/layer_wise_gradient_mean_layer_0\"])"
      ],
      "execution_count": 13,
      "outputs": [
        {
          "output_type": "execute_result",
          "data": {
            "text/plain": [
              "[<matplotlib.lines.Line2D at 0x7ff14e67ea58>]"
            ]
          },
          "metadata": {
            "tags": []
          },
          "execution_count": 13
        },
        {
          "output_type": "display_data",
          "data": {
            "image/png": "[encoded data removed]",
            "text/plain": [
              "<Figure size 432x288 with 1 Axes>"
            ]
          },
          "metadata": {
            "tags": []
          }
        }
      ]
    },
    {
      "cell_type": "markdown",
      "metadata": {
        "id": "IaYC_PH4N8rQ",
        "colab_type": "text"
      },
      "source": [
        "## A simple baseline"
      ]
    },
    {
      "cell_type": "code",
      "metadata": {
        "id": "WJrvEgLzN8rS",
        "colab_type": "code",
        "colab": {}
      },
      "source": [
        "class SimpleLearningCurvePredictor():\n",
        "    \"\"\"A learning curve predictor that predicts the last observed epoch of the validation accuracy as final performance\"\"\"\n",
        "    \n",
        "    def __init__(self):\n",
        "        pass\n",
        "        \n",
        "    def fit(self, X, y):\n",
        "        pass\n",
        "    \n",
        "    def predict(self, X):\n",
        "        predictions = []\n",
        "        for datapoint in X:\n",
        "            predictions.append(datapoint[\"Train/val_accuracy\"][-1])\n",
        "        return predictions\n",
        "    \n",
        "def score(y_true, y_pred):\n",
        "    return mean_squared_error(y_true, y_pred)"
      ],
      "execution_count": 0,
      "outputs": []
    },
    {
      "cell_type": "code",
      "metadata": {
        "id": "d23UZhgHN8rW",
        "colab_type": "code",
        "outputId": "2d6fa30a-16ea-4b38-8fc9-321cb956ad28",
        "colab": {
          "base_uri": "https://localhost:8080/",
          "height": 35
        }
      },
      "source": [
        "# Training & tuning\n",
        "predictor = SimpleLearningCurvePredictor()\n",
        "predictor.fit(train_data, train_targets)\n",
        "preds = predictor.predict(val_data)\n",
        "mse = score(val_targets, preds)\n",
        "print(\"Score on validation set:\", mse)"
      ],
      "execution_count": 15,
      "outputs": [
        {
          "output_type": "stream",
          "text": [
            "Score on validation set: 0.0\n"
          ],
          "name": "stdout"
        }
      ]
    },
    {
      "cell_type": "code",
      "metadata": {
        "id": "NMWiY0XbN8rc",
        "colab_type": "code",
        "outputId": "e4d59dfe-ad0b-4ed1-b103-912e5cc0885a",
        "colab": {
          "base_uri": "https://localhost:8080/",
          "height": 35
        }
      },
      "source": [
        "# Final evaluation (after tuning)\n",
        "final_preds = predictor.predict(test_data)\n",
        "final_score = score(test_targets, final_preds)\n",
        "print(\"Final test score:\", final_score)"
      ],
      "execution_count": 16,
      "outputs": [
        {
          "output_type": "stream",
          "text": [
            "Final test score: 0.0\n"
          ],
          "name": "stdout"
        }
      ]
    },
    {
      "cell_type": "markdown",
      "metadata": {
        "id": "fNOcxEQji6du",
        "colab_type": "text"
      },
      "source": [
        "## Conditional Multi-Step Univariate LSTM"
      ]
    },
    {
      "cell_type": "markdown",
      "metadata": {
        "id": "dqojlKAujgIt",
        "colab_type": "text"
      },
      "source": [
        "### Data Preperation"
      ]
    },
    {
      "cell_type": "code",
      "metadata": {
        "id": "VnEQJbbLyGG2",
        "colab_type": "code",
        "colab": {}
      },
      "source": [
        "train_data_loader = utils.prep_data(train_data, train_targets, batch_size=32,normalization_factor_temporal_data=[100], one_shot=True)\n",
        "val_data_loader = utils.prep_data(val_data, val_targets, batch_size=32,normalization_factor_temporal_data=[100], one_shot=True)\n",
        "test_data_loader = utils.prep_data(test_data, test_targets, batch_size=32,normalization_factor_temporal_data=[100],one_shot=True)"
      ],
      "execution_count": 0,
      "outputs": []
    },
    {
      "cell_type": "markdown",
      "metadata": {
        "id": "lt-kazBujFr0",
        "colab_type": "text"
      },
      "source": [
        "### Models"
      ]
    },
    {
      "cell_type": "code",
      "metadata": {
        "id": "YBGim3i6CoCK",
        "colab_type": "code",
        "colab": {}
      },
      "source": [
        "class EncoderRNN(torch.nn.Module):\n",
        "    def __init__(self, input_size, hidden_size, nof_configs, num_layers, dropout = 0.5, bidirectional=False):\n",
        "        super(EncoderRNN, self).__init__()\n",
        "        \n",
        "        self.nof_configs = nof_configs\n",
        "        self.num_layers = num_layers\n",
        "        self.dropout = dropout\n",
        "        self.bidirectional = bidirectional\n",
        "        self.num_directions = 2 if bidirectional else 1\n",
        "        \n",
        "        self.hidden_size = hidden_size\n",
        "        self.lstm = torch.nn.LSTM(input_size=input_size, \n",
        "                                  hidden_size=hidden_size,\n",
        "                                  num_layers=num_layers,\n",
        "                                  dropout=dropout,\n",
        "                                  bidirectional=bidirectional)\n",
        "\n",
        "        self.relu = torch.nn.functional.relu\n",
        "\n",
        "        self.encode_fc1 = torch.nn.Linear(self.nof_configs,int(self.hidden_size/2))\n",
        "        self.encode_bn1 = torch.nn.BatchNorm1d(int(self.hidden_size/2))\n",
        "        self.encode_fc2 = torch.nn.Linear(int(self.hidden_size/2),self.hidden_size)\n",
        "        self.encode_bn2 = torch.nn.BatchNorm1d(self.hidden_size)\n",
        "\n",
        "    def forward(self, seq, config):\n",
        "        h0 = self.initHidden(config)\n",
        "        c0 = self.initCell(seq.size()[0])\n",
        "        seq = torch.t(seq)\n",
        "        seq = seq.unsqueeze(-1)\n",
        "        output, (hidden,cell) = self.lstm(seq, (h0,c0))\n",
        "        return output, hidden, cell\n",
        "\n",
        "    def initHidden(self, config):\n",
        "        x = self.relu(self.encode_bn1(self.encode_fc1(config)))\n",
        "        x = self.relu(self.encode_bn2(self.encode_fc2(x)))\n",
        "        return torch.stack([x for _ in range(self.num_layers*self.num_directions)])\n",
        "\n",
        "    def initCell(self, batch_size):\n",
        "        return torch.zeros(self.num_layers*self.num_directions, batch_size, self.hidden_size)"
      ],
      "execution_count": 0,
      "outputs": []
    },
    {
      "cell_type": "code",
      "metadata": {
        "id": "dErX6on9FYyy",
        "colab_type": "code",
        "colab": {}
      },
      "source": [
        "class DecoderRNN(torch.nn.Module):\n",
        "    def __init__(self, input_size, hidden_size, output_size, num_layers, dropout = 0.5):\n",
        "        super(DecoderRNN, self).__init__()\n",
        "        \n",
        "        self.output_size = output_size\n",
        "        self.num_layers = num_layers\n",
        "        self.dropout = dropout\n",
        "        \n",
        "        self.hidden_size = hidden_size\n",
        "        self.lstm = torch.nn.LSTM(input_size=input_size, \n",
        "                                  hidden_size=hidden_size,\n",
        "                                  num_layers=num_layers,\n",
        "                                  dropout=dropout,\n",
        "                                  bidirectional=False)\n",
        "        \n",
        "        self.fc_out = torch.nn.Linear(hidden_size, output_size)\n",
        "        self.relu = torch.nn.functional.relu\n",
        "\n",
        "    def forward(self, seq, h0, c0):\n",
        "        seq = seq.unsqueeze(0)\n",
        "        seq = seq.unsqueeze(-1)\n",
        "        output, (hidden,cell) = self.lstm(seq, (h0,c0))\n",
        "        output = self.fc_out(output)\n",
        "        return output.squeeze(), hidden, cell\n"
      ],
      "execution_count": 0,
      "outputs": []
    },
    {
      "cell_type": "code",
      "metadata": {
        "id": "Hwbesz1Slf4k",
        "colab_type": "code",
        "colab": {}
      },
      "source": [
        "class Seq2Seq(torch.nn.Module):\n",
        "  def __init__(self, encoder, decoder):\n",
        "    super(Seq2Seq, self).__init__()\n",
        "    self.encoder = encoder\n",
        "    self.decoder = decoder\n",
        "\n",
        "    assert encoder.hidden_size == decoder.hidden_size\n",
        "    #assert encoder.num_layers == decoder.num_layers\n",
        "\n",
        "  def forward(self, source, target, teacher_forcing_ratio = 0.5):\n",
        "    batch_size = target.size()[0]\n",
        "    target_len = target.size()[1]\n",
        "\n",
        "    outputs = torch.zeros(target_len, batch_size, 1)\n",
        "\n",
        "    seq , config = source\n",
        "    output, hidden, cell = self.encoder(seq, config)\n",
        "\n",
        "    decoder_input = target[:,0]\n",
        "    for t in range(1, target_len):\n",
        "      output, hidden, cell = self.decoder(decoder_input, hidden, cell)\n",
        "      outputs[t] = output.unsqueeze(-1)\n",
        "      use_teacher_forcing = np.random.random() < teacher_forcing_ratio\n",
        "      decoder_input = target[:,t] if use_teacher_forcing else output\n",
        "    return outputs"
      ],
      "execution_count": 0,
      "outputs": []
    },
    {
      "cell_type": "markdown",
      "metadata": {
        "id": "flpCWz4sjL2P",
        "colab_type": "text"
      },
      "source": [
        "### Train, eval & test"
      ]
    },
    {
      "cell_type": "code",
      "metadata": {
        "id": "sk5Jat93mO_l",
        "colab_type": "code",
        "colab": {}
      },
      "source": [
        "def train(model, optimizer, criterion, clip=5):\n",
        "    model.train()\n",
        "    epoch_loss = []\n",
        "    for val_acc, configs, targets in train_data_loader:\n",
        "      optimizer.zero_grad()\n",
        "      output = model([val_acc,configs],targets)\n",
        "      output = output.squeeze()\n",
        "      output = torch.t(output)\n",
        "      loss = criterion(output, targets)\n",
        "      loss.backward()\n",
        "      torch.nn.utils.clip_grad_norm_(model.parameters(),clip)\n",
        "      optimizer.step()\n",
        "      epoch_loss.append(loss.item())\n",
        "    return np.array(epoch_loss).mean()"
      ],
      "execution_count": 0,
      "outputs": []
    },
    {
      "cell_type": "code",
      "metadata": {
        "id": "7GulE-3SosoY",
        "colab_type": "code",
        "colab": {}
      },
      "source": [
        "def evaluate(model, criterion):\n",
        "  model.eval()\n",
        "  epoch_loss = []\n",
        "  with torch.no_grad():\n",
        "    for val_acc, configs, targets in val_data_loader:\n",
        "      output = model([val_acc, configs], targets, 0)\n",
        "      output = output.squeeze()\n",
        "      output = torch.t(output)\n",
        "      loss = criterion(output, targets)\n",
        "      epoch_loss.append(loss.item())\n",
        "  return np.array(epoch_loss).mean()"
      ],
      "execution_count": 0,
      "outputs": []
    },
    {
      "cell_type": "code",
      "metadata": {
        "id": "f8R89hbqJp6t",
        "colab_type": "code",
        "colab": {}
      },
      "source": [
        "def RMSELoss(yhat,y):\n",
        "    return torch.sqrt(torch.mean((yhat-y)**2))"
      ],
      "execution_count": 0,
      "outputs": []
    },
    {
      "cell_type": "code",
      "metadata": {
        "id": "9OFaN6Rx1Njn",
        "colab_type": "code",
        "colab": {}
      },
      "source": [
        "def test(model, criterion):\n",
        "    model.load_state_dict(torch.load('content/models/model.pt'))\n",
        "    model.eval()\n",
        "    epoch_loss=[]\n",
        "    with torch.no_grad():\n",
        "      for val_acc, configs, targets in test_data_loader:\n",
        "        output = model([val_acc, configs], targets, 0)\n",
        "        output = output.squeeze()\n",
        "        output = torch.t(output)\n",
        "        loss = criterion(output[:,-1], targets[:,-1])\n",
        "        epoch_loss.append(loss.item())\n",
        "        \n",
        "    return np.array(epoch_loss).mean()"
      ],
      "execution_count": 0,
      "outputs": []
    },
    {
      "cell_type": "markdown",
      "metadata": {
        "id": "U5u3PuTVjrKx",
        "colab_type": "text"
      },
      "source": [
        "### BOHB"
      ]
    },
    {
      "cell_type": "code",
      "metadata": {
        "id": "dYUBJMijLLQB",
        "colab_type": "code",
        "colab": {}
      },
      "source": [
        "run_bohb=False"
      ],
      "execution_count": 0,
      "outputs": []
    },
    {
      "cell_type": "code",
      "metadata": {
        "id": "jR-Zp7gmnXU_",
        "colab_type": "code",
        "colab": {}
      },
      "source": [
        "def get_model(config):\n",
        "  def init_weights(m):\n",
        "    for name, param in m.named_parameters():\n",
        "      torch.nn.init.uniform_(param.data, -0.08, 0.08)\n",
        "  \n",
        "  input_size = 1\n",
        "  outcome_dim = 1\n",
        "  config_size = 7\n",
        "  bidirectional = bool(config['bidirectional'])\n",
        "  encoder = EncoderRNN(input_size, config['hidden_dim'], config_size, config['num_layers'],\n",
        "                       dropout=config['encoder_dropout'],bidirectional=bidirectional)\n",
        "  decoder = DecoderRNN(input_size, config['hidden_dim'], outcome_dim, \n",
        "                       num_layers=2*config['num_layers'] if bidirectional else config['num_layers'],dropout=config['decoder_dropout'])\n",
        "  model = Seq2Seq(encoder, decoder)\n",
        "  model.apply(init_weights)\n",
        "  return model"
      ],
      "execution_count": 0,
      "outputs": []
    },
    {
      "cell_type": "code",
      "metadata": {
        "id": "DdHviALlrSaU",
        "colab_type": "code",
        "colab": {}
      },
      "source": [
        "working_dir = os.curdir\n",
        "# minimum budget that BOHB uses\n",
        "min_budget = 30\n",
        "# largest budget BOHB will use\n",
        "max_budget = 200"
      ],
      "execution_count": 0,
      "outputs": []
    },
    {
      "cell_type": "code",
      "metadata": {
        "id": "WXq6mTaBjvWU",
        "colab_type": "code",
        "colab": {}
      },
      "source": [
        "class PyTorchWorker(Worker):\n",
        "    def __init__(self, **kwargs):\n",
        "        super().__init__(**kwargs)\n",
        "        self.train_loader, self.validation_loader, self.test_loader = train_data_loader, val_data_loader, test_data_loader\n",
        "\n",
        "    @staticmethod\n",
        "    def get_model(config: CS.Configuration) -> torch.nn.Module:\n",
        "        \"\"\" Define a configurable convolution model.\n",
        "            \n",
        "        See description of get_conv_model above for more details on the model.\n",
        "        \"\"\"\n",
        "        return get_model(config)\n",
        "        \n",
        "    @staticmethod\n",
        "    def get_configspace() -> CS.Configuration:\n",
        "        \"\"\" \n",
        "        Define a conditional hyperparameter search-space.\n",
        "        \"\"\"\n",
        "        cs = CS.ConfigurationSpace()\n",
        "        hidden_dim = CSH.UniformIntegerHyperparameter(\"hidden_dim\",lower=5,upper=500,log=True)\n",
        "        num_layers = CSH.UniformIntegerHyperparameter(\"num_layers\",lower=1,upper=5)\n",
        "        encoder_dropout = CSH.UniformFloatHyperparameter(\"encoder_dropout\",lower=0.1,upper=0.8)\n",
        "        decoder_dropout = CSH.UniformFloatHyperparameter(\"decoder_dropout\",lower=0.1,upper=0.8)\n",
        "        bidirectional = CSH.UniformIntegerHyperparameter(\"bidirectional\",lower=0,upper=1)\n",
        "\n",
        "        lr = CSH.UniformFloatHyperparameter(\"lr\",lower=1e-6,upper=1e-1,log=True)\n",
        "        weight_decay = CSH.UniformFloatHyperparameter(\"weight_decay\",lower=1e-6,upper=1e-1,log=True)\n",
        "        sgd_momentum = CSH.UniformFloatHyperparameter(\"sgd_momentum\",lower=0.00,upper=0.99)\n",
        "        optimizer = CSH.CategoricalHyperparameter('optimizer', choices=['Adam', 'SGD'])\n",
        "        \n",
        "        scheduler = CSH.CategoricalHyperparameter('scheduler', choices=['CosAnn', 'CosAnnWarm'])\n",
        "        T_max = CSH.UniformIntegerHyperparameter(\"T_max\",lower=10,upper=max_budget)\n",
        "        T_0 = CSH.UniformIntegerHyperparameter(\"T_0\",lower=10,upper=int(max_budget/3))\n",
        "\n",
        "        cs.add_hyperparameters([hidden_dim, num_layers, encoder_dropout, decoder_dropout, bidirectional,\n",
        "                                lr, weight_decay, sgd_momentum,optimizer,scheduler,T_max,T_0])\n",
        "    \n",
        "        condition1 = CS.EqualsCondition(sgd_momentum,optimizer,'SGD')\n",
        "        cs.add_condition(condition1)\n",
        "        condition2 = CS.EqualsCondition(T_max,scheduler,'CosAnn')\n",
        "        cs.add_condition(condition2)\n",
        "        condition3 = CS.EqualsCondition(T_0,scheduler,'CosAnnWarm')\n",
        "        cs.add_condition(condition3)\n",
        "        return cs\n",
        "\n",
        "    def compute(self, config: CS.Configuration, budget: float, working_directory: str,\n",
        "                *args, **kwargs) -> dict:\n",
        "        \"\"\"Evaluate a function with the given config and budget and return a loss.\n",
        "        \n",
        "        Bohb tries to minimize the returned loss.\n",
        "        \n",
        "        In our case the function is the training and validation of a model,\n",
        "        the budget is the number of epochs and the loss is the validation error.\n",
        "        \"\"\"\n",
        "        model = self.get_model(config)\n",
        "\n",
        "        if config['optimizer'] == 'Adam':\n",
        "          optimizer = torch.optim.Adam(model.parameters(), lr=config['lr'], weight_decay=config['weight_decay'])\n",
        "        else:\n",
        "          optimizer = torch.optim.SGD(model.parameters(), lr=config['lr'], momentum=config['sgd_momentum'])\n",
        "        \n",
        "        if config['scheduler'] == 'CosAnnWarm':\n",
        "          scheduler = torch.optim.lr_scheduler.CosineAnnealingWarmRestarts(optimizer, T_0=config['T_0'])\n",
        "        else:\n",
        "          scheduler = torch.optim.lr_scheduler.CosineAnnealingLR(optimizer, T_max=config['T_max'])\n",
        "\n",
        "        criterion = torch.nn.MSELoss()\n",
        "        clip = 5\n",
        "\n",
        "        for epoch in range(int(budget)):\n",
        "          loss = 0\n",
        "          model.train()\n",
        "          for val_acc, configs, targets in self.train_loader:\n",
        "            optimizer.zero_grad()\n",
        "            output = model([val_acc,configs],targets)\n",
        "            output = output.squeeze()\n",
        "            output = torch.t(output)\n",
        "            loss = criterion(output, targets)\n",
        "            loss.backward()\n",
        "            torch.nn.utils.clip_grad_norm_(model.parameters(),clip)\n",
        "            optimizer.step()\n",
        "          scheduler.step()\n",
        "        \n",
        "        train_loss = evaluate(model, self.train_loader)\n",
        "        validation_loss = evaluate(model, self.validation_loader)\n",
        "        test_loss = evaluate(model, self.test_loader)\n",
        "        \n",
        "        return ({\n",
        "                'loss': validation_loss,  # remember: HpBandSter minimizes the loss!\n",
        "                'info': {'test_loss': test_loss,\n",
        "                         'train_loss': train_loss,\n",
        "                         'validation_loss': validation_loss,\n",
        "                         'model': str(model)}\n",
        "                })"
      ],
      "execution_count": 0,
      "outputs": []
    },
    {
      "cell_type": "code",
      "metadata": {
        "id": "aWKQurHYsbkA",
        "colab_type": "code",
        "colab": {}
      },
      "source": [
        "if run_bohb:\n",
        "  worker = PyTorchWorker(run_id='0')\n",
        "  cs = worker.get_configspace()\n",
        "\n",
        "  config = cs.sample_configuration().get_dictionary()\n",
        "  print(config)\n",
        "\n",
        "  res = worker.compute(config=config, budget=min_budget, working_directory=working_dir)\n",
        "  print(res)"
      ],
      "execution_count": 0,
      "outputs": []
    },
    {
      "cell_type": "code",
      "metadata": {
        "id": "O50di5m_sfvm",
        "colab_type": "code",
        "colab": {}
      },
      "source": [
        "if run_bohb:\n",
        "  result_file = os.path.join(working_dir, 'bohb_result.pkl')\n",
        "  nic_name = 'lo0'\n",
        "  port = 0\n",
        "  run_id = 'bohb_run_1'\n",
        "  n_bohb_iterations = 12"
      ],
      "execution_count": 0,
      "outputs": []
    },
    {
      "cell_type": "code",
      "metadata": {
        "id": "rR8rgsM7wTdJ",
        "colab_type": "code",
        "colab": {}
      },
      "source": [
        "if run_bohb:\n",
        "  try:\n",
        "      # Start a nameserver\n",
        "      worker = PyTorchWorker(run_id='0')\n",
        "      ns = hpns.NameServer(run_id=run_id, host='127.0.0.1', port=port,\n",
        "                          working_directory=working_dir)\n",
        "      ns_host, ns_port = ns.start()\n",
        "      # Start local worker\n",
        "      w = PyTorchWorker(run_id=run_id, host='127.0.0.1', nameserver=ns_host,\n",
        "                        nameserver_port=ns_port, timeout=120)\n",
        "      w.run(background=True)\n",
        "\n",
        "      # Run an optimizer\n",
        "      bohb = BOHB(configspace=worker.get_configspace(),\n",
        "                  run_id=run_id,\n",
        "                  host='127.0.0.1',\n",
        "                  nameserver=ns_host,\n",
        "                  nameserver_port=ns_port,\n",
        "                  min_budget=min_budget, max_budget=max_budget)\n",
        "\n",
        "      result = bohb.run(n_iterations=n_bohb_iterations)\n",
        "      print(\"Write result to file {}\".format(result_file))\n",
        "      with open(result_file, 'wb') as f:\n",
        "          pickle.dump(result, f)\n",
        "  finally:\n",
        "      bohb.shutdown(shutdown_workers=True)\n",
        "      ns.shutdown()"
      ],
      "execution_count": 0,
      "outputs": []
    },
    {
      "cell_type": "markdown",
      "metadata": {
        "id": "ACwkRPySjTCu",
        "colab_type": "text"
      },
      "source": [
        "### Training Loop"
      ]
    },
    {
      "cell_type": "code",
      "metadata": {
        "id": "nsgAX8SUKpLI",
        "colab_type": "code",
        "colab": {}
      },
      "source": [
        "def init_weights(m):\n",
        "    for name, param in m.named_parameters():\n",
        "      torch.nn.init.uniform_(param.data, -0.08, 0.08)"
      ],
      "execution_count": 0,
      "outputs": []
    },
    {
      "cell_type": "code",
      "metadata": {
        "id": "i8TtwTZiKH2R",
        "colab_type": "code",
        "colab": {}
      },
      "source": [
        "epochs = 500\n",
        "\n",
        "  \n",
        "input_size = 1\n",
        "outcome_size = 1\n",
        "config_size = 7\n",
        "hidden_size=50\n",
        "encoder_dropout=0.5\n",
        "decoder_dropout=0.5\n",
        "num_layers=2\n",
        "bidirectional = True\n",
        "encoder = EncoderRNN(input_size, hidden_size=hidden_size, nof_configs=config_size, num_layers=num_layers,\n",
        "                      dropout=encoder_dropout,bidirectional=bidirectional)\n",
        "decoder = DecoderRNN(input_size, hidden_size=hidden_size, output_size=outcome_size, \n",
        "                      num_layers=2*num_layers if bidirectional else num_layers,dropout=decoder_dropout)\n",
        "model = Seq2Seq(encoder, decoder)\n",
        "model.apply(init_weights)\n",
        "\n",
        "criterion = torch.nn.MSELoss()\n",
        "optimizer = torch.optim.Adam(model.parameters(), lr=0.01, weight_decay=10e-3)\n",
        "scheduler = torch.optim.lr_scheduler.CosineAnnealingWarmRestarts(optimizer, T_0=50)"
      ],
      "execution_count": 0,
      "outputs": []
    },
    {
      "cell_type": "code",
      "metadata": {
        "id": "hqBLkuRznl9y",
        "colab_type": "code",
        "colab": {
          "base_uri": "https://localhost:8080/",
          "height": 1000
        },
        "outputId": "9247b94a-1b56-4457-8b7d-28fdb1c0cbc0"
      },
      "source": [
        "best_val_loss = float('inf')\n",
        "\n",
        "for epoch in range(epochs):\n",
        "  train_loss = train(model, optimizer, criterion)\n",
        "  val_loss = evaluate(model, criterion)\n",
        "\n",
        "  if val_loss < best_val_loss:\n",
        "    torch.save(model.state_dict(),\"content/models/model.pt\")    \n",
        "    print('Val loss decreased ({:.6f} --> {:.6f}).  Saving model ...'.format(best_val_loss,val_loss))\n",
        "    best_val_loss = val_loss\n",
        "\n",
        "  print(f'Epoch: {epoch}\\t Train Loss: {train_loss:.3f}\\t Val. Loss: {val_loss:.3f}')\n",
        "  scheduler.step()"
      ],
      "execution_count": 57,
      "outputs": [
        {
          "output_type": "stream",
          "text": [
            "Val loss decreased (inf --> 3582.461945).  Saving model ...\n",
            "Epoch: 0\t Train Loss: 4720.527\t Val. Loss: 3582.462\n",
            "Val loss decreased (3582.461945 --> 1910.862183).  Saving model ...\n",
            "Epoch: 1\t Train Loss: 2739.413\t Val. Loss: 1910.862\n",
            "Val loss decreased (1910.862183 --> 794.515984).  Saving model ...\n",
            "Epoch: 2\t Train Loss: 1341.020\t Val. Loss: 794.516\n",
            "Val loss decreased (794.515984 --> 207.986318).  Saving model ...\n",
            "Epoch: 3\t Train Loss: 484.728\t Val. Loss: 207.986\n",
            "Val loss decreased (207.986318 --> 103.715823).  Saving model ...\n",
            "Epoch: 4\t Train Loss: 150.725\t Val. Loss: 103.716\n",
            "Epoch: 5\t Train Loss: 119.966\t Val. Loss: 170.303\n",
            "Epoch: 6\t Train Loss: 130.518\t Val. Loss: 115.142\n",
            "Epoch: 7\t Train Loss: 61.341\t Val. Loss: 213.994\n",
            "Val loss decreased (103.715823 --> 28.630703).  Saving model ...\n",
            "Epoch: 8\t Train Loss: 70.895\t Val. Loss: 28.631\n",
            "Epoch: 9\t Train Loss: 32.823\t Val. Loss: 29.661\n",
            "Val loss decreased (28.630703 --> 17.456374).  Saving model ...\n",
            "Epoch: 10\t Train Loss: 27.093\t Val. Loss: 17.456\n",
            "Epoch: 11\t Train Loss: 22.747\t Val. Loss: 23.888\n",
            "Epoch: 12\t Train Loss: 20.773\t Val. Loss: 21.208\n",
            "Epoch: 13\t Train Loss: 20.571\t Val. Loss: 18.424\n",
            "Val loss decreased (17.456374 --> 15.796952).  Saving model ...\n",
            "Epoch: 14\t Train Loss: 28.741\t Val. Loss: 15.797\n",
            "Val loss decreased (15.796952 --> 14.948881).  Saving model ...\n",
            "Epoch: 15\t Train Loss: 19.840\t Val. Loss: 14.949\n",
            "Epoch: 16\t Train Loss: 19.309\t Val. Loss: 17.429\n",
            "Epoch: 17\t Train Loss: 18.700\t Val. Loss: 16.454\n",
            "Val loss decreased (14.948881 --> 12.801527).  Saving model ...\n",
            "Epoch: 18\t Train Loss: 16.433\t Val. Loss: 12.802\n",
            "Epoch: 19\t Train Loss: 17.495\t Val. Loss: 27.544\n",
            "Epoch: 20\t Train Loss: 20.654\t Val. Loss: 15.640\n",
            "Epoch: 21\t Train Loss: 20.183\t Val. Loss: 28.786\n",
            "Val loss decreased (12.801527 --> 12.044409).  Saving model ...\n",
            "Epoch: 22\t Train Loss: 16.198\t Val. Loss: 12.044\n",
            "Epoch: 23\t Train Loss: 16.667\t Val. Loss: 17.385\n",
            "Epoch: 24\t Train Loss: 17.479\t Val. Loss: 14.318\n",
            "Epoch: 25\t Train Loss: 23.623\t Val. Loss: 13.600\n",
            "Epoch: 26\t Train Loss: 15.671\t Val. Loss: 14.971\n",
            "Epoch: 27\t Train Loss: 16.860\t Val. Loss: 18.368\n",
            "Epoch: 28\t Train Loss: 16.834\t Val. Loss: 15.466\n",
            "Epoch: 29\t Train Loss: 14.887\t Val. Loss: 15.243\n",
            "Epoch: 30\t Train Loss: 16.085\t Val. Loss: 16.616\n",
            "Epoch: 31\t Train Loss: 17.649\t Val. Loss: 15.379\n",
            "Epoch: 32\t Train Loss: 16.364\t Val. Loss: 14.960\n",
            "Epoch: 33\t Train Loss: 13.532\t Val. Loss: 14.638\n",
            "Epoch: 34\t Train Loss: 14.537\t Val. Loss: 13.222\n",
            "Epoch: 35\t Train Loss: 14.587\t Val. Loss: 14.667\n",
            "Epoch: 36\t Train Loss: 13.422\t Val. Loss: 12.892\n",
            "Epoch: 37\t Train Loss: 12.708\t Val. Loss: 12.659\n",
            "Val loss decreased (12.044409 --> 11.867882).  Saving model ...\n",
            "Epoch: 38\t Train Loss: 12.048\t Val. Loss: 11.868\n",
            "Val loss decreased (11.867882 --> 11.667893).  Saving model ...\n",
            "Epoch: 39\t Train Loss: 11.806\t Val. Loss: 11.668\n",
            "Val loss decreased (11.667893 --> 10.812500).  Saving model ...\n",
            "Epoch: 40\t Train Loss: 11.421\t Val. Loss: 10.813\n",
            "Val loss decreased (10.812500 --> 10.540978).  Saving model ...\n",
            "Epoch: 41\t Train Loss: 10.872\t Val. Loss: 10.541\n",
            "Val loss decreased (10.540978 --> 10.175011).  Saving model ...\n",
            "Epoch: 42\t Train Loss: 11.102\t Val. Loss: 10.175\n",
            "Epoch: 43\t Train Loss: 10.825\t Val. Loss: 11.148\n",
            "Epoch: 44\t Train Loss: 10.835\t Val. Loss: 10.220\n",
            "Epoch: 45\t Train Loss: 10.727\t Val. Loss: 10.220\n",
            "Val loss decreased (10.175011 --> 9.747638).  Saving model ...\n",
            "Epoch: 46\t Train Loss: 10.313\t Val. Loss: 9.748\n",
            "Epoch: 47\t Train Loss: 10.304\t Val. Loss: 9.751\n",
            "Val loss decreased (9.747638 --> 9.682880).  Saving model ...\n",
            "Epoch: 48\t Train Loss: 9.979\t Val. Loss: 9.683\n",
            "Val loss decreased (9.682880 --> 9.680793).  Saving model ...\n",
            "Epoch: 49\t Train Loss: 10.124\t Val. Loss: 9.681\n",
            "Epoch: 50\t Train Loss: 24.808\t Val. Loss: 24.004\n",
            "Epoch: 51\t Train Loss: 33.144\t Val. Loss: 20.246\n",
            "Epoch: 52\t Train Loss: 23.573\t Val. Loss: 16.478\n",
            "Epoch: 53\t Train Loss: 22.264\t Val. Loss: 47.303\n",
            "Epoch: 54\t Train Loss: 25.803\t Val. Loss: 19.034\n",
            "Epoch: 55\t Train Loss: 19.510\t Val. Loss: 15.865\n",
            "Epoch: 56\t Train Loss: 19.137\t Val. Loss: 15.572\n",
            "Epoch: 57\t Train Loss: 17.633\t Val. Loss: 13.427\n",
            "Epoch: 58\t Train Loss: 26.167\t Val. Loss: 17.774\n",
            "Epoch: 59\t Train Loss: 16.926\t Val. Loss: 16.196\n",
            "Epoch: 60\t Train Loss: 16.136\t Val. Loss: 12.338\n",
            "Epoch: 61\t Train Loss: 16.971\t Val. Loss: 13.026\n",
            "Epoch: 62\t Train Loss: 18.465\t Val. Loss: 14.263\n",
            "Epoch: 63\t Train Loss: 17.792\t Val. Loss: 14.577\n",
            "Epoch: 64\t Train Loss: 14.752\t Val. Loss: 17.027\n",
            "Epoch: 65\t Train Loss: 18.810\t Val. Loss: 13.158\n",
            "Epoch: 66\t Train Loss: 18.618\t Val. Loss: 20.200\n",
            "Epoch: 67\t Train Loss: 23.293\t Val. Loss: 16.758\n",
            "Epoch: 68\t Train Loss: 15.746\t Val. Loss: 12.276\n",
            "Epoch: 69\t Train Loss: 14.393\t Val. Loss: 14.353\n",
            "Epoch: 70\t Train Loss: 14.983\t Val. Loss: 13.161\n",
            "Epoch: 71\t Train Loss: 16.642\t Val. Loss: 15.912\n",
            "Epoch: 72\t Train Loss: 21.980\t Val. Loss: 16.124\n",
            "Epoch: 73\t Train Loss: 15.902\t Val. Loss: 13.046\n",
            "Epoch: 74\t Train Loss: 17.097\t Val. Loss: 24.646\n",
            "Epoch: 75\t Train Loss: 17.030\t Val. Loss: 12.571\n",
            "Epoch: 76\t Train Loss: 15.218\t Val. Loss: 16.149\n",
            "Epoch: 77\t Train Loss: 15.819\t Val. Loss: 11.458\n",
            "Epoch: 78\t Train Loss: 14.843\t Val. Loss: 11.656\n",
            "Epoch: 79\t Train Loss: 13.167\t Val. Loss: 13.004\n",
            "Epoch: 80\t Train Loss: 13.371\t Val. Loss: 14.787\n",
            "Epoch: 81\t Train Loss: 14.352\t Val. Loss: 13.014\n",
            "Epoch: 82\t Train Loss: 12.772\t Val. Loss: 12.740\n",
            "Epoch: 83\t Train Loss: 11.732\t Val. Loss: 12.168\n",
            "Epoch: 84\t Train Loss: 12.344\t Val. Loss: 10.852\n",
            "Epoch: 85\t Train Loss: 10.834\t Val. Loss: 12.105\n",
            "Epoch: 86\t Train Loss: 12.200\t Val. Loss: 11.264\n",
            "Epoch: 87\t Train Loss: 11.167\t Val. Loss: 10.037\n",
            "Epoch: 88\t Train Loss: 10.446\t Val. Loss: 10.300\n",
            "Epoch: 89\t Train Loss: 10.276\t Val. Loss: 11.277\n",
            "Epoch: 90\t Train Loss: 10.983\t Val. Loss: 10.933\n",
            "Epoch: 91\t Train Loss: 10.666\t Val. Loss: 10.238\n",
            "Val loss decreased (9.680793 --> 9.568059).  Saving model ...\n",
            "Epoch: 92\t Train Loss: 10.113\t Val. Loss: 9.568\n",
            "Val loss decreased (9.568059 --> 9.347473).  Saving model ...\n",
            "Epoch: 93\t Train Loss: 9.973\t Val. Loss: 9.347\n",
            "Epoch: 94\t Train Loss: 10.075\t Val. Loss: 9.595\n",
            "Val loss decreased (9.347473 --> 9.240424).  Saving model ...\n",
            "Epoch: 95\t Train Loss: 9.628\t Val. Loss: 9.240\n",
            "Val loss decreased (9.240424 --> 9.079055).  Saving model ...\n",
            "Epoch: 96\t Train Loss: 9.277\t Val. Loss: 9.079\n",
            "Val loss decreased (9.079055 --> 9.000679).  Saving model ...\n",
            "Epoch: 97\t Train Loss: 9.259\t Val. Loss: 9.001\n",
            "Val loss decreased (9.000679 --> 8.930805).  Saving model ...\n",
            "Epoch: 98\t Train Loss: 9.152\t Val. Loss: 8.931\n",
            "Val loss decreased (8.930805 --> 8.922148).  Saving model ...\n",
            "Epoch: 99\t Train Loss: 9.073\t Val. Loss: 8.922\n",
            "Epoch: 100\t Train Loss: 23.163\t Val. Loss: 19.545\n",
            "Epoch: 101\t Train Loss: 24.354\t Val. Loss: 20.399\n",
            "Epoch: 102\t Train Loss: 21.575\t Val. Loss: 22.153\n",
            "Epoch: 103\t Train Loss: 19.685\t Val. Loss: 16.229\n",
            "Epoch: 104\t Train Loss: 17.288\t Val. Loss: 12.041\n",
            "Epoch: 105\t Train Loss: 18.101\t Val. Loss: 18.791\n",
            "Epoch: 106\t Train Loss: 18.350\t Val. Loss: 15.123\n",
            "Epoch: 107\t Train Loss: 17.537\t Val. Loss: 14.208\n",
            "Epoch: 108\t Train Loss: 16.172\t Val. Loss: 14.196\n",
            "Epoch: 109\t Train Loss: 19.613\t Val. Loss: 15.467\n",
            "Epoch: 110\t Train Loss: 16.626\t Val. Loss: 14.615\n",
            "Epoch: 111\t Train Loss: 21.291\t Val. Loss: 15.153\n",
            "Epoch: 112\t Train Loss: 18.285\t Val. Loss: 16.700\n",
            "Epoch: 113\t Train Loss: 17.183\t Val. Loss: 11.299\n",
            "Epoch: 114\t Train Loss: 18.478\t Val. Loss: 16.869\n",
            "Epoch: 115\t Train Loss: 19.115\t Val. Loss: 15.416\n",
            "Epoch: 116\t Train Loss: 20.230\t Val. Loss: 16.112\n",
            "Epoch: 117\t Train Loss: 15.616\t Val. Loss: 15.882\n",
            "Epoch: 118\t Train Loss: 22.569\t Val. Loss: 14.336\n",
            "Epoch: 119\t Train Loss: 14.203\t Val. Loss: 10.967\n",
            "Epoch: 120\t Train Loss: 15.373\t Val. Loss: 14.379\n",
            "Epoch: 121\t Train Loss: 14.192\t Val. Loss: 13.276\n",
            "Epoch: 122\t Train Loss: 12.442\t Val. Loss: 10.582\n",
            "Epoch: 123\t Train Loss: 13.931\t Val. Loss: 14.517\n",
            "Epoch: 124\t Train Loss: 14.825\t Val. Loss: 10.943\n",
            "Epoch: 125\t Train Loss: 11.790\t Val. Loss: 12.733\n",
            "Epoch: 126\t Train Loss: 15.004\t Val. Loss: 12.222\n",
            "Epoch: 127\t Train Loss: 13.008\t Val. Loss: 10.972\n",
            "Epoch: 128\t Train Loss: 11.982\t Val. Loss: 9.459\n",
            "Epoch: 129\t Train Loss: 12.706\t Val. Loss: 12.811\n",
            "Epoch: 130\t Train Loss: 13.420\t Val. Loss: 15.454\n",
            "Epoch: 131\t Train Loss: 12.942\t Val. Loss: 10.195\n",
            "Epoch: 132\t Train Loss: 10.830\t Val. Loss: 10.005\n",
            "Epoch: 133\t Train Loss: 10.477\t Val. Loss: 9.404\n",
            "Epoch: 134\t Train Loss: 10.618\t Val. Loss: 9.363\n",
            "Epoch: 135\t Train Loss: 9.901\t Val. Loss: 9.173\n",
            "Epoch: 136\t Train Loss: 9.503\t Val. Loss: 9.026\n",
            "Epoch: 137\t Train Loss: 9.612\t Val. Loss: 9.391\n",
            "Epoch: 138\t Train Loss: 9.509\t Val. Loss: 9.575\n",
            "Epoch: 139\t Train Loss: 9.573\t Val. Loss: 9.424\n",
            "Epoch: 140\t Train Loss: 9.251\t Val. Loss: 9.495\n",
            "Epoch: 141\t Train Loss: 9.063\t Val. Loss: 9.244\n",
            "Val loss decreased (8.922148 --> 8.613086).  Saving model ...\n",
            "Epoch: 142\t Train Loss: 8.860\t Val. Loss: 8.613\n",
            "Val loss decreased (8.613086 --> 8.343722).  Saving model ...\n",
            "Epoch: 143\t Train Loss: 8.329\t Val. Loss: 8.344\n",
            "Epoch: 144\t Train Loss: 8.768\t Val. Loss: 9.045\n",
            "Epoch: 145\t Train Loss: 8.463\t Val. Loss: 8.480\n",
            "Val loss decreased (8.343722 --> 8.311597).  Saving model ...\n",
            "Epoch: 146\t Train Loss: 8.220\t Val. Loss: 8.312\n",
            "Val loss decreased (8.311597 --> 8.261396).  Saving model ...\n",
            "Epoch: 147\t Train Loss: 8.282\t Val. Loss: 8.261\n",
            "Val loss decreased (8.261396 --> 8.163061).  Saving model ...\n",
            "Epoch: 148\t Train Loss: 8.195\t Val. Loss: 8.163\n",
            "Epoch: 149\t Train Loss: 8.109\t Val. Loss: 8.177\n",
            "Epoch: 150\t Train Loss: 17.167\t Val. Loss: 12.298\n",
            "Epoch: 151\t Train Loss: 17.242\t Val. Loss: 17.576\n",
            "Epoch: 152\t Train Loss: 21.587\t Val. Loss: 11.994\n",
            "Epoch: 153\t Train Loss: 18.216\t Val. Loss: 15.923\n",
            "Epoch: 154\t Train Loss: 19.761\t Val. Loss: 18.655\n",
            "Epoch: 155\t Train Loss: 15.746\t Val. Loss: 12.151\n",
            "Epoch: 156\t Train Loss: 18.040\t Val. Loss: 34.491\n",
            "Epoch: 157\t Train Loss: 22.911\t Val. Loss: 10.281\n",
            "Epoch: 158\t Train Loss: 13.962\t Val. Loss: 13.319\n",
            "Epoch: 159\t Train Loss: 16.089\t Val. Loss: 17.449\n",
            "Epoch: 160\t Train Loss: 15.635\t Val. Loss: 11.324\n",
            "Epoch: 161\t Train Loss: 17.682\t Val. Loss: 13.261\n",
            "Epoch: 162\t Train Loss: 13.806\t Val. Loss: 15.474\n",
            "Epoch: 163\t Train Loss: 21.029\t Val. Loss: 14.218\n",
            "Epoch: 164\t Train Loss: 17.874\t Val. Loss: 14.212\n",
            "Epoch: 165\t Train Loss: 14.034\t Val. Loss: 12.310\n",
            "Epoch: 166\t Train Loss: 15.815\t Val. Loss: 11.552\n",
            "Epoch: 167\t Train Loss: 14.160\t Val. Loss: 13.264\n",
            "Epoch: 168\t Train Loss: 18.886\t Val. Loss: 22.321\n",
            "Epoch: 169\t Train Loss: 18.420\t Val. Loss: 14.557\n",
            "Epoch: 170\t Train Loss: 13.892\t Val. Loss: 12.616\n",
            "Epoch: 171\t Train Loss: 13.549\t Val. Loss: 14.329\n",
            "Epoch: 172\t Train Loss: 12.281\t Val. Loss: 11.135\n",
            "Epoch: 173\t Train Loss: 11.876\t Val. Loss: 11.303\n",
            "Epoch: 174\t Train Loss: 11.018\t Val. Loss: 11.627\n",
            "Epoch: 175\t Train Loss: 14.072\t Val. Loss: 10.678\n",
            "Epoch: 176\t Train Loss: 12.025\t Val. Loss: 11.901\n",
            "Epoch: 177\t Train Loss: 12.510\t Val. Loss: 12.298\n",
            "Epoch: 178\t Train Loss: 12.614\t Val. Loss: 10.797\n",
            "Epoch: 179\t Train Loss: 13.163\t Val. Loss: 14.035\n",
            "Epoch: 180\t Train Loss: 11.074\t Val. Loss: 10.078\n",
            "Epoch: 181\t Train Loss: 11.298\t Val. Loss: 10.004\n",
            "Epoch: 182\t Train Loss: 10.726\t Val. Loss: 9.012\n",
            "Epoch: 183\t Train Loss: 10.372\t Val. Loss: 9.240\n",
            "Epoch: 184\t Train Loss: 10.591\t Val. Loss: 11.429\n",
            "Epoch: 185\t Train Loss: 9.399\t Val. Loss: 9.383\n",
            "Epoch: 186\t Train Loss: 9.842\t Val. Loss: 8.972\n",
            "Epoch: 187\t Train Loss: 10.349\t Val. Loss: 10.635\n",
            "Epoch: 188\t Train Loss: 9.701\t Val. Loss: 10.263\n",
            "Epoch: 189\t Train Loss: 9.273\t Val. Loss: 9.244\n",
            "Epoch: 190\t Train Loss: 9.394\t Val. Loss: 9.297\n",
            "Epoch: 191\t Train Loss: 8.601\t Val. Loss: 8.581\n",
            "Val loss decreased (8.163061 --> 8.084445).  Saving model ...\n",
            "Epoch: 192\t Train Loss: 8.401\t Val. Loss: 8.084\n",
            "Epoch: 193\t Train Loss: 8.499\t Val. Loss: 8.578\n",
            "Epoch: 194\t Train Loss: 8.435\t Val. Loss: 8.300\n",
            "Epoch: 195\t Train Loss: 8.394\t Val. Loss: 8.192\n",
            "Val loss decreased (8.084445 --> 7.925019).  Saving model ...\n",
            "Epoch: 196\t Train Loss: 7.736\t Val. Loss: 7.925\n",
            "Epoch: 197\t Train Loss: 7.823\t Val. Loss: 8.000\n",
            "Epoch: 198\t Train Loss: 7.759\t Val. Loss: 7.992\n",
            "Epoch: 199\t Train Loss: 7.715\t Val. Loss: 7.981\n",
            "Epoch: 200\t Train Loss: 18.414\t Val. Loss: 18.837\n",
            "Epoch: 201\t Train Loss: 15.885\t Val. Loss: 13.184\n",
            "Epoch: 202\t Train Loss: 20.578\t Val. Loss: 14.704\n",
            "Epoch: 203\t Train Loss: 22.097\t Val. Loss: 13.338\n",
            "Epoch: 204\t Train Loss: 19.021\t Val. Loss: 23.064\n",
            "Epoch: 205\t Train Loss: 16.787\t Val. Loss: 14.506\n",
            "Epoch: 206\t Train Loss: 15.862\t Val. Loss: 14.219\n",
            "Epoch: 207\t Train Loss: 14.285\t Val. Loss: 12.297\n",
            "Epoch: 208\t Train Loss: 17.362\t Val. Loss: 14.006\n",
            "Epoch: 209\t Train Loss: 17.596\t Val. Loss: 18.615\n",
            "Epoch: 210\t Train Loss: 16.874\t Val. Loss: 14.685\n",
            "Epoch: 211\t Train Loss: 15.175\t Val. Loss: 10.364\n",
            "Epoch: 212\t Train Loss: 13.669\t Val. Loss: 10.280\n",
            "Epoch: 213\t Train Loss: 13.237\t Val. Loss: 11.801\n",
            "Epoch: 214\t Train Loss: 13.050\t Val. Loss: 18.673\n",
            "Epoch: 215\t Train Loss: 12.989\t Val. Loss: 13.119\n",
            "Epoch: 216\t Train Loss: 14.581\t Val. Loss: 12.094\n",
            "Epoch: 217\t Train Loss: 12.628\t Val. Loss: 11.775\n",
            "Epoch: 218\t Train Loss: 13.508\t Val. Loss: 11.922\n",
            "Epoch: 219\t Train Loss: 12.362\t Val. Loss: 13.356\n",
            "Epoch: 220\t Train Loss: 12.847\t Val. Loss: 13.740\n",
            "Epoch: 221\t Train Loss: 11.407\t Val. Loss: 9.982\n",
            "Epoch: 222\t Train Loss: 14.803\t Val. Loss: 14.304\n",
            "Epoch: 223\t Train Loss: 13.333\t Val. Loss: 10.308\n",
            "Epoch: 224\t Train Loss: 12.301\t Val. Loss: 11.392\n",
            "Epoch: 225\t Train Loss: 12.954\t Val. Loss: 10.351\n",
            "Epoch: 226\t Train Loss: 12.925\t Val. Loss: 11.971\n",
            "Epoch: 227\t Train Loss: 11.734\t Val. Loss: 10.503\n",
            "Epoch: 228\t Train Loss: 11.642\t Val. Loss: 19.668\n",
            "Epoch: 229\t Train Loss: 13.565\t Val. Loss: 11.048\n",
            "Epoch: 230\t Train Loss: 9.709\t Val. Loss: 9.249\n",
            "Epoch: 231\t Train Loss: 9.730\t Val. Loss: 8.835\n",
            "Epoch: 232\t Train Loss: 11.046\t Val. Loss: 10.549\n",
            "Epoch: 233\t Train Loss: 9.817\t Val. Loss: 9.029\n",
            "Epoch: 234\t Train Loss: 9.191\t Val. Loss: 9.541\n",
            "Epoch: 235\t Train Loss: 8.786\t Val. Loss: 8.814\n",
            "Epoch: 236\t Train Loss: 9.055\t Val. Loss: 8.796\n",
            "Epoch: 237\t Train Loss: 8.873\t Val. Loss: 10.793\n",
            "Epoch: 238\t Train Loss: 9.207\t Val. Loss: 9.382\n",
            "Epoch: 239\t Train Loss: 8.730\t Val. Loss: 8.721\n",
            "Epoch: 240\t Train Loss: 8.313\t Val. Loss: 8.939\n",
            "Epoch: 241\t Train Loss: 8.105\t Val. Loss: 8.339\n",
            "Epoch: 242\t Train Loss: 7.969\t Val. Loss: 8.056\n",
            "Epoch: 243\t Train Loss: 8.040\t Val. Loss: 8.093\n",
            "Val loss decreased (7.925019 --> 7.901141).  Saving model ...\n",
            "Epoch: 244\t Train Loss: 7.832\t Val. Loss: 7.901\n",
            "Val loss decreased (7.901141 --> 7.813985).  Saving model ...\n",
            "Epoch: 245\t Train Loss: 7.734\t Val. Loss: 7.814\n",
            "Val loss decreased (7.813985 --> 7.730596).  Saving model ...\n",
            "Epoch: 246\t Train Loss: 7.658\t Val. Loss: 7.731\n",
            "Val loss decreased (7.730596 --> 7.719596).  Saving model ...\n",
            "Epoch: 247\t Train Loss: 7.657\t Val. Loss: 7.720\n",
            "Epoch: 248\t Train Loss: 7.453\t Val. Loss: 7.726\n",
            "Val loss decreased (7.719596 --> 7.713463).  Saving model ...\n",
            "Epoch: 249\t Train Loss: 7.416\t Val. Loss: 7.713\n",
            "Epoch: 250\t Train Loss: 21.453\t Val. Loss: 16.488\n",
            "Epoch: 251\t Train Loss: 18.843\t Val. Loss: 20.343\n",
            "Epoch: 252\t Train Loss: 26.577\t Val. Loss: 17.074\n",
            "Epoch: 253\t Train Loss: 19.410\t Val. Loss: 28.633\n",
            "Epoch: 254\t Train Loss: 17.778\t Val. Loss: 17.332\n",
            "Epoch: 255\t Train Loss: 23.335\t Val. Loss: 15.543\n",
            "Epoch: 256\t Train Loss: 18.857\t Val. Loss: 13.180\n",
            "Epoch: 257\t Train Loss: 16.274\t Val. Loss: 14.960\n",
            "Epoch: 258\t Train Loss: 15.301\t Val. Loss: 13.162\n",
            "Epoch: 259\t Train Loss: 13.732\t Val. Loss: 11.441\n",
            "Epoch: 260\t Train Loss: 16.410\t Val. Loss: 18.017\n",
            "Epoch: 261\t Train Loss: 14.172\t Val. Loss: 12.416\n",
            "Epoch: 262\t Train Loss: 15.203\t Val. Loss: 13.419\n",
            "Epoch: 263\t Train Loss: 12.931\t Val. Loss: 13.130\n",
            "Epoch: 264\t Train Loss: 15.785\t Val. Loss: 12.088\n",
            "Epoch: 265\t Train Loss: 14.592\t Val. Loss: 12.330\n",
            "Epoch: 266\t Train Loss: 14.372\t Val. Loss: 10.154\n",
            "Epoch: 267\t Train Loss: 13.473\t Val. Loss: 13.981\n",
            "Epoch: 268\t Train Loss: 18.680\t Val. Loss: 17.308\n",
            "Epoch: 269\t Train Loss: 15.508\t Val. Loss: 12.757\n",
            "Epoch: 270\t Train Loss: 12.749\t Val. Loss: 12.151\n",
            "Epoch: 271\t Train Loss: 12.189\t Val. Loss: 11.817\n",
            "Epoch: 272\t Train Loss: 13.619\t Val. Loss: 15.764\n",
            "Epoch: 273\t Train Loss: 14.246\t Val. Loss: 10.604\n",
            "Epoch: 274\t Train Loss: 11.655\t Val. Loss: 10.538\n",
            "Epoch: 275\t Train Loss: 10.895\t Val. Loss: 9.818\n",
            "Epoch: 276\t Train Loss: 13.028\t Val. Loss: 12.655\n",
            "Epoch: 277\t Train Loss: 12.702\t Val. Loss: 10.254\n",
            "Epoch: 278\t Train Loss: 11.730\t Val. Loss: 10.366\n",
            "Epoch: 279\t Train Loss: 9.695\t Val. Loss: 10.260\n",
            "Epoch: 280\t Train Loss: 9.981\t Val. Loss: 8.765\n",
            "Epoch: 281\t Train Loss: 10.495\t Val. Loss: 10.538\n",
            "Epoch: 282\t Train Loss: 10.318\t Val. Loss: 11.444\n",
            "Epoch: 283\t Train Loss: 9.777\t Val. Loss: 9.540\n",
            "Epoch: 284\t Train Loss: 9.154\t Val. Loss: 8.592\n",
            "Epoch: 285\t Train Loss: 8.968\t Val. Loss: 8.539\n",
            "Epoch: 286\t Train Loss: 9.186\t Val. Loss: 8.518\n",
            "Epoch: 287\t Train Loss: 8.947\t Val. Loss: 9.558\n",
            "Epoch: 288\t Train Loss: 8.722\t Val. Loss: 8.588\n",
            "Epoch: 289\t Train Loss: 8.383\t Val. Loss: 8.970\n",
            "Epoch: 290\t Train Loss: 8.390\t Val. Loss: 8.568\n",
            "Epoch: 291\t Train Loss: 8.246\t Val. Loss: 8.287\n",
            "Epoch: 292\t Train Loss: 8.066\t Val. Loss: 8.185\n",
            "Epoch: 293\t Train Loss: 7.973\t Val. Loss: 8.098\n",
            "Epoch: 294\t Train Loss: 8.022\t Val. Loss: 8.038\n",
            "Epoch: 295\t Train Loss: 7.877\t Val. Loss: 7.736\n",
            "Epoch: 296\t Train Loss: 7.685\t Val. Loss: 7.934\n",
            "Val loss decreased (7.713463 --> 7.668298).  Saving model ...\n",
            "Epoch: 297\t Train Loss: 7.796\t Val. Loss: 7.668\n",
            "Epoch: 298\t Train Loss: 7.356\t Val. Loss: 7.694\n",
            "Epoch: 299\t Train Loss: 7.506\t Val. Loss: 7.683\n",
            "Epoch: 300\t Train Loss: 18.610\t Val. Loss: 12.791\n",
            "Epoch: 301\t Train Loss: 18.790\t Val. Loss: 16.892\n",
            "Epoch: 302\t Train Loss: 16.251\t Val. Loss: 17.486\n",
            "Epoch: 303\t Train Loss: 21.618\t Val. Loss: 12.190\n",
            "Epoch: 304\t Train Loss: 16.888\t Val. Loss: 12.936\n",
            "Epoch: 305\t Train Loss: 16.169\t Val. Loss: 13.299\n",
            "Epoch: 306\t Train Loss: 14.379\t Val. Loss: 10.756\n",
            "Epoch: 307\t Train Loss: 15.002\t Val. Loss: 10.427\n",
            "Epoch: 308\t Train Loss: 14.028\t Val. Loss: 12.418\n",
            "Epoch: 309\t Train Loss: 15.535\t Val. Loss: 10.096\n",
            "Epoch: 310\t Train Loss: 13.780\t Val. Loss: 12.178\n",
            "Epoch: 311\t Train Loss: 18.432\t Val. Loss: 13.358\n",
            "Epoch: 312\t Train Loss: 16.949\t Val. Loss: 12.766\n",
            "Epoch: 313\t Train Loss: 15.431\t Val. Loss: 10.645\n",
            "Epoch: 314\t Train Loss: 16.913\t Val. Loss: 10.395\n",
            "Epoch: 315\t Train Loss: 12.879\t Val. Loss: 16.336\n",
            "Epoch: 316\t Train Loss: 14.581\t Val. Loss: 11.180\n",
            "Epoch: 317\t Train Loss: 13.477\t Val. Loss: 12.793\n",
            "Epoch: 318\t Train Loss: 15.245\t Val. Loss: 16.309\n",
            "Epoch: 319\t Train Loss: 17.487\t Val. Loss: 14.535\n",
            "Epoch: 320\t Train Loss: 11.903\t Val. Loss: 9.342\n",
            "Epoch: 321\t Train Loss: 11.179\t Val. Loss: 10.043\n",
            "Epoch: 322\t Train Loss: 12.485\t Val. Loss: 10.583\n",
            "Epoch: 323\t Train Loss: 12.652\t Val. Loss: 10.690\n",
            "Epoch: 324\t Train Loss: 11.386\t Val. Loss: 9.530\n",
            "Epoch: 325\t Train Loss: 10.895\t Val. Loss: 11.806\n",
            "Epoch: 326\t Train Loss: 11.303\t Val. Loss: 9.104\n",
            "Epoch: 327\t Train Loss: 10.857\t Val. Loss: 9.936\n",
            "Epoch: 328\t Train Loss: 11.115\t Val. Loss: 8.646\n",
            "Epoch: 329\t Train Loss: 11.820\t Val. Loss: 10.585\n",
            "Epoch: 330\t Train Loss: 9.810\t Val. Loss: 8.378\n",
            "Epoch: 331\t Train Loss: 9.940\t Val. Loss: 9.510\n",
            "Epoch: 332\t Train Loss: 10.121\t Val. Loss: 8.893\n",
            "Epoch: 333\t Train Loss: 9.173\t Val. Loss: 8.857\n",
            "Epoch: 334\t Train Loss: 9.435\t Val. Loss: 10.931\n",
            "Epoch: 335\t Train Loss: 9.063\t Val. Loss: 8.776\n",
            "Epoch: 336\t Train Loss: 8.506\t Val. Loss: 8.334\n",
            "Epoch: 337\t Train Loss: 8.477\t Val. Loss: 8.094\n",
            "Epoch: 338\t Train Loss: 8.421\t Val. Loss: 9.460\n",
            "Epoch: 339\t Train Loss: 8.447\t Val. Loss: 9.268\n",
            "Epoch: 340\t Train Loss: 8.499\t Val. Loss: 8.733\n",
            "Epoch: 341\t Train Loss: 8.204\t Val. Loss: 8.832\n",
            "Epoch: 342\t Train Loss: 7.848\t Val. Loss: 8.048\n",
            "Epoch: 343\t Train Loss: 7.901\t Val. Loss: 7.699\n",
            "Val loss decreased (7.668298 --> 7.624730).  Saving model ...\n",
            "Epoch: 344\t Train Loss: 7.664\t Val. Loss: 7.625\n",
            "Epoch: 345\t Train Loss: 7.608\t Val. Loss: 7.807\n",
            "Epoch: 346\t Train Loss: 7.475\t Val. Loss: 7.663\n",
            "Val loss decreased (7.624730 --> 7.589856).  Saving model ...\n",
            "Epoch: 347\t Train Loss: 7.492\t Val. Loss: 7.590\n",
            "Val loss decreased (7.589856 --> 7.558365).  Saving model ...\n",
            "Epoch: 348\t Train Loss: 7.318\t Val. Loss: 7.558\n",
            "Val loss decreased (7.558365 --> 7.551872).  Saving model ...\n",
            "Epoch: 349\t Train Loss: 7.354\t Val. Loss: 7.552\n",
            "Epoch: 350\t Train Loss: 22.320\t Val. Loss: 13.845\n",
            "Epoch: 351\t Train Loss: 17.988\t Val. Loss: 16.380\n",
            "Epoch: 352\t Train Loss: 18.364\t Val. Loss: 22.831\n",
            "Epoch: 353\t Train Loss: 15.881\t Val. Loss: 12.226\n",
            "Epoch: 354\t Train Loss: 16.774\t Val. Loss: 22.638\n",
            "Epoch: 355\t Train Loss: 16.581\t Val. Loss: 14.568\n",
            "Epoch: 356\t Train Loss: 13.584\t Val. Loss: 11.992\n",
            "Epoch: 357\t Train Loss: 17.302\t Val. Loss: 11.160\n",
            "Epoch: 358\t Train Loss: 13.797\t Val. Loss: 12.750\n",
            "Epoch: 359\t Train Loss: 16.398\t Val. Loss: 13.054\n",
            "Epoch: 360\t Train Loss: 14.850\t Val. Loss: 11.271\n",
            "Epoch: 361\t Train Loss: 12.856\t Val. Loss: 13.700\n",
            "Epoch: 362\t Train Loss: 15.370\t Val. Loss: 17.047\n",
            "Epoch: 363\t Train Loss: 14.356\t Val. Loss: 11.835\n",
            "Epoch: 364\t Train Loss: 13.250\t Val. Loss: 12.111\n",
            "Epoch: 365\t Train Loss: 14.890\t Val. Loss: 15.398\n",
            "Epoch: 366\t Train Loss: 13.046\t Val. Loss: 10.029\n",
            "Epoch: 367\t Train Loss: 12.924\t Val. Loss: 10.049\n",
            "Epoch: 368\t Train Loss: 13.784\t Val. Loss: 12.518\n",
            "Epoch: 369\t Train Loss: 11.002\t Val. Loss: 14.424\n",
            "Epoch: 370\t Train Loss: 13.661\t Val. Loss: 9.926\n",
            "Epoch: 371\t Train Loss: 11.895\t Val. Loss: 11.057\n",
            "Epoch: 372\t Train Loss: 12.088\t Val. Loss: 9.738\n",
            "Epoch: 373\t Train Loss: 12.040\t Val. Loss: 11.156\n",
            "Epoch: 374\t Train Loss: 11.408\t Val. Loss: 9.595\n",
            "Epoch: 375\t Train Loss: 10.807\t Val. Loss: 8.649\n",
            "Epoch: 376\t Train Loss: 11.444\t Val. Loss: 10.993\n",
            "Epoch: 377\t Train Loss: 9.935\t Val. Loss: 9.256\n",
            "Epoch: 378\t Train Loss: 10.133\t Val. Loss: 8.328\n",
            "Epoch: 379\t Train Loss: 9.595\t Val. Loss: 9.041\n",
            "Epoch: 380\t Train Loss: 9.568\t Val. Loss: 9.713\n",
            "Epoch: 381\t Train Loss: 10.116\t Val. Loss: 9.739\n",
            "Epoch: 382\t Train Loss: 10.933\t Val. Loss: 10.975\n",
            "Epoch: 383\t Train Loss: 9.067\t Val. Loss: 8.513\n",
            "Epoch: 384\t Train Loss: 8.891\t Val. Loss: 9.660\n",
            "Epoch: 385\t Train Loss: 9.490\t Val. Loss: 8.999\n",
            "Epoch: 386\t Train Loss: 8.974\t Val. Loss: 8.459\n",
            "Epoch: 387\t Train Loss: 8.336\t Val. Loss: 8.394\n",
            "Epoch: 388\t Train Loss: 8.551\t Val. Loss: 8.630\n",
            "Epoch: 389\t Train Loss: 8.629\t Val. Loss: 9.251\n",
            "Epoch: 390\t Train Loss: 8.339\t Val. Loss: 8.378\n",
            "Epoch: 391\t Train Loss: 8.252\t Val. Loss: 8.480\n",
            "Epoch: 392\t Train Loss: 8.144\t Val. Loss: 8.479\n",
            "Epoch: 393\t Train Loss: 7.956\t Val. Loss: 7.906\n",
            "Epoch: 394\t Train Loss: 8.103\t Val. Loss: 7.960\n",
            "Epoch: 395\t Train Loss: 7.664\t Val. Loss: 7.773\n",
            "Epoch: 396\t Train Loss: 7.689\t Val. Loss: 7.734\n",
            "Epoch: 397\t Train Loss: 7.483\t Val. Loss: 7.679\n",
            "Epoch: 398\t Train Loss: 7.542\t Val. Loss: 7.656\n",
            "Epoch: 399\t Train Loss: 7.431\t Val. Loss: 7.651\n",
            "Epoch: 400\t Train Loss: 19.303\t Val. Loss: 16.708\n",
            "Epoch: 401\t Train Loss: 19.978\t Val. Loss: 20.630\n",
            "Epoch: 402\t Train Loss: 15.380\t Val. Loss: 18.932\n",
            "Epoch: 403\t Train Loss: 23.360\t Val. Loss: 16.217\n",
            "Epoch: 404\t Train Loss: 18.098\t Val. Loss: 19.030\n",
            "Epoch: 405\t Train Loss: 18.988\t Val. Loss: 15.642\n",
            "Epoch: 406\t Train Loss: 15.611\t Val. Loss: 16.522\n",
            "Epoch: 407\t Train Loss: 14.390\t Val. Loss: 11.869\n",
            "Epoch: 408\t Train Loss: 15.148\t Val. Loss: 12.387\n",
            "Epoch: 409\t Train Loss: 14.729\t Val. Loss: 21.271\n",
            "Epoch: 410\t Train Loss: 17.106\t Val. Loss: 12.094\n",
            "Epoch: 411\t Train Loss: 18.490\t Val. Loss: 11.429\n",
            "Epoch: 412\t Train Loss: 16.217\t Val. Loss: 12.629\n",
            "Epoch: 413\t Train Loss: 13.741\t Val. Loss: 11.239\n",
            "Epoch: 414\t Train Loss: 14.656\t Val. Loss: 11.530\n",
            "Epoch: 415\t Train Loss: 13.492\t Val. Loss: 10.798\n",
            "Epoch: 416\t Train Loss: 13.791\t Val. Loss: 9.416\n",
            "Epoch: 417\t Train Loss: 12.605\t Val. Loss: 10.583\n",
            "Epoch: 418\t Train Loss: 13.388\t Val. Loss: 13.776\n",
            "Epoch: 419\t Train Loss: 12.290\t Val. Loss: 12.600\n",
            "Epoch: 420\t Train Loss: 11.623\t Val. Loss: 10.506\n",
            "Epoch: 421\t Train Loss: 11.983\t Val. Loss: 10.332\n",
            "Epoch: 422\t Train Loss: 14.287\t Val. Loss: 21.328\n",
            "Epoch: 423\t Train Loss: 12.135\t Val. Loss: 9.396\n",
            "Epoch: 424\t Train Loss: 10.278\t Val. Loss: 11.574\n",
            "Epoch: 425\t Train Loss: 12.232\t Val. Loss: 9.881\n",
            "Epoch: 426\t Train Loss: 12.309\t Val. Loss: 10.114\n",
            "Epoch: 427\t Train Loss: 10.408\t Val. Loss: 9.218\n",
            "Epoch: 428\t Train Loss: 10.155\t Val. Loss: 8.975\n",
            "Epoch: 429\t Train Loss: 9.806\t Val. Loss: 8.862\n",
            "Epoch: 430\t Train Loss: 9.317\t Val. Loss: 8.464\n",
            "Epoch: 431\t Train Loss: 9.827\t Val. Loss: 9.198\n",
            "Epoch: 432\t Train Loss: 10.608\t Val. Loss: 15.536\n",
            "Epoch: 433\t Train Loss: 10.722\t Val. Loss: 9.289\n",
            "Epoch: 434\t Train Loss: 9.429\t Val. Loss: 8.596\n",
            "Epoch: 435\t Train Loss: 9.117\t Val. Loss: 9.457\n",
            "Epoch: 436\t Train Loss: 8.974\t Val. Loss: 8.763\n",
            "Epoch: 437\t Train Loss: 8.971\t Val. Loss: 8.639\n",
            "Epoch: 438\t Train Loss: 8.831\t Val. Loss: 9.288\n",
            "Epoch: 439\t Train Loss: 8.860\t Val. Loss: 7.888\n",
            "Epoch: 440\t Train Loss: 8.335\t Val. Loss: 8.256\n",
            "Epoch: 441\t Train Loss: 8.065\t Val. Loss: 7.820\n",
            "Epoch: 442\t Train Loss: 8.188\t Val. Loss: 7.647\n",
            "Epoch: 443\t Train Loss: 7.773\t Val. Loss: 7.646\n",
            "Epoch: 444\t Train Loss: 7.890\t Val. Loss: 7.627\n",
            "Epoch: 445\t Train Loss: 7.723\t Val. Loss: 7.774\n",
            "Epoch: 446\t Train Loss: 7.760\t Val. Loss: 7.752\n",
            "Epoch: 447\t Train Loss: 7.589\t Val. Loss: 7.555\n",
            "Epoch: 448\t Train Loss: 7.309\t Val. Loss: 7.555\n",
            "Val loss decreased (7.551872 --> 7.535606).  Saving model ...\n",
            "Epoch: 449\t Train Loss: 7.427\t Val. Loss: 7.536\n",
            "Epoch: 450\t Train Loss: 15.307\t Val. Loss: 11.214\n",
            "Epoch: 451\t Train Loss: 16.885\t Val. Loss: 16.183\n",
            "Epoch: 452\t Train Loss: 13.618\t Val. Loss: 23.142\n",
            "Epoch: 453\t Train Loss: 18.267\t Val. Loss: 12.748\n",
            "Epoch: 454\t Train Loss: 17.321\t Val. Loss: 12.100\n",
            "Epoch: 455\t Train Loss: 14.336\t Val. Loss: 10.154\n",
            "Epoch: 456\t Train Loss: 14.175\t Val. Loss: 11.635\n",
            "Epoch: 457\t Train Loss: 17.703\t Val. Loss: 19.534\n",
            "Epoch: 458\t Train Loss: 20.759\t Val. Loss: 12.326\n",
            "Epoch: 459\t Train Loss: 15.623\t Val. Loss: 25.075\n",
            "Epoch: 460\t Train Loss: 15.068\t Val. Loss: 15.052\n",
            "Epoch: 461\t Train Loss: 12.476\t Val. Loss: 10.800\n",
            "Epoch: 462\t Train Loss: 12.816\t Val. Loss: 10.805\n",
            "Epoch: 463\t Train Loss: 11.720\t Val. Loss: 9.534\n",
            "Epoch: 464\t Train Loss: 12.486\t Val. Loss: 9.318\n",
            "Epoch: 465\t Train Loss: 11.918\t Val. Loss: 11.407\n",
            "Epoch: 466\t Train Loss: 11.739\t Val. Loss: 12.434\n",
            "Epoch: 467\t Train Loss: 15.132\t Val. Loss: 12.262\n",
            "Epoch: 468\t Train Loss: 14.008\t Val. Loss: 9.946\n",
            "Epoch: 469\t Train Loss: 11.764\t Val. Loss: 12.605\n",
            "Epoch: 470\t Train Loss: 12.966\t Val. Loss: 10.099\n",
            "Epoch: 471\t Train Loss: 11.916\t Val. Loss: 9.657\n",
            "Epoch: 472\t Train Loss: 10.474\t Val. Loss: 10.581\n",
            "Epoch: 473\t Train Loss: 11.720\t Val. Loss: 10.835\n",
            "Epoch: 474\t Train Loss: 11.666\t Val. Loss: 9.774\n",
            "Epoch: 475\t Train Loss: 11.135\t Val. Loss: 9.697\n",
            "Epoch: 476\t Train Loss: 10.560\t Val. Loss: 9.502\n",
            "Epoch: 477\t Train Loss: 11.000\t Val. Loss: 10.463\n",
            "Epoch: 478\t Train Loss: 12.575\t Val. Loss: 9.777\n",
            "Epoch: 479\t Train Loss: 10.648\t Val. Loss: 9.816\n",
            "Epoch: 480\t Train Loss: 9.864\t Val. Loss: 8.299\n",
            "Epoch: 481\t Train Loss: 9.309\t Val. Loss: 8.686\n",
            "Epoch: 482\t Train Loss: 9.483\t Val. Loss: 8.971\n",
            "Epoch: 483\t Train Loss: 9.157\t Val. Loss: 8.210\n",
            "Epoch: 484\t Train Loss: 8.355\t Val. Loss: 8.010\n",
            "Epoch: 485\t Train Loss: 9.141\t Val. Loss: 11.373\n",
            "Epoch: 486\t Train Loss: 9.467\t Val. Loss: 9.693\n",
            "Epoch: 487\t Train Loss: 8.937\t Val. Loss: 8.437\n",
            "Epoch: 488\t Train Loss: 8.161\t Val. Loss: 8.890\n",
            "Epoch: 489\t Train Loss: 8.405\t Val. Loss: 8.948\n",
            "Epoch: 490\t Train Loss: 8.361\t Val. Loss: 9.015\n",
            "Epoch: 491\t Train Loss: 8.223\t Val. Loss: 8.064\n",
            "Epoch: 492\t Train Loss: 8.049\t Val. Loss: 7.543\n",
            "Epoch: 493\t Train Loss: 7.675\t Val. Loss: 7.760\n",
            "Epoch: 494\t Train Loss: 7.676\t Val. Loss: 7.763\n",
            "Epoch: 495\t Train Loss: 7.618\t Val. Loss: 7.708\n",
            "Epoch: 496\t Train Loss: 7.542\t Val. Loss: 7.726\n",
            "Epoch: 497\t Train Loss: 7.658\t Val. Loss: 7.540\n",
            "Epoch: 498\t Train Loss: 7.417\t Val. Loss: 7.545\n",
            "Epoch: 499\t Train Loss: 7.360\t Val. Loss: 7.536\n"
          ],
          "name": "stdout"
        }
      ]
    },
    {
      "cell_type": "markdown",
      "metadata": {
        "id": "IiSCqyhijWzd",
        "colab_type": "text"
      },
      "source": [
        "### Test results"
      ]
    },
    {
      "cell_type": "code",
      "metadata": {
        "id": "9vKyR0Rq1JxW",
        "colab_type": "code",
        "colab": {
          "base_uri": "https://localhost:8080/",
          "height": 52
        },
        "outputId": "bb68c9f7-09e5-4065-a35d-64ce073a96a2"
      },
      "source": [
        "mse_test = test(model, criterion)\n",
        "print(\"MSE Test loss: {:.3f}\".format(np.mean(mse_test)))\n",
        "rmse_test = test(model, RMSELoss)\n",
        "print(\"RMSE Test loss: {:.3f}\".format(np.mean(rmse_test)))"
      ],
      "execution_count": 58,
      "outputs": [
        {
          "output_type": "stream",
          "text": [
            "MSE Test loss: 3.747\n",
            "RMSE Test loss: 1.870\n"
          ],
          "name": "stdout"
        }
      ]
    },
    {
      "cell_type": "code",
      "metadata": {
        "id": "0GTtrISY_Xru",
        "colab_type": "code",
        "colab": {
          "base_uri": "https://localhost:8080/",
          "height": 265
        },
        "outputId": "6378bd74-0727-4e48-fc5f-91a23523d3dc"
      },
      "source": [
        "import matplotlib.pyplot as plt\n",
        "def plot_curve(model):\n",
        "  model.load_state_dict(torch.load('content/models/model.pt'))\n",
        "  model.eval()\n",
        "  with torch.no_grad():\n",
        "      for val_acc, configs, targets in test_data_loader:\n",
        "        output = model([val_acc, configs], targets, 0)\n",
        "        output = output.squeeze()\n",
        "        output = torch.t(output)\n",
        "        plt.plot(np.arange(51),targets[2],c='g')\n",
        "        plt.plot(np.arange(51),output[2],c='r')\n",
        "        plt.show()\n",
        "        break\n",
        "\n",
        "plot_curve(model)"
      ],
      "execution_count": 59,
      "outputs": [
        {
          "output_type": "display_data",
          "data": {
            "image/png": "[encoded data removed]",
            "text/plain": [
              "<Figure size 432x288 with 1 Axes>"
            ]
          },
          "metadata": {
            "tags": []
          }
        }
      ]
    }
  ]
}