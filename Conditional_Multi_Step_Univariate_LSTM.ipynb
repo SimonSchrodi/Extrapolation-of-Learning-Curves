{
  "nbformat": 4,
  "nbformat_minor": 0,
  "metadata": {
    "kernelspec": {
      "name": "python3",
      "display_name": "Python 3"
    },
    "language_info": {
      "codemirror_mode": {
        "name": "ipython",
        "version": 3
      },
      "file_extension": ".py",
      "mimetype": "text/x-python",
      "name": "python",
      "nbconvert_exporter": "python",
      "pygments_lexer": "ipython3",
      "version": "3.6.0"
    },
    "colab": {
      "name": "Conditional Multi-Step Univariate LSTM.ipynb",
      "provenance": []
    },
    "accelerator": "GPU"
  },
  "cells": [
    {
      "cell_type": "markdown",
      "metadata": {
        "id": "oJd_VxDKN8pn",
        "colab_type": "text"
      },
      "source": [
        "# Task A: Creating a Performance Predictor\n",
        "\n",
        "In this task, you will use training data from 2000 configurations on a single OpenML dataset to train a performance predictor. The data will be splitted into train, test and validation set and we will only use the first 10 epochs of the learning curves for predicitons. You are provided with the full benchmark logs for Fashion-MNIST, that is learning curves, config parameters and gradient statistics, and you can use them freely.\n",
        "\n",
        "For questions, you can contact zimmerl@informatik.uni-freiburg.\n",
        "\n",
        "__Note: Please use the dataloading and splits you are provided with in this notebook.__"
      ]
    },
    {
      "cell_type": "markdown",
      "metadata": {
        "id": "cqPBWpd5N8pt",
        "colab_type": "text"
      },
      "source": [
        "## Specifications:\n",
        "\n",
        "* Data: fashion_mnist.json\n",
        "* Number of datasets: 1\n",
        "* Number of configurations: 2000\n",
        "* Number of epochs seed during prediction: 10\n",
        "* Available data: Learning curves, architecture parameters and hyperparameters, gradient statistics \n",
        "* Target: Final validation accuracy\n",
        "* Evaluation metric: MSE"
      ]
    },
    {
      "cell_type": "markdown",
      "metadata": {
        "id": "4eYlSG9BN8py",
        "colab_type": "text"
      },
      "source": [
        "## Importing and splitting data\n",
        "\n",
        "__Note__: There are 51 steps logged, 50 epochs plus the 0th epoch, prior to any weight updates."
      ]
    },
    {
      "cell_type": "code",
      "metadata": {
        "id": "aT8tEKUJOqNy",
        "colab_type": "code",
        "outputId": "fe6ede0f-a58b-4690-c9ab-fce1e2a92651",
        "colab": {
          "base_uri": "https://localhost:8080/",
          "height": 248
        }
      },
      "source": [
        "!pip install wget\n",
        "!pip install zipfile36"
      ],
      "execution_count": 4,
      "outputs": [
        {
          "output_type": "stream",
          "text": [
            "Collecting wget\n",
            "  Downloading https://files.pythonhosted.org/packages/47/6a/62e288da7bcda82b935ff0c6cfe542970f04e29c756b0e147251b2fb251f/wget-3.2.zip\n",
            "Building wheels for collected packages: wget\n",
            "  Building wheel for wget (setup.py) ... \u001b[?25l\u001b[?25hdone\n",
            "  Created wheel for wget: filename=wget-3.2-cp36-none-any.whl size=9682 sha256=a0b3eea70003b5a1a24c828e96b4d19712064da8464d4506b9342c7d248238c7\n",
            "  Stored in directory: /root/.cache/pip/wheels/40/15/30/7d8f7cea2902b4db79e3fea550d7d7b85ecb27ef992b618f3f\n",
            "Successfully built wget\n",
            "Installing collected packages: wget\n",
            "Successfully installed wget-3.2\n",
            "Collecting zipfile36\n",
            "  Downloading https://files.pythonhosted.org/packages/fd/8a/3b7da0b0bd87d1ef05b74207827c72d348b56a0d6d83242582be18a81e02/zipfile36-0.1.3-py3-none-any.whl\n",
            "Installing collected packages: zipfile36\n",
            "Successfully installed zipfile36-0.1.3\n"
          ],
          "name": "stdout"
        }
      ]
    },
    {
      "cell_type": "code",
      "metadata": {
        "id": "-GSY73FpOPdD",
        "colab_type": "code",
        "colab": {}
      },
      "source": [
        "import wget\n",
        "import zipfile\n",
        "dir_path = 'content/'\n",
        "filename=wget.download('https://ndownloader.figshare.com/files/21001311')\n",
        "with zipfile.ZipFile(filename, 'r') as zip_ref:\n",
        "    zip_ref.extractall(\"\")\n",
        "!rm fashion_mnist.zip\n",
        "wget.download('https://raw.githubusercontent.com/automl/LCBench/master/api.py')\n",
        "wget.download('https://raw.githubusercontent.com/infomon/Extrapolation-of-Learning-Curves/master/utils.py')\n",
        "!mkdir content/models\n",
        "!mkdir models"
      ],
      "execution_count": 0,
      "outputs": []
    },
    {
      "cell_type": "code",
      "metadata": {
        "id": "ql1OqCfgN8p4",
        "colab_type": "code",
        "colab": {}
      },
      "source": [
        "%%capture\n",
        "%cd ..\n",
        "import numpy as np\n",
        "from sklearn.model_selection import train_test_split\n",
        "from sklearn.metrics import mean_squared_error\n",
        "import matplotlib.pyplot as plt\n",
        "\n",
        "from api import Benchmark\n",
        "import utils as utils\n",
        "import torch"
      ],
      "execution_count": 0,
      "outputs": []
    },
    {
      "cell_type": "code",
      "metadata": {
        "id": "e2sQv_05N8qJ",
        "colab_type": "code",
        "outputId": "2a8bd3a4-6858-4629-d131-855a4474c674",
        "colab": {
          "base_uri": "https://localhost:8080/",
          "height": 88
        }
      },
      "source": [
        "bench_dir = dir_path+\"fashion_mnist.json\"\n",
        "bench = Benchmark(bench_dir, cache=False)"
      ],
      "execution_count": 10,
      "outputs": [
        {
          "output_type": "stream",
          "text": [
            "==> Loading data...\n",
            "==> No cached data found or cache set to False.\n",
            "==> Reading json data...\n",
            "==> Done.\n"
          ],
          "name": "stdout"
        }
      ]
    },
    {
      "cell_type": "code",
      "metadata": {
        "id": "9eq4DxuuN8qe",
        "colab_type": "code",
        "outputId": "6b8cf167-4419-45cc-d72c-74734a515d86",
        "colab": {
          "base_uri": "https://localhost:8080/",
          "height": 70
        }
      },
      "source": [
        "# Read data\n",
        "def cut_data(data, cut_position):\n",
        "    targets = []\n",
        "    for dp in data:\n",
        "        targets.append(dp[\"Train/val_accuracy\"][50])\n",
        "        for tag in dp:\n",
        "            if tag.startswith(\"Train/\"):\n",
        "                dp[tag] = dp[tag][0:cut_position]\n",
        "    return data, targets\n",
        "\n",
        "def read_data():\n",
        "    dataset_name = 'Fashion-MNIST'\n",
        "    n_configs = bench.get_number_of_configs(dataset_name)\n",
        "    \n",
        "    # Query API\n",
        "    data = []\n",
        "    for config_id in range(n_configs):\n",
        "        data_point = dict()\n",
        "        data_point[\"config\"] = bench.query(dataset_name=dataset_name, tag=\"config\", config_id=config_id)\n",
        "        for tag in bench.get_queriable_tags(dataset_name=dataset_name, config_id=config_id):\n",
        "            if tag.startswith(\"Train/\"):\n",
        "                data_point[tag] = bench.query(dataset_name=dataset_name, tag=tag, config_id=config_id)    \n",
        "        data.append(data_point)\n",
        "        \n",
        "    # Split: 50% train, 25% validation, 25% test (the data is already shuffled)\n",
        "    indices = np.arange(n_configs)\n",
        "    ind_train = indices[0:int(np.floor(0.5*n_configs))]\n",
        "    ind_val = indices[int(np.floor(0.5*n_configs)):int(np.floor(0.75*n_configs))]\n",
        "    ind_test = indices[int(np.floor(0.75*n_configs)):]\n",
        "\n",
        "    array_data = np.array(data)\n",
        "    train_data = array_data[ind_train]\n",
        "    val_data = array_data[ind_val]\n",
        "    test_data = array_data[ind_test]\n",
        "    \n",
        "    # Cut curves for validation and test\n",
        "    cut_position = 11\n",
        "    #val_data, val_targets = cut_data(val_data, cut_position)\n",
        "    #test_data, test_targets = cut_data(test_data, cut_position)\n",
        "    val_data, val_targets = cut_data(val_data, 51)\n",
        "    test_data, test_targets = cut_data(test_data, 51)\n",
        "    train_data, train_targets = cut_data(train_data, 51)   # Cut last value as it is repeated\n",
        "    \n",
        "    return train_data, val_data, test_data, train_targets, val_targets, test_targets\n",
        "    \n",
        "train_data, val_data, test_data, train_targets, val_targets, test_targets = read_data()\n",
        "\n",
        "print(\"Train:\", len(train_data))\n",
        "print(\"Validation:\", len(val_data))\n",
        "print(\"Test:\", len(test_data))"
      ],
      "execution_count": 11,
      "outputs": [
        {
          "output_type": "stream",
          "text": [
            "Train: 1000\n",
            "Validation: 500\n",
            "Test: 500\n"
          ],
          "name": "stdout"
        }
      ]
    },
    {
      "cell_type": "markdown",
      "metadata": {
        "id": "9PphdZ2aN8qv",
        "colab_type": "text"
      },
      "source": [
        "The data contains the configuration of the trained model and learning curves as well as global and layer-wise gradient statistics.\n",
        "\n",
        "__Note__: Not all parameters vary across different configurations. The varying parameters are batch_size, max_dropout, max_units, num_layers, learning_rate, momentum, weight_decay"
      ]
    },
    {
      "cell_type": "code",
      "metadata": {
        "id": "Ybnns3VKN8q0",
        "colab_type": "code",
        "outputId": "8863e664-69c6-4ecf-8604-ee9c95f56fa7",
        "colab": {
          "base_uri": "https://localhost:8080/",
          "height": 55
        }
      },
      "source": [
        "# Config\n",
        "print(\"Config example:\", train_data[0][\"config\"])"
      ],
      "execution_count": 12,
      "outputs": [
        {
          "output_type": "stream",
          "text": [
            "Config example: {'batch_size': 71, 'imputation_strategy': 'mean', 'learning_rate_scheduler': 'cosine_annealing', 'loss': 'cross_entropy_weighted', 'network': 'shapedmlpnet', 'max_dropout': 0.025926231827891333, 'normalization_strategy': 'standardize', 'optimizer': 'sgd', 'cosine_annealing_T_max': 50, 'cosine_annealing_eta_min': 1e-08, 'activation': 'relu', 'max_units': 293, 'mlp_shape': 'funnel', 'num_layers': 3, 'learning_rate': 0.0018243300267253295, 'momentum': 0.21325193168301043, 'weight_decay': 0.020472816917443872}\n"
          ],
          "name": "stdout"
        }
      ]
    },
    {
      "cell_type": "code",
      "metadata": {
        "id": "Ua6h3ORrlA5N",
        "colab_type": "code",
        "outputId": "857bfd65-6bdb-4512-e362-92d790494363",
        "colab": {
          "base_uri": "https://localhost:8080/",
          "height": 319
        }
      },
      "source": [
        "train_data[1][\"config\"]"
      ],
      "execution_count": 13,
      "outputs": [
        {
          "output_type": "execute_result",
          "data": {
            "text/plain": [
              "{'activation': 'relu',\n",
              " 'batch_size': 457,\n",
              " 'cosine_annealing_T_max': 50,\n",
              " 'cosine_annealing_eta_min': 1e-08,\n",
              " 'imputation_strategy': 'mean',\n",
              " 'learning_rate': 0.01239328605026128,\n",
              " 'learning_rate_scheduler': 'cosine_annealing',\n",
              " 'loss': 'cross_entropy_weighted',\n",
              " 'max_dropout': 0.5472322491757223,\n",
              " 'max_units': 950,\n",
              " 'mlp_shape': 'funnel',\n",
              " 'momentum': 0.16411425552061212,\n",
              " 'network': 'shapedmlpnet',\n",
              " 'normalization_strategy': 'standardize',\n",
              " 'num_layers': 4,\n",
              " 'optimizer': 'sgd',\n",
              " 'weight_decay': 0.09762768273307641}"
            ]
          },
          "metadata": {
            "tags": []
          },
          "execution_count": 13
        }
      ]
    },
    {
      "cell_type": "code",
      "metadata": {
        "id": "pTl67TOTN8rD",
        "colab_type": "code",
        "outputId": "37add259-21a7-4d65-cfbf-4c5625eda43a",
        "colab": {
          "base_uri": "https://localhost:8080/",
          "height": 283
        }
      },
      "source": [
        "# Learning curve\n",
        "plt.plot(train_data[10][\"Train/val_accuracy\"])"
      ],
      "execution_count": 14,
      "outputs": [
        {
          "output_type": "execute_result",
          "data": {
            "text/plain": [
              "[<matplotlib.lines.Line2D at 0x7faae2244438>]"
            ]
          },
          "metadata": {
            "tags": []
          },
          "execution_count": 14
        },
        {
          "output_type": "display_data",
          "data": {
            "image/png": "[encoded data removed]",
            "text/plain": [
              "<Figure size 432x288 with 1 Axes>"
            ]
          },
          "metadata": {
            "tags": []
          }
        }
      ]
    },
    {
      "cell_type": "code",
      "metadata": {
        "id": "zXGuPeBKN8rM",
        "colab_type": "code",
        "outputId": "1ec375da-1ad4-44ea-f66a-8460523c3678",
        "colab": {
          "base_uri": "https://localhost:8080/",
          "height": 283
        }
      },
      "source": [
        "# Gradient statistics\n",
        "plt.plot(train_data[10][\"Train/layer_wise_gradient_mean_layer_0\"])"
      ],
      "execution_count": 15,
      "outputs": [
        {
          "output_type": "execute_result",
          "data": {
            "text/plain": [
              "[<matplotlib.lines.Line2D at 0x7faae1d0c898>]"
            ]
          },
          "metadata": {
            "tags": []
          },
          "execution_count": 15
        },
        {
          "output_type": "display_data",
          "data": {
            "image/png": "[encoded data removed]",
            "text/plain": [
              "<Figure size 432x288 with 1 Axes>"
            ]
          },
          "metadata": {
            "tags": []
          }
        }
      ]
    },
    {
      "cell_type": "markdown",
      "metadata": {
        "id": "IaYC_PH4N8rQ",
        "colab_type": "text"
      },
      "source": [
        "## A simple baseline"
      ]
    },
    {
      "cell_type": "code",
      "metadata": {
        "id": "WJrvEgLzN8rS",
        "colab_type": "code",
        "colab": {}
      },
      "source": [
        "class SimpleLearningCurvePredictor():\n",
        "    \"\"\"A learning curve predictor that predicts the last observed epoch of the validation accuracy as final performance\"\"\"\n",
        "    \n",
        "    def __init__(self):\n",
        "        pass\n",
        "        \n",
        "    def fit(self, X, y):\n",
        "        pass\n",
        "    \n",
        "    def predict(self, X):\n",
        "        predictions = []\n",
        "        for datapoint in X:\n",
        "            predictions.append(datapoint[\"Train/val_accuracy\"][-1])\n",
        "        return predictions\n",
        "    \n",
        "def score(y_true, y_pred):\n",
        "    return mean_squared_error(y_true, y_pred)"
      ],
      "execution_count": 0,
      "outputs": []
    },
    {
      "cell_type": "code",
      "metadata": {
        "id": "d23UZhgHN8rW",
        "colab_type": "code",
        "outputId": "1fa6d5d4-9174-45cb-d1b2-d2d15b727b0d",
        "colab": {
          "base_uri": "https://localhost:8080/",
          "height": 35
        }
      },
      "source": [
        "# Training & tuning\n",
        "predictor = SimpleLearningCurvePredictor()\n",
        "predictor.fit(train_data, train_targets)\n",
        "preds = predictor.predict(val_data)\n",
        "mse = score(val_targets, preds)\n",
        "print(\"Score on validation set:\", mse)"
      ],
      "execution_count": 17,
      "outputs": [
        {
          "output_type": "stream",
          "text": [
            "Score on validation set: 0.0\n"
          ],
          "name": "stdout"
        }
      ]
    },
    {
      "cell_type": "code",
      "metadata": {
        "id": "NMWiY0XbN8rc",
        "colab_type": "code",
        "outputId": "a705f4fa-e6e7-468f-b253-5e48343d0290",
        "colab": {
          "base_uri": "https://localhost:8080/",
          "height": 35
        }
      },
      "source": [
        "# Final evaluation (after tuning)\n",
        "final_preds = predictor.predict(test_data)\n",
        "final_score = score(test_targets, final_preds)\n",
        "print(\"Final test score:\", final_score)"
      ],
      "execution_count": 18,
      "outputs": [
        {
          "output_type": "stream",
          "text": [
            "Final test score: 0.0\n"
          ],
          "name": "stdout"
        }
      ]
    },
    {
      "cell_type": "code",
      "metadata": {
        "id": "VnEQJbbLyGG2",
        "colab_type": "code",
        "colab": {}
      },
      "source": [
        "train_data_loader = utils.prep_data(train_data, train_targets, batch_size=32,normalization_factor_temporal_data=[100], one_shot=True)\n",
        "val_data_loader = utils.prep_data(val_data, val_targets, batch_size=32,normalization_factor_temporal_data=[100], one_shot=True)\n",
        "test_data_loader = utils.prep_data(test_data, test_targets, batch_size=32,normalization_factor_temporal_data=[100],one_shot=True)"
      ],
      "execution_count": 0,
      "outputs": []
    },
    {
      "cell_type": "code",
      "metadata": {
        "id": "YBGim3i6CoCK",
        "colab_type": "code",
        "colab": {}
      },
      "source": [
        "class EncoderRNN(torch.nn.Module):\n",
        "    def __init__(self, input_size, hidden_size, nof_configs, num_layers, dropout = 0.5, bidirectional=False):\n",
        "        super(EncoderRNN, self).__init__()\n",
        "        \n",
        "        self.nof_configs = nof_configs\n",
        "        self.num_layers = num_layers\n",
        "        self.dropout = dropout\n",
        "        self.bidirectional = bidirectional\n",
        "        self.num_directions = 2 if bidirectional else 1\n",
        "        \n",
        "        self.hidden_size = hidden_size\n",
        "        self.lstm = torch.nn.LSTM(input_size=input_size, \n",
        "                                  hidden_size=hidden_size,\n",
        "                                  num_layers=num_layers,\n",
        "                                  dropout=dropout,\n",
        "                                  bidirectional=bidirectional)\n",
        "\n",
        "        self.relu = torch.nn.functional.relu\n",
        "\n",
        "        self.encode_fc1 = torch.nn.Linear(self.nof_configs,int(self.hidden_size/2))\n",
        "        self.encode_bn1 = torch.nn.BatchNorm1d(int(self.hidden_size/2))\n",
        "        self.encode_fc2 = torch.nn.Linear(int(self.hidden_size/2),self.hidden_size)\n",
        "        self.encode_bn2 = torch.nn.BatchNorm1d(self.hidden_size)\n",
        "\n",
        "    def forward(self, seq, config):\n",
        "        h0 = self.initHidden(config)\n",
        "        c0 = self.initCell(seq.size()[0])\n",
        "        seq = torch.t(seq)\n",
        "        seq = seq.unsqueeze(-1)\n",
        "        output, (hidden,cell) = self.lstm(seq, (h0,c0))\n",
        "        return output, hidden, cell\n",
        "\n",
        "    def initHidden(self, config):\n",
        "        x = self.relu(self.encode_bn1(self.encode_fc1(config)))\n",
        "        x = self.relu(self.encode_bn2(self.encode_fc2(x)))\n",
        "        return torch.stack([x for _ in range(self.num_layers*self.num_directions)])\n",
        "\n",
        "    def initCell(self, batch_size):\n",
        "        return torch.zeros(self.num_layers*self.num_directions, batch_size, self.hidden_size)"
      ],
      "execution_count": 0,
      "outputs": []
    },
    {
      "cell_type": "code",
      "metadata": {
        "id": "dErX6on9FYyy",
        "colab_type": "code",
        "colab": {}
      },
      "source": [
        "class DecoderRNN(torch.nn.Module):\n",
        "    def __init__(self, input_size, hidden_size, output_size, num_layers, dropout = 0.5, bidirectional=False):\n",
        "        super(DecoderRNN, self).__init__()\n",
        "        \n",
        "        self.output_size = output_size\n",
        "        self.num_layers = num_layers\n",
        "        self.dropout = dropout\n",
        "        self.bidirectional = bidirectional\n",
        "        self.num_directions = 2 if bidirectional else 1\n",
        "        \n",
        "        self.hidden_size = hidden_size\n",
        "        self.lstm = torch.nn.LSTM(input_size=input_size, \n",
        "                                  hidden_size=hidden_size,\n",
        "                                  num_layers=num_layers,\n",
        "                                  dropout=dropout,\n",
        "                                  bidirectional=bidirectional)\n",
        "        \n",
        "        self.fc_out = torch.nn.Linear(hidden_size, output_size)\n",
        "        self.relu = torch.nn.functional.relu\n",
        "\n",
        "    def forward(self, seq, h0, c0):\n",
        "        seq = seq.unsqueeze(0)\n",
        "        seq = seq.unsqueeze(-1)\n",
        "        output, (hidden,cell) = self.lstm(seq, (h0,c0))\n",
        "        output = self.fc_out(output)\n",
        "        return output.squeeze(), hidden, cell\n"
      ],
      "execution_count": 0,
      "outputs": []
    },
    {
      "cell_type": "code",
      "metadata": {
        "id": "Hwbesz1Slf4k",
        "colab_type": "code",
        "colab": {}
      },
      "source": [
        "class Seq2Seq(torch.nn.Module):\n",
        "  def __init__(self, encoder, decoder):\n",
        "    super(Seq2Seq, self).__init__()\n",
        "    self.encoder = encoder\n",
        "    self.decoder = decoder\n",
        "\n",
        "    assert encoder.hidden_size == decoder.hidden_size\n",
        "    #assert encoder.num_layers == decoder.num_layers\n",
        "\n",
        "  def forward(self, source, target, teacher_forcing_ratio = 0.5):\n",
        "    batch_size = target.size()[0]\n",
        "    target_len = target.size()[1]\n",
        "\n",
        "    outputs = torch.zeros(target_len, batch_size, 1)\n",
        "\n",
        "    seq , config = source\n",
        "    output, hidden, cell = self.encoder(seq, config)\n",
        "\n",
        "    decoder_input = target[:,0]\n",
        "    for t in range(1, target_len):\n",
        "      output, hidden, cell = self.decoder(decoder_input, hidden, cell)\n",
        "      outputs[t] = output.unsqueeze(-1)\n",
        "      use_teacher_forcing = np.random.random() < teacher_forcing_ratio\n",
        "      decoder_input = target[:,t] if use_teacher_forcing else output\n",
        "    return outputs"
      ],
      "execution_count": 0,
      "outputs": []
    },
    {
      "cell_type": "code",
      "metadata": {
        "id": "JVWyDKngncVl",
        "colab_type": "code",
        "colab": {}
      },
      "source": [
        "def init_weights(m):\n",
        "  for name, param in m.named_parameters():\n",
        "        torch.nn.init.uniform_(param.data, -0.08, 0.08)"
      ],
      "execution_count": 0,
      "outputs": []
    },
    {
      "cell_type": "code",
      "metadata": {
        "id": "jR-Zp7gmnXU_",
        "colab_type": "code",
        "colab": {}
      },
      "source": [
        "input_size = 1\n",
        "outcome_dim = 1\n",
        "hidden_dim = 32\n",
        "num_layers = 2\n",
        "config_size = 7\n",
        "bidirectional=True\n",
        "lr=0.01\n",
        "weight_decay=10e-3\n",
        "epochs=500\n",
        "T_0 = int(epochs/8)\n",
        "\n",
        "encoder = EncoderRNN(input_size, hidden_dim, config_size, num_layers,bidirectional=True)\n",
        "decoder = DecoderRNN(input_size, hidden_dim, outcome_dim, 2*num_layers if bidirectional else num_layers)\n",
        "model = Seq2Seq(encoder, decoder)\n",
        "model.apply(init_weights)\n",
        "\n",
        "criterion = torch.nn.MSELoss()\n",
        "optimizer = torch.optim.Adam(model.parameters(), lr=lr, weight_decay=weight_decay)\n",
        "scheduler = torch.optim.lr_scheduler.CosineAnnealingWarmRestarts(optimizer, T_0=T_0)"
      ],
      "execution_count": 0,
      "outputs": []
    },
    {
      "cell_type": "code",
      "metadata": {
        "id": "sk5Jat93mO_l",
        "colab_type": "code",
        "colab": {}
      },
      "source": [
        "def train(model, optimizer, criterion, clip=5):\n",
        "    model.train()\n",
        "    epoch_loss = 0\n",
        "    for val_acc, configs, targets in train_data_loader:\n",
        "      optimizer.zero_grad()\n",
        "      output = model([val_acc,configs],targets)\n",
        "      output = output.squeeze()\n",
        "      output = torch.t(output)\n",
        "      loss = criterion(output, targets)\n",
        "      loss.backward()\n",
        "      torch.nn.utils.clip_grad_norm_(model.parameters(),clip)\n",
        "      optimizer.step()\n",
        "      epoch_loss += loss.item()\n",
        "    return epoch_loss/len(train_data_loader)"
      ],
      "execution_count": 0,
      "outputs": []
    },
    {
      "cell_type": "code",
      "metadata": {
        "id": "7GulE-3SosoY",
        "colab_type": "code",
        "colab": {}
      },
      "source": [
        "def evaluate(model, criterion):\n",
        "  model.eval()\n",
        "  epoch_loss = 0\n",
        "  with torch.no_grad():\n",
        "    for val_acc, configs, targets in val_data_loader:\n",
        "      output = model([val_acc, configs], targets, 0)\n",
        "      output = output.squeeze()\n",
        "      output = torch.t(output)\n",
        "      loss = criterion(output, targets)\n",
        "      epoch_loss += loss.item()\n",
        "  return epoch_loss / len(val_data_loader)"
      ],
      "execution_count": 0,
      "outputs": []
    },
    {
      "cell_type": "code",
      "metadata": {
        "id": "hqBLkuRznl9y",
        "colab_type": "code",
        "colab": {
          "base_uri": "https://localhost:8080/",
          "height": 1000
        },
        "outputId": "6f8b59b7-e621-42c5-cf50-cc29e9d850ad"
      },
      "source": [
        "best_val_loss = float('inf')\n",
        "\n",
        "for epoch in range(epochs):\n",
        "  train_loss = train(model, optimizer, criterion)\n",
        "  val_loss = evaluate(model, criterion)\n",
        "\n",
        "  if val_loss < best_val_loss:\n",
        "    torch.save(model.state_dict(),\"content/models/model.pt\")    \n",
        "    print('Val loss decreased ({:.6f} --> {:.6f}).  Saving model ...'.format(best_val_loss,val_loss))\n",
        "    best_val_loss = val_loss\n",
        "\n",
        "  print(f'Epoch: {epoch}\\t Train Loss: {train_loss:.3f}\\t Val. Loss: {val_loss:.3f}')\n",
        "  scheduler.step()"
      ],
      "execution_count": 27,
      "outputs": [
        {
          "output_type": "stream",
          "text": [
            "Val loss decreased (inf --> 4301.206055).  Saving model ...\n",
            "Epoch: 0\t Train Loss: 5100.444\t Val. Loss: 4301.206\n",
            "Val loss decreased (4301.206055 --> 3032.438019).  Saving model ...\n",
            "Epoch: 1\t Train Loss: 3679.214\t Val. Loss: 3032.438\n",
            "Val loss decreased (3032.438019 --> 2002.973480).  Saving model ...\n",
            "Epoch: 2\t Train Loss: 2527.829\t Val. Loss: 2002.973\n",
            "Val loss decreased (2002.973480 --> 1202.829376).  Saving model ...\n",
            "Epoch: 3\t Train Loss: 1611.532\t Val. Loss: 1202.829\n",
            "Val loss decreased (1202.829376 --> 624.132610).  Saving model ...\n",
            "Epoch: 4\t Train Loss: 920.210\t Val. Loss: 624.133\n",
            "Val loss decreased (624.132610 --> 261.125906).  Saving model ...\n",
            "Epoch: 5\t Train Loss: 447.533\t Val. Loss: 261.126\n",
            "Val loss decreased (261.125906 --> 106.993584).  Saving model ...\n",
            "Epoch: 6\t Train Loss: 188.378\t Val. Loss: 106.994\n",
            "Val loss decreased (106.993584 --> 67.704506).  Saving model ...\n",
            "Epoch: 7\t Train Loss: 109.364\t Val. Loss: 67.705\n",
            "Val loss decreased (67.704506 --> 19.414078).  Saving model ...\n",
            "Epoch: 8\t Train Loss: 65.140\t Val. Loss: 19.414\n",
            "Epoch: 9\t Train Loss: 26.402\t Val. Loss: 29.070\n",
            "Val loss decreased (19.414078 --> 16.990633).  Saving model ...\n",
            "Epoch: 10\t Train Loss: 27.133\t Val. Loss: 16.991\n",
            "Epoch: 11\t Train Loss: 19.725\t Val. Loss: 26.875\n",
            "Val loss decreased (16.990633 --> 14.817405).  Saving model ...\n",
            "Epoch: 12\t Train Loss: 21.061\t Val. Loss: 14.817\n",
            "Epoch: 13\t Train Loss: 21.938\t Val. Loss: 21.802\n",
            "Val loss decreased (14.817405 --> 13.516224).  Saving model ...\n",
            "Epoch: 14\t Train Loss: 15.951\t Val. Loss: 13.516\n",
            "Epoch: 15\t Train Loss: 21.423\t Val. Loss: 36.401\n",
            "Epoch: 16\t Train Loss: 18.222\t Val. Loss: 17.535\n",
            "Epoch: 17\t Train Loss: 19.746\t Val. Loss: 18.748\n",
            "Epoch: 18\t Train Loss: 17.418\t Val. Loss: 26.890\n",
            "Epoch: 19\t Train Loss: 22.087\t Val. Loss: 17.543\n",
            "Epoch: 20\t Train Loss: 21.115\t Val. Loss: 14.346\n",
            "Epoch: 21\t Train Loss: 16.457\t Val. Loss: 19.993\n",
            "Epoch: 22\t Train Loss: 17.315\t Val. Loss: 15.166\n",
            "Epoch: 23\t Train Loss: 14.193\t Val. Loss: 14.863\n",
            "Epoch: 24\t Train Loss: 16.394\t Val. Loss: 14.554\n",
            "Val loss decreased (13.516224 --> 12.160236).  Saving model ...\n",
            "Epoch: 25\t Train Loss: 13.838\t Val. Loss: 12.160\n",
            "Epoch: 26\t Train Loss: 14.324\t Val. Loss: 13.825\n",
            "Val loss decreased (12.160236 --> 10.606780).  Saving model ...\n",
            "Epoch: 27\t Train Loss: 14.120\t Val. Loss: 10.607\n",
            "Val loss decreased (10.606780 --> 10.420105).  Saving model ...\n",
            "Epoch: 28\t Train Loss: 12.830\t Val. Loss: 10.420\n",
            "Epoch: 29\t Train Loss: 12.998\t Val. Loss: 11.307\n",
            "Epoch: 30\t Train Loss: 14.234\t Val. Loss: 14.838\n",
            "Epoch: 31\t Train Loss: 14.294\t Val. Loss: 10.715\n",
            "Epoch: 32\t Train Loss: 12.217\t Val. Loss: 10.759\n",
            "Epoch: 33\t Train Loss: 14.243\t Val. Loss: 13.945\n",
            "Epoch: 34\t Train Loss: 14.209\t Val. Loss: 11.549\n",
            "Epoch: 35\t Train Loss: 13.501\t Val. Loss: 12.409\n",
            "Epoch: 36\t Train Loss: 14.162\t Val. Loss: 11.240\n",
            "Epoch: 37\t Train Loss: 12.646\t Val. Loss: 11.798\n",
            "Epoch: 38\t Train Loss: 12.596\t Val. Loss: 11.717\n",
            "Epoch: 39\t Train Loss: 13.486\t Val. Loss: 10.569\n",
            "Epoch: 40\t Train Loss: 12.032\t Val. Loss: 10.449\n",
            "Epoch: 41\t Train Loss: 11.551\t Val. Loss: 10.755\n",
            "Epoch: 42\t Train Loss: 12.244\t Val. Loss: 10.584\n",
            "Val loss decreased (10.420105 --> 10.195422).  Saving model ...\n",
            "Epoch: 43\t Train Loss: 11.692\t Val. Loss: 10.195\n",
            "Epoch: 44\t Train Loss: 11.315\t Val. Loss: 10.999\n",
            "Epoch: 45\t Train Loss: 11.316\t Val. Loss: 10.614\n",
            "Epoch: 46\t Train Loss: 11.564\t Val. Loss: 10.485\n",
            "Epoch: 47\t Train Loss: 11.692\t Val. Loss: 10.952\n",
            "Epoch: 48\t Train Loss: 11.541\t Val. Loss: 10.619\n",
            "Epoch: 49\t Train Loss: 11.299\t Val. Loss: 10.198\n",
            "Epoch: 50\t Train Loss: 10.900\t Val. Loss: 10.293\n",
            "Val loss decreased (10.195422 --> 10.025176).  Saving model ...\n",
            "Epoch: 51\t Train Loss: 11.564\t Val. Loss: 10.025\n",
            "Epoch: 52\t Train Loss: 11.048\t Val. Loss: 10.098\n",
            "Val loss decreased (10.025176 --> 9.663430).  Saving model ...\n",
            "Epoch: 53\t Train Loss: 10.788\t Val. Loss: 9.663\n",
            "Val loss decreased (9.663430 --> 9.592563).  Saving model ...\n",
            "Epoch: 54\t Train Loss: 10.709\t Val. Loss: 9.593\n",
            "Val loss decreased (9.592563 --> 9.428063).  Saving model ...\n",
            "Epoch: 55\t Train Loss: 9.994\t Val. Loss: 9.428\n",
            "Epoch: 56\t Train Loss: 10.123\t Val. Loss: 9.483\n",
            "Val loss decreased (9.428063 --> 9.363831).  Saving model ...\n",
            "Epoch: 57\t Train Loss: 10.612\t Val. Loss: 9.364\n",
            "Val loss decreased (9.363831 --> 9.295733).  Saving model ...\n",
            "Epoch: 58\t Train Loss: 10.678\t Val. Loss: 9.296\n",
            "Epoch: 59\t Train Loss: 10.209\t Val. Loss: 9.317\n",
            "Epoch: 60\t Train Loss: 10.197\t Val. Loss: 9.300\n",
            "Val loss decreased (9.295733 --> 9.295406).  Saving model ...\n",
            "Epoch: 61\t Train Loss: 10.262\t Val. Loss: 9.295\n",
            "Epoch: 62\t Train Loss: 15.768\t Val. Loss: 14.087\n",
            "Epoch: 63\t Train Loss: 16.415\t Val. Loss: 15.048\n",
            "Epoch: 64\t Train Loss: 16.080\t Val. Loss: 21.504\n",
            "Epoch: 65\t Train Loss: 18.064\t Val. Loss: 13.427\n",
            "Epoch: 66\t Train Loss: 18.693\t Val. Loss: 14.015\n",
            "Epoch: 67\t Train Loss: 15.649\t Val. Loss: 17.912\n",
            "Epoch: 68\t Train Loss: 15.501\t Val. Loss: 20.791\n",
            "Epoch: 69\t Train Loss: 15.565\t Val. Loss: 14.940\n",
            "Epoch: 70\t Train Loss: 19.299\t Val. Loss: 22.894\n",
            "Epoch: 71\t Train Loss: 19.077\t Val. Loss: 13.838\n",
            "Epoch: 72\t Train Loss: 14.737\t Val. Loss: 12.862\n",
            "Epoch: 73\t Train Loss: 17.015\t Val. Loss: 12.239\n",
            "Epoch: 74\t Train Loss: 16.342\t Val. Loss: 18.044\n",
            "Epoch: 75\t Train Loss: 17.249\t Val. Loss: 11.322\n",
            "Epoch: 76\t Train Loss: 13.382\t Val. Loss: 13.470\n",
            "Epoch: 77\t Train Loss: 16.664\t Val. Loss: 14.176\n",
            "Epoch: 78\t Train Loss: 14.347\t Val. Loss: 13.890\n",
            "Epoch: 79\t Train Loss: 14.758\t Val. Loss: 16.273\n",
            "Epoch: 80\t Train Loss: 15.776\t Val. Loss: 11.930\n",
            "Epoch: 81\t Train Loss: 13.290\t Val. Loss: 11.061\n",
            "Epoch: 82\t Train Loss: 12.859\t Val. Loss: 11.851\n",
            "Epoch: 83\t Train Loss: 12.656\t Val. Loss: 15.109\n",
            "Epoch: 84\t Train Loss: 13.464\t Val. Loss: 11.861\n",
            "Epoch: 85\t Train Loss: 14.031\t Val. Loss: 11.380\n",
            "Epoch: 86\t Train Loss: 14.038\t Val. Loss: 14.012\n",
            "Epoch: 87\t Train Loss: 13.537\t Val. Loss: 12.037\n",
            "Epoch: 88\t Train Loss: 12.723\t Val. Loss: 10.263\n",
            "Epoch: 89\t Train Loss: 12.705\t Val. Loss: 10.807\n",
            "Epoch: 90\t Train Loss: 13.024\t Val. Loss: 13.396\n",
            "Epoch: 91\t Train Loss: 15.322\t Val. Loss: 11.283\n",
            "Epoch: 92\t Train Loss: 12.047\t Val. Loss: 10.906\n",
            "Epoch: 93\t Train Loss: 12.632\t Val. Loss: 10.391\n",
            "Epoch: 94\t Train Loss: 13.222\t Val. Loss: 10.836\n",
            "Epoch: 95\t Train Loss: 10.838\t Val. Loss: 11.285\n",
            "Epoch: 96\t Train Loss: 12.316\t Val. Loss: 9.694\n",
            "Epoch: 97\t Train Loss: 12.616\t Val. Loss: 10.163\n",
            "Epoch: 98\t Train Loss: 11.977\t Val. Loss: 10.485\n",
            "Val loss decreased (9.295406 --> 9.243576).  Saving model ...\n",
            "Epoch: 99\t Train Loss: 10.985\t Val. Loss: 9.244\n",
            "Epoch: 100\t Train Loss: 11.007\t Val. Loss: 9.875\n",
            "Epoch: 101\t Train Loss: 11.117\t Val. Loss: 9.676\n",
            "Epoch: 102\t Train Loss: 11.487\t Val. Loss: 11.865\n",
            "Epoch: 103\t Train Loss: 10.452\t Val. Loss: 10.312\n",
            "Epoch: 104\t Train Loss: 11.048\t Val. Loss: 11.590\n",
            "Val loss decreased (9.243576 --> 9.180577).  Saving model ...\n",
            "Epoch: 105\t Train Loss: 11.114\t Val. Loss: 9.181\n",
            "Epoch: 106\t Train Loss: 12.012\t Val. Loss: 9.710\n",
            "Epoch: 107\t Train Loss: 11.097\t Val. Loss: 9.824\n",
            "Epoch: 108\t Train Loss: 10.426\t Val. Loss: 9.967\n",
            "Epoch: 109\t Train Loss: 10.012\t Val. Loss: 9.419\n",
            "Epoch: 110\t Train Loss: 10.173\t Val. Loss: 9.278\n",
            "Epoch: 111\t Train Loss: 10.435\t Val. Loss: 9.373\n",
            "Epoch: 112\t Train Loss: 10.247\t Val. Loss: 9.323\n",
            "Val loss decreased (9.180577 --> 9.122853).  Saving model ...\n",
            "Epoch: 113\t Train Loss: 9.715\t Val. Loss: 9.123\n",
            "Epoch: 114\t Train Loss: 9.991\t Val. Loss: 9.239\n",
            "Val loss decreased (9.122853 --> 8.693835).  Saving model ...\n",
            "Epoch: 115\t Train Loss: 9.386\t Val. Loss: 8.694\n",
            "Epoch: 116\t Train Loss: 9.865\t Val. Loss: 8.798\n",
            "Epoch: 117\t Train Loss: 9.176\t Val. Loss: 8.805\n",
            "Epoch: 118\t Train Loss: 9.270\t Val. Loss: 8.783\n",
            "Epoch: 119\t Train Loss: 9.377\t Val. Loss: 8.738\n",
            "Val loss decreased (8.693835 --> 8.555847).  Saving model ...\n",
            "Epoch: 120\t Train Loss: 9.104\t Val. Loss: 8.556\n",
            "Val loss decreased (8.555847 --> 8.553075).  Saving model ...\n",
            "Epoch: 121\t Train Loss: 8.941\t Val. Loss: 8.553\n",
            "Val loss decreased (8.553075 --> 8.541219).  Saving model ...\n",
            "Epoch: 122\t Train Loss: 9.142\t Val. Loss: 8.541\n",
            "Val loss decreased (8.541219 --> 8.539618).  Saving model ...\n",
            "Epoch: 123\t Train Loss: 9.034\t Val. Loss: 8.540\n",
            "Epoch: 124\t Train Loss: 16.080\t Val. Loss: 13.826\n",
            "Epoch: 125\t Train Loss: 15.720\t Val. Loss: 12.310\n",
            "Epoch: 126\t Train Loss: 13.868\t Val. Loss: 16.384\n",
            "Epoch: 127\t Train Loss: 13.076\t Val. Loss: 10.972\n",
            "Epoch: 128\t Train Loss: 13.380\t Val. Loss: 12.816\n",
            "Epoch: 129\t Train Loss: 15.800\t Val. Loss: 11.107\n",
            "Epoch: 130\t Train Loss: 14.292\t Val. Loss: 12.344\n",
            "Epoch: 131\t Train Loss: 14.138\t Val. Loss: 11.862\n",
            "Epoch: 132\t Train Loss: 15.118\t Val. Loss: 15.656\n",
            "Epoch: 133\t Train Loss: 17.040\t Val. Loss: 14.764\n",
            "Epoch: 134\t Train Loss: 16.394\t Val. Loss: 13.557\n",
            "Epoch: 135\t Train Loss: 14.860\t Val. Loss: 11.982\n",
            "Epoch: 136\t Train Loss: 12.955\t Val. Loss: 10.484\n",
            "Epoch: 137\t Train Loss: 13.245\t Val. Loss: 10.931\n",
            "Epoch: 138\t Train Loss: 14.620\t Val. Loss: 16.977\n",
            "Epoch: 139\t Train Loss: 14.250\t Val. Loss: 13.771\n",
            "Epoch: 140\t Train Loss: 15.539\t Val. Loss: 10.163\n",
            "Epoch: 141\t Train Loss: 13.179\t Val. Loss: 10.557\n",
            "Epoch: 142\t Train Loss: 12.571\t Val. Loss: 13.356\n",
            "Epoch: 143\t Train Loss: 16.560\t Val. Loss: 12.534\n",
            "Epoch: 144\t Train Loss: 15.110\t Val. Loss: 16.243\n",
            "Epoch: 145\t Train Loss: 14.465\t Val. Loss: 16.697\n",
            "Epoch: 146\t Train Loss: 17.190\t Val. Loss: 15.673\n",
            "Epoch: 147\t Train Loss: 16.685\t Val. Loss: 11.663\n",
            "Epoch: 148\t Train Loss: 12.569\t Val. Loss: 9.780\n",
            "Epoch: 149\t Train Loss: 15.722\t Val. Loss: 18.283\n",
            "Epoch: 150\t Train Loss: 13.729\t Val. Loss: 10.701\n",
            "Epoch: 151\t Train Loss: 13.656\t Val. Loss: 10.276\n",
            "Epoch: 152\t Train Loss: 13.165\t Val. Loss: 11.633\n",
            "Epoch: 153\t Train Loss: 12.763\t Val. Loss: 9.988\n",
            "Epoch: 154\t Train Loss: 12.405\t Val. Loss: 11.445\n",
            "Epoch: 155\t Train Loss: 14.372\t Val. Loss: 11.980\n",
            "Epoch: 156\t Train Loss: 15.716\t Val. Loss: 11.579\n",
            "Epoch: 157\t Train Loss: 11.839\t Val. Loss: 10.809\n",
            "Epoch: 158\t Train Loss: 12.167\t Val. Loss: 9.469\n",
            "Epoch: 159\t Train Loss: 12.934\t Val. Loss: 12.495\n",
            "Epoch: 160\t Train Loss: 12.229\t Val. Loss: 9.537\n",
            "Epoch: 161\t Train Loss: 11.453\t Val. Loss: 9.909\n",
            "Epoch: 162\t Train Loss: 11.079\t Val. Loss: 9.499\n",
            "Epoch: 163\t Train Loss: 10.806\t Val. Loss: 11.186\n",
            "Epoch: 164\t Train Loss: 11.661\t Val. Loss: 9.546\n",
            "Epoch: 165\t Train Loss: 10.812\t Val. Loss: 9.329\n",
            "Epoch: 166\t Train Loss: 11.306\t Val. Loss: 10.872\n",
            "Epoch: 167\t Train Loss: 11.075\t Val. Loss: 9.624\n",
            "Epoch: 168\t Train Loss: 11.111\t Val. Loss: 9.999\n",
            "Epoch: 169\t Train Loss: 10.586\t Val. Loss: 9.203\n",
            "Epoch: 170\t Train Loss: 10.197\t Val. Loss: 9.361\n",
            "Epoch: 171\t Train Loss: 11.137\t Val. Loss: 9.360\n",
            "Epoch: 172\t Train Loss: 10.079\t Val. Loss: 8.722\n",
            "Epoch: 173\t Train Loss: 9.989\t Val. Loss: 8.846\n",
            "Epoch: 174\t Train Loss: 10.107\t Val. Loss: 9.200\n",
            "Epoch: 175\t Train Loss: 9.959\t Val. Loss: 9.331\n",
            "Epoch: 176\t Train Loss: 9.786\t Val. Loss: 9.275\n",
            "Epoch: 177\t Train Loss: 9.485\t Val. Loss: 8.652\n",
            "Val loss decreased (8.539618 --> 8.529131).  Saving model ...\n",
            "Epoch: 178\t Train Loss: 8.983\t Val. Loss: 8.529\n",
            "Val loss decreased (8.529131 --> 8.453192).  Saving model ...\n",
            "Epoch: 179\t Train Loss: 9.292\t Val. Loss: 8.453\n",
            "Epoch: 180\t Train Loss: 8.865\t Val. Loss: 8.618\n",
            "Val loss decreased (8.453192 --> 8.451517).  Saving model ...\n",
            "Epoch: 181\t Train Loss: 9.451\t Val. Loss: 8.452\n",
            "Val loss decreased (8.451517 --> 8.408041).  Saving model ...\n",
            "Epoch: 182\t Train Loss: 8.875\t Val. Loss: 8.408\n",
            "Val loss decreased (8.408041 --> 8.397700).  Saving model ...\n",
            "Epoch: 183\t Train Loss: 8.825\t Val. Loss: 8.398\n",
            "Val loss decreased (8.397700 --> 8.383538).  Saving model ...\n",
            "Epoch: 184\t Train Loss: 8.701\t Val. Loss: 8.384\n",
            "Epoch: 185\t Train Loss: 9.051\t Val. Loss: 8.384\n",
            "Epoch: 186\t Train Loss: 15.357\t Val. Loss: 14.225\n",
            "Epoch: 187\t Train Loss: 15.419\t Val. Loss: 13.735\n",
            "Epoch: 188\t Train Loss: 15.950\t Val. Loss: 13.425\n",
            "Epoch: 189\t Train Loss: 13.938\t Val. Loss: 11.962\n",
            "Epoch: 190\t Train Loss: 13.375\t Val. Loss: 11.074\n",
            "Epoch: 191\t Train Loss: 15.782\t Val. Loss: 12.699\n",
            "Epoch: 192\t Train Loss: 15.782\t Val. Loss: 19.703\n",
            "Epoch: 193\t Train Loss: 17.138\t Val. Loss: 14.179\n",
            "Epoch: 194\t Train Loss: 15.080\t Val. Loss: 14.046\n",
            "Epoch: 195\t Train Loss: 16.035\t Val. Loss: 14.277\n",
            "Epoch: 196\t Train Loss: 14.804\t Val. Loss: 11.764\n",
            "Epoch: 197\t Train Loss: 13.678\t Val. Loss: 17.810\n",
            "Epoch: 198\t Train Loss: 26.421\t Val. Loss: 15.119\n",
            "Epoch: 199\t Train Loss: 17.247\t Val. Loss: 13.286\n",
            "Epoch: 200\t Train Loss: 17.143\t Val. Loss: 13.129\n",
            "Epoch: 201\t Train Loss: 16.512\t Val. Loss: 11.418\n",
            "Epoch: 202\t Train Loss: 14.804\t Val. Loss: 12.499\n",
            "Epoch: 203\t Train Loss: 15.054\t Val. Loss: 14.229\n",
            "Epoch: 204\t Train Loss: 16.534\t Val. Loss: 13.955\n",
            "Epoch: 205\t Train Loss: 14.352\t Val. Loss: 11.522\n",
            "Epoch: 206\t Train Loss: 17.221\t Val. Loss: 16.566\n",
            "Epoch: 207\t Train Loss: 18.819\t Val. Loss: 14.712\n",
            "Epoch: 208\t Train Loss: 15.318\t Val. Loss: 11.074\n",
            "Epoch: 209\t Train Loss: 13.730\t Val. Loss: 11.109\n",
            "Epoch: 210\t Train Loss: 13.127\t Val. Loss: 11.372\n",
            "Epoch: 211\t Train Loss: 14.705\t Val. Loss: 11.672\n",
            "Epoch: 212\t Train Loss: 14.084\t Val. Loss: 11.940\n",
            "Epoch: 213\t Train Loss: 14.087\t Val. Loss: 12.589\n",
            "Epoch: 214\t Train Loss: 14.053\t Val. Loss: 10.192\n",
            "Epoch: 215\t Train Loss: 11.926\t Val. Loss: 11.575\n",
            "Epoch: 216\t Train Loss: 13.178\t Val. Loss: 11.408\n",
            "Epoch: 217\t Train Loss: 13.730\t Val. Loss: 12.440\n",
            "Epoch: 218\t Train Loss: 13.633\t Val. Loss: 12.250\n",
            "Epoch: 219\t Train Loss: 14.971\t Val. Loss: 16.650\n",
            "Epoch: 220\t Train Loss: 13.495\t Val. Loss: 11.534\n",
            "Epoch: 221\t Train Loss: 11.629\t Val. Loss: 9.950\n",
            "Epoch: 222\t Train Loss: 11.618\t Val. Loss: 10.436\n",
            "Epoch: 223\t Train Loss: 11.553\t Val. Loss: 11.030\n",
            "Epoch: 224\t Train Loss: 12.401\t Val. Loss: 11.430\n",
            "Epoch: 225\t Train Loss: 11.288\t Val. Loss: 9.652\n",
            "Epoch: 226\t Train Loss: 11.660\t Val. Loss: 11.333\n",
            "Epoch: 227\t Train Loss: 11.209\t Val. Loss: 10.043\n",
            "Epoch: 228\t Train Loss: 11.546\t Val. Loss: 11.895\n",
            "Epoch: 229\t Train Loss: 11.798\t Val. Loss: 10.262\n",
            "Epoch: 230\t Train Loss: 10.776\t Val. Loss: 10.158\n",
            "Epoch: 231\t Train Loss: 10.243\t Val. Loss: 9.403\n",
            "Epoch: 232\t Train Loss: 10.310\t Val. Loss: 9.903\n",
            "Epoch: 233\t Train Loss: 9.869\t Val. Loss: 8.989\n",
            "Epoch: 234\t Train Loss: 10.340\t Val. Loss: 9.128\n",
            "Epoch: 235\t Train Loss: 9.766\t Val. Loss: 9.029\n",
            "Epoch: 236\t Train Loss: 9.524\t Val. Loss: 8.877\n",
            "Epoch: 237\t Train Loss: 9.570\t Val. Loss: 9.039\n",
            "Epoch: 238\t Train Loss: 9.681\t Val. Loss: 9.005\n",
            "Epoch: 239\t Train Loss: 9.560\t Val. Loss: 9.170\n",
            "Epoch: 240\t Train Loss: 10.279\t Val. Loss: 8.906\n",
            "Epoch: 241\t Train Loss: 9.176\t Val. Loss: 9.010\n",
            "Epoch: 242\t Train Loss: 9.350\t Val. Loss: 8.845\n",
            "Epoch: 243\t Train Loss: 9.105\t Val. Loss: 8.810\n",
            "Epoch: 244\t Train Loss: 8.950\t Val. Loss: 8.808\n",
            "Epoch: 245\t Train Loss: 9.274\t Val. Loss: 8.696\n",
            "Epoch: 246\t Train Loss: 9.186\t Val. Loss: 8.687\n",
            "Epoch: 247\t Train Loss: 8.989\t Val. Loss: 8.683\n",
            "Epoch: 248\t Train Loss: 12.905\t Val. Loss: 15.234\n",
            "Epoch: 249\t Train Loss: 16.108\t Val. Loss: 13.406\n",
            "Epoch: 250\t Train Loss: 17.583\t Val. Loss: 15.198\n",
            "Epoch: 251\t Train Loss: 16.989\t Val. Loss: 11.683\n",
            "Epoch: 252\t Train Loss: 15.259\t Val. Loss: 15.289\n",
            "Epoch: 253\t Train Loss: 16.561\t Val. Loss: 14.280\n",
            "Epoch: 254\t Train Loss: 16.959\t Val. Loss: 14.691\n",
            "Epoch: 255\t Train Loss: 19.223\t Val. Loss: 18.220\n",
            "Epoch: 256\t Train Loss: 16.718\t Val. Loss: 14.944\n",
            "Epoch: 257\t Train Loss: 15.523\t Val. Loss: 11.555\n",
            "Epoch: 258\t Train Loss: 15.250\t Val. Loss: 12.248\n",
            "Epoch: 259\t Train Loss: 16.392\t Val. Loss: 13.260\n",
            "Epoch: 260\t Train Loss: 15.321\t Val. Loss: 12.477\n",
            "Epoch: 261\t Train Loss: 14.534\t Val. Loss: 15.047\n",
            "Epoch: 262\t Train Loss: 16.607\t Val. Loss: 15.005\n",
            "Epoch: 263\t Train Loss: 15.022\t Val. Loss: 13.104\n",
            "Epoch: 264\t Train Loss: 14.322\t Val. Loss: 11.348\n",
            "Epoch: 265\t Train Loss: 13.430\t Val. Loss: 10.740\n",
            "Epoch: 266\t Train Loss: 16.113\t Val. Loss: 11.008\n",
            "Epoch: 267\t Train Loss: 17.747\t Val. Loss: 11.303\n",
            "Epoch: 268\t Train Loss: 13.053\t Val. Loss: 11.913\n",
            "Epoch: 269\t Train Loss: 13.686\t Val. Loss: 11.305\n",
            "Epoch: 270\t Train Loss: 14.756\t Val. Loss: 13.880\n",
            "Epoch: 271\t Train Loss: 13.133\t Val. Loss: 12.622\n",
            "Epoch: 272\t Train Loss: 14.880\t Val. Loss: 13.815\n",
            "Epoch: 273\t Train Loss: 15.031\t Val. Loss: 12.221\n",
            "Epoch: 274\t Train Loss: 15.446\t Val. Loss: 12.304\n",
            "Epoch: 275\t Train Loss: 14.623\t Val. Loss: 12.232\n",
            "Epoch: 276\t Train Loss: 13.911\t Val. Loss: 11.781\n",
            "Epoch: 277\t Train Loss: 13.285\t Val. Loss: 10.822\n",
            "Epoch: 278\t Train Loss: 12.420\t Val. Loss: 10.838\n",
            "Epoch: 279\t Train Loss: 12.668\t Val. Loss: 10.423\n",
            "Epoch: 280\t Train Loss: 11.107\t Val. Loss: 10.815\n",
            "Epoch: 281\t Train Loss: 15.457\t Val. Loss: 11.144\n",
            "Epoch: 282\t Train Loss: 13.433\t Val. Loss: 13.346\n",
            "Epoch: 283\t Train Loss: 12.485\t Val. Loss: 9.791\n",
            "Epoch: 284\t Train Loss: 13.985\t Val. Loss: 12.460\n",
            "Epoch: 285\t Train Loss: 12.538\t Val. Loss: 10.136\n",
            "Epoch: 286\t Train Loss: 12.419\t Val. Loss: 12.002\n",
            "Epoch: 287\t Train Loss: 12.250\t Val. Loss: 10.768\n",
            "Epoch: 288\t Train Loss: 13.265\t Val. Loss: 10.752\n",
            "Epoch: 289\t Train Loss: 12.046\t Val. Loss: 10.473\n",
            "Epoch: 290\t Train Loss: 12.061\t Val. Loss: 10.555\n",
            "Epoch: 291\t Train Loss: 11.217\t Val. Loss: 9.757\n",
            "Epoch: 292\t Train Loss: 10.763\t Val. Loss: 10.204\n",
            "Epoch: 293\t Train Loss: 10.679\t Val. Loss: 9.360\n",
            "Epoch: 294\t Train Loss: 10.846\t Val. Loss: 9.957\n",
            "Epoch: 295\t Train Loss: 10.247\t Val. Loss: 9.383\n",
            "Epoch: 296\t Train Loss: 9.996\t Val. Loss: 9.185\n",
            "Epoch: 297\t Train Loss: 9.656\t Val. Loss: 9.157\n",
            "Epoch: 298\t Train Loss: 10.116\t Val. Loss: 9.451\n",
            "Epoch: 299\t Train Loss: 9.506\t Val. Loss: 9.002\n",
            "Epoch: 300\t Train Loss: 9.551\t Val. Loss: 9.415\n",
            "Epoch: 301\t Train Loss: 9.968\t Val. Loss: 9.033\n",
            "Epoch: 302\t Train Loss: 9.653\t Val. Loss: 8.848\n",
            "Epoch: 303\t Train Loss: 9.261\t Val. Loss: 8.913\n",
            "Epoch: 304\t Train Loss: 9.349\t Val. Loss: 8.824\n",
            "Epoch: 305\t Train Loss: 9.296\t Val. Loss: 8.877\n",
            "Epoch: 306\t Train Loss: 9.020\t Val. Loss: 8.772\n",
            "Epoch: 307\t Train Loss: 9.025\t Val. Loss: 8.767\n",
            "Epoch: 308\t Train Loss: 8.951\t Val. Loss: 8.752\n",
            "Epoch: 309\t Train Loss: 9.139\t Val. Loss: 8.752\n",
            "Epoch: 310\t Train Loss: 18.473\t Val. Loss: 12.974\n",
            "Epoch: 311\t Train Loss: 15.955\t Val. Loss: 14.740\n",
            "Epoch: 312\t Train Loss: 14.544\t Val. Loss: 23.766\n",
            "Epoch: 313\t Train Loss: 19.582\t Val. Loss: 15.640\n",
            "Epoch: 314\t Train Loss: 16.086\t Val. Loss: 13.917\n",
            "Epoch: 315\t Train Loss: 15.153\t Val. Loss: 14.517\n",
            "Epoch: 316\t Train Loss: 15.002\t Val. Loss: 11.869\n",
            "Epoch: 317\t Train Loss: 19.206\t Val. Loss: 20.404\n",
            "Epoch: 318\t Train Loss: 21.755\t Val. Loss: 15.105\n",
            "Epoch: 319\t Train Loss: 15.456\t Val. Loss: 13.445\n",
            "Epoch: 320\t Train Loss: 16.847\t Val. Loss: 14.652\n",
            "Epoch: 321\t Train Loss: 16.982\t Val. Loss: 11.676\n",
            "Epoch: 322\t Train Loss: 15.214\t Val. Loss: 14.818\n",
            "Epoch: 323\t Train Loss: 15.361\t Val. Loss: 16.107\n",
            "Epoch: 324\t Train Loss: 18.566\t Val. Loss: 15.736\n",
            "Epoch: 325\t Train Loss: 14.648\t Val. Loss: 12.847\n",
            "Epoch: 326\t Train Loss: 14.600\t Val. Loss: 12.586\n",
            "Epoch: 327\t Train Loss: 19.568\t Val. Loss: 17.068\n",
            "Epoch: 328\t Train Loss: 15.426\t Val. Loss: 18.161\n",
            "Epoch: 329\t Train Loss: 14.289\t Val. Loss: 10.964\n",
            "Epoch: 330\t Train Loss: 15.398\t Val. Loss: 12.952\n",
            "Epoch: 331\t Train Loss: 17.822\t Val. Loss: 17.928\n",
            "Epoch: 332\t Train Loss: 18.264\t Val. Loss: 16.077\n",
            "Epoch: 333\t Train Loss: 16.296\t Val. Loss: 14.119\n",
            "Epoch: 334\t Train Loss: 15.761\t Val. Loss: 16.162\n",
            "Epoch: 335\t Train Loss: 12.702\t Val. Loss: 12.750\n",
            "Epoch: 336\t Train Loss: 15.981\t Val. Loss: 23.922\n",
            "Epoch: 337\t Train Loss: 17.368\t Val. Loss: 19.122\n",
            "Epoch: 338\t Train Loss: 15.080\t Val. Loss: 13.367\n",
            "Epoch: 339\t Train Loss: 14.038\t Val. Loss: 13.277\n",
            "Epoch: 340\t Train Loss: 13.518\t Val. Loss: 12.090\n",
            "Epoch: 341\t Train Loss: 13.964\t Val. Loss: 10.167\n",
            "Epoch: 342\t Train Loss: 14.321\t Val. Loss: 14.184\n",
            "Epoch: 343\t Train Loss: 12.437\t Val. Loss: 12.160\n",
            "Epoch: 344\t Train Loss: 13.088\t Val. Loss: 10.252\n",
            "Epoch: 345\t Train Loss: 11.684\t Val. Loss: 10.432\n",
            "Epoch: 346\t Train Loss: 11.775\t Val. Loss: 12.965\n",
            "Epoch: 347\t Train Loss: 13.527\t Val. Loss: 10.597\n",
            "Epoch: 348\t Train Loss: 11.772\t Val. Loss: 10.141\n",
            "Epoch: 349\t Train Loss: 10.987\t Val. Loss: 11.367\n",
            "Epoch: 350\t Train Loss: 11.227\t Val. Loss: 9.719\n",
            "Epoch: 351\t Train Loss: 10.887\t Val. Loss: 10.133\n",
            "Epoch: 352\t Train Loss: 11.907\t Val. Loss: 9.721\n",
            "Epoch: 353\t Train Loss: 12.091\t Val. Loss: 9.880\n",
            "Epoch: 354\t Train Loss: 12.158\t Val. Loss: 10.461\n",
            "Epoch: 355\t Train Loss: 10.874\t Val. Loss: 9.585\n",
            "Epoch: 356\t Train Loss: 10.461\t Val. Loss: 9.849\n",
            "Epoch: 357\t Train Loss: 10.682\t Val. Loss: 9.367\n",
            "Epoch: 358\t Train Loss: 10.132\t Val. Loss: 9.321\n",
            "Epoch: 359\t Train Loss: 10.116\t Val. Loss: 9.520\n",
            "Epoch: 360\t Train Loss: 9.975\t Val. Loss: 9.876\n",
            "Epoch: 361\t Train Loss: 10.024\t Val. Loss: 9.814\n",
            "Epoch: 362\t Train Loss: 9.815\t Val. Loss: 9.128\n",
            "Epoch: 363\t Train Loss: 9.615\t Val. Loss: 9.118\n",
            "Epoch: 364\t Train Loss: 9.427\t Val. Loss: 9.119\n",
            "Epoch: 365\t Train Loss: 9.272\t Val. Loss: 9.144\n",
            "Epoch: 366\t Train Loss: 9.364\t Val. Loss: 9.081\n",
            "Epoch: 367\t Train Loss: 9.049\t Val. Loss: 8.944\n",
            "Epoch: 368\t Train Loss: 9.172\t Val. Loss: 8.875\n",
            "Epoch: 369\t Train Loss: 9.089\t Val. Loss: 8.882\n",
            "Epoch: 370\t Train Loss: 9.252\t Val. Loss: 8.860\n",
            "Epoch: 371\t Train Loss: 9.274\t Val. Loss: 8.861\n",
            "Epoch: 372\t Train Loss: 16.026\t Val. Loss: 14.295\n",
            "Epoch: 373\t Train Loss: 16.629\t Val. Loss: 18.549\n",
            "Epoch: 374\t Train Loss: 15.646\t Val. Loss: 15.006\n",
            "Epoch: 375\t Train Loss: 14.688\t Val. Loss: 17.845\n",
            "Epoch: 376\t Train Loss: 17.740\t Val. Loss: 23.050\n",
            "Epoch: 377\t Train Loss: 18.748\t Val. Loss: 16.626\n",
            "Epoch: 378\t Train Loss: 16.252\t Val. Loss: 14.551\n",
            "Epoch: 379\t Train Loss: 16.590\t Val. Loss: 13.403\n",
            "Epoch: 380\t Train Loss: 16.252\t Val. Loss: 13.696\n",
            "Epoch: 381\t Train Loss: 17.273\t Val. Loss: 20.728\n",
            "Epoch: 382\t Train Loss: 21.880\t Val. Loss: 16.926\n",
            "Epoch: 383\t Train Loss: 17.771\t Val. Loss: 14.787\n",
            "Epoch: 384\t Train Loss: 14.463\t Val. Loss: 13.225\n",
            "Epoch: 385\t Train Loss: 17.886\t Val. Loss: 15.304\n",
            "Epoch: 386\t Train Loss: 22.028\t Val. Loss: 13.738\n",
            "Epoch: 387\t Train Loss: 18.440\t Val. Loss: 16.770\n",
            "Epoch: 388\t Train Loss: 15.792\t Val. Loss: 11.823\n",
            "Epoch: 389\t Train Loss: 17.339\t Val. Loss: 14.609\n",
            "Epoch: 390\t Train Loss: 14.609\t Val. Loss: 13.017\n",
            "Epoch: 391\t Train Loss: 14.764\t Val. Loss: 13.113\n",
            "Epoch: 392\t Train Loss: 16.260\t Val. Loss: 16.080\n",
            "Epoch: 393\t Train Loss: 14.710\t Val. Loss: 9.959\n",
            "Epoch: 394\t Train Loss: 15.571\t Val. Loss: 11.124\n",
            "Epoch: 395\t Train Loss: 12.572\t Val. Loss: 10.686\n",
            "Epoch: 396\t Train Loss: 14.295\t Val. Loss: 13.920\n",
            "Epoch: 397\t Train Loss: 12.825\t Val. Loss: 11.355\n",
            "Epoch: 398\t Train Loss: 12.633\t Val. Loss: 10.765\n",
            "Epoch: 399\t Train Loss: 12.666\t Val. Loss: 10.225\n",
            "Epoch: 400\t Train Loss: 13.309\t Val. Loss: 11.524\n",
            "Epoch: 401\t Train Loss: 11.601\t Val. Loss: 9.606\n",
            "Epoch: 402\t Train Loss: 13.254\t Val. Loss: 11.350\n",
            "Epoch: 403\t Train Loss: 14.150\t Val. Loss: 14.744\n",
            "Epoch: 404\t Train Loss: 13.798\t Val. Loss: 10.108\n",
            "Epoch: 405\t Train Loss: 11.162\t Val. Loss: 10.319\n",
            "Epoch: 406\t Train Loss: 13.902\t Val. Loss: 12.985\n",
            "Epoch: 407\t Train Loss: 12.327\t Val. Loss: 10.454\n",
            "Epoch: 408\t Train Loss: 12.033\t Val. Loss: 12.500\n",
            "Epoch: 409\t Train Loss: 11.876\t Val. Loss: 10.305\n",
            "Epoch: 410\t Train Loss: 12.561\t Val. Loss: 10.851\n",
            "Epoch: 411\t Train Loss: 11.718\t Val. Loss: 9.452\n",
            "Epoch: 412\t Train Loss: 11.041\t Val. Loss: 10.007\n",
            "Epoch: 413\t Train Loss: 11.319\t Val. Loss: 11.127\n",
            "Epoch: 414\t Train Loss: 11.493\t Val. Loss: 9.535\n",
            "Epoch: 415\t Train Loss: 10.322\t Val. Loss: 9.463\n",
            "Epoch: 416\t Train Loss: 10.530\t Val. Loss: 10.055\n",
            "Epoch: 417\t Train Loss: 10.737\t Val. Loss: 9.487\n",
            "Epoch: 418\t Train Loss: 10.461\t Val. Loss: 9.143\n",
            "Epoch: 419\t Train Loss: 10.121\t Val. Loss: 9.294\n",
            "Epoch: 420\t Train Loss: 10.242\t Val. Loss: 9.108\n",
            "Epoch: 421\t Train Loss: 10.033\t Val. Loss: 9.201\n",
            "Epoch: 422\t Train Loss: 9.997\t Val. Loss: 9.331\n",
            "Epoch: 423\t Train Loss: 10.179\t Val. Loss: 9.493\n",
            "Epoch: 424\t Train Loss: 9.796\t Val. Loss: 9.397\n",
            "Epoch: 425\t Train Loss: 9.487\t Val. Loss: 9.346\n",
            "Epoch: 426\t Train Loss: 9.552\t Val. Loss: 8.919\n",
            "Epoch: 427\t Train Loss: 9.258\t Val. Loss: 8.989\n",
            "Epoch: 428\t Train Loss: 9.121\t Val. Loss: 8.843\n",
            "Epoch: 429\t Train Loss: 9.277\t Val. Loss: 8.865\n",
            "Epoch: 430\t Train Loss: 9.210\t Val. Loss: 8.820\n",
            "Epoch: 431\t Train Loss: 9.016\t Val. Loss: 8.775\n",
            "Epoch: 432\t Train Loss: 8.962\t Val. Loss: 8.765\n",
            "Epoch: 433\t Train Loss: 9.020\t Val. Loss: 8.762\n",
            "Epoch: 434\t Train Loss: 17.251\t Val. Loss: 11.484\n",
            "Epoch: 435\t Train Loss: 21.040\t Val. Loss: 21.844\n",
            "Epoch: 436\t Train Loss: 16.624\t Val. Loss: 14.721\n",
            "Epoch: 437\t Train Loss: 14.759\t Val. Loss: 14.825\n",
            "Epoch: 438\t Train Loss: 15.174\t Val. Loss: 16.939\n",
            "Epoch: 439\t Train Loss: 19.392\t Val. Loss: 12.409\n",
            "Epoch: 440\t Train Loss: 16.910\t Val. Loss: 16.096\n",
            "Epoch: 441\t Train Loss: 19.865\t Val. Loss: 12.847\n",
            "Epoch: 442\t Train Loss: 13.701\t Val. Loss: 11.074\n",
            "Epoch: 443\t Train Loss: 13.606\t Val. Loss: 10.892\n",
            "Epoch: 444\t Train Loss: 13.836\t Val. Loss: 15.176\n",
            "Epoch: 445\t Train Loss: 15.589\t Val. Loss: 14.878\n",
            "Epoch: 446\t Train Loss: 13.347\t Val. Loss: 10.998\n",
            "Epoch: 447\t Train Loss: 16.732\t Val. Loss: 13.319\n",
            "Epoch: 448\t Train Loss: 14.800\t Val. Loss: 13.348\n",
            "Epoch: 449\t Train Loss: 14.350\t Val. Loss: 12.206\n",
            "Epoch: 450\t Train Loss: 16.931\t Val. Loss: 16.574\n",
            "Epoch: 451\t Train Loss: 14.575\t Val. Loss: 10.627\n",
            "Epoch: 452\t Train Loss: 13.202\t Val. Loss: 10.330\n",
            "Epoch: 453\t Train Loss: 15.341\t Val. Loss: 11.340\n",
            "Epoch: 454\t Train Loss: 16.874\t Val. Loss: 13.419\n",
            "Epoch: 455\t Train Loss: 14.583\t Val. Loss: 15.387\n",
            "Epoch: 456\t Train Loss: 15.586\t Val. Loss: 12.969\n",
            "Epoch: 457\t Train Loss: 14.456\t Val. Loss: 12.225\n",
            "Epoch: 458\t Train Loss: 13.854\t Val. Loss: 11.456\n",
            "Epoch: 459\t Train Loss: 13.177\t Val. Loss: 12.343\n",
            "Epoch: 460\t Train Loss: 12.830\t Val. Loss: 9.962\n",
            "Epoch: 461\t Train Loss: 14.956\t Val. Loss: 14.457\n",
            "Epoch: 462\t Train Loss: 14.673\t Val. Loss: 15.099\n",
            "Epoch: 463\t Train Loss: 14.311\t Val. Loss: 13.469\n",
            "Epoch: 464\t Train Loss: 13.338\t Val. Loss: 11.118\n",
            "Epoch: 465\t Train Loss: 13.492\t Val. Loss: 11.241\n",
            "Epoch: 466\t Train Loss: 14.794\t Val. Loss: 13.488\n",
            "Epoch: 467\t Train Loss: 12.310\t Val. Loss: 11.134\n",
            "Epoch: 468\t Train Loss: 15.995\t Val. Loss: 15.771\n",
            "Epoch: 469\t Train Loss: 14.506\t Val. Loss: 10.323\n",
            "Epoch: 470\t Train Loss: 12.520\t Val. Loss: 11.754\n",
            "Epoch: 471\t Train Loss: 12.733\t Val. Loss: 11.713\n",
            "Epoch: 472\t Train Loss: 12.624\t Val. Loss: 13.158\n",
            "Epoch: 473\t Train Loss: 12.217\t Val. Loss: 12.107\n",
            "Epoch: 474\t Train Loss: 12.156\t Val. Loss: 11.310\n",
            "Epoch: 475\t Train Loss: 12.492\t Val. Loss: 10.066\n",
            "Epoch: 476\t Train Loss: 11.375\t Val. Loss: 10.910\n",
            "Epoch: 477\t Train Loss: 10.823\t Val. Loss: 9.835\n",
            "Epoch: 478\t Train Loss: 11.675\t Val. Loss: 10.711\n",
            "Epoch: 479\t Train Loss: 10.504\t Val. Loss: 9.449\n",
            "Epoch: 480\t Train Loss: 11.046\t Val. Loss: 10.307\n",
            "Epoch: 481\t Train Loss: 10.472\t Val. Loss: 9.779\n",
            "Epoch: 482\t Train Loss: 10.142\t Val. Loss: 9.227\n",
            "Epoch: 483\t Train Loss: 9.691\t Val. Loss: 10.036\n",
            "Epoch: 484\t Train Loss: 9.830\t Val. Loss: 9.405\n",
            "Epoch: 485\t Train Loss: 9.309\t Val. Loss: 9.023\n",
            "Epoch: 486\t Train Loss: 9.940\t Val. Loss: 9.166\n",
            "Epoch: 487\t Train Loss: 9.573\t Val. Loss: 9.372\n",
            "Epoch: 488\t Train Loss: 9.335\t Val. Loss: 9.071\n",
            "Epoch: 489\t Train Loss: 9.239\t Val. Loss: 9.059\n",
            "Epoch: 490\t Train Loss: 9.147\t Val. Loss: 8.956\n",
            "Epoch: 491\t Train Loss: 9.288\t Val. Loss: 8.983\n",
            "Epoch: 492\t Train Loss: 9.050\t Val. Loss: 8.940\n",
            "Epoch: 493\t Train Loss: 9.071\t Val. Loss: 8.940\n",
            "Epoch: 494\t Train Loss: 9.055\t Val. Loss: 8.910\n",
            "Epoch: 495\t Train Loss: 9.210\t Val. Loss: 8.905\n",
            "Epoch: 496\t Train Loss: 15.958\t Val. Loss: 14.921\n",
            "Epoch: 497\t Train Loss: 13.730\t Val. Loss: 14.099\n",
            "Epoch: 498\t Train Loss: 15.314\t Val. Loss: 13.538\n",
            "Epoch: 499\t Train Loss: 17.598\t Val. Loss: 13.357\n"
          ],
          "name": "stdout"
        }
      ]
    },
    {
      "cell_type": "code",
      "metadata": {
        "id": "f8R89hbqJp6t",
        "colab_type": "code",
        "colab": {}
      },
      "source": [
        "def RMSELoss(yhat,y):\n",
        "    return torch.sqrt(torch.mean((yhat-y)**2))"
      ],
      "execution_count": 0,
      "outputs": []
    },
    {
      "cell_type": "code",
      "metadata": {
        "id": "9OFaN6Rx1Njn",
        "colab_type": "code",
        "colab": {}
      },
      "source": [
        "def test(model, criterion):\n",
        "    model.load_state_dict(torch.load('content/models/model.pt'))\n",
        "    model.eval()\n",
        "    test_losses = []\n",
        "    with torch.no_grad():\n",
        "      for val_acc, configs, targets in test_data_loader:\n",
        "        output = model([val_acc, configs], targets, 0)\n",
        "        output = output.squeeze()\n",
        "        output = torch.t(output)\n",
        "        loss = criterion(output[:,-1], targets[:,-1])\n",
        "        test_losses.append(loss.item())\n",
        "        \n",
        "    return np.mean(test_losses)"
      ],
      "execution_count": 0,
      "outputs": []
    },
    {
      "cell_type": "code",
      "metadata": {
        "id": "9vKyR0Rq1JxW",
        "colab_type": "code",
        "colab": {
          "base_uri": "https://localhost:8080/",
          "height": 52
        },
        "outputId": "209fc76b-4389-4c8e-8bb5-509d7eb1250d"
      },
      "source": [
        "mse_test = test(model, criterion)\n",
        "print(\"MSE Test loss: {:.3f}\".format(np.mean(mse_test)))\n",
        "rmse_test = test(model, RMSELoss)\n",
        "print(\"RMSE Test loss: {:.3f}\".format(np.mean(rmse_test)))"
      ],
      "execution_count": 30,
      "outputs": [
        {
          "output_type": "stream",
          "text": [
            "MSE Test loss: 4.995\n",
            "RMSE Test loss: 2.117\n"
          ],
          "name": "stdout"
        }
      ]
    },
    {
      "cell_type": "code",
      "metadata": {
        "id": "0GTtrISY_Xru",
        "colab_type": "code",
        "colab": {
          "base_uri": "https://localhost:8080/",
          "height": 265
        },
        "outputId": "2a942b37-88c8-49df-b397-147bc6e96cce"
      },
      "source": [
        "import matplotlib.pyplot as plt\n",
        "def plot_curve(model):\n",
        "  model.load_state_dict(torch.load('content/models/model.pt'))\n",
        "  model.eval()\n",
        "  with torch.no_grad():\n",
        "      for val_acc, configs, targets in test_data_loader:\n",
        "        output = model([val_acc, configs], targets, 0)\n",
        "        output = output.squeeze()\n",
        "        output = torch.t(output)\n",
        "        plt.plot(np.arange(51),targets[2],c='g')\n",
        "        plt.plot(np.arange(51),output[2],c='r')\n",
        "        plt.show()\n",
        "        break\n",
        "\n",
        "plot_curve(model)"
      ],
      "execution_count": 31,
      "outputs": [
        {
          "output_type": "display_data",
          "data": {
            "image/png": "[encoded data removed]",
            "text/plain": [
              "<Figure size 432x288 with 1 Axes>"
            ]
          },
          "metadata": {
            "tags": []
          }
        }
      ]
    }
  ]
}