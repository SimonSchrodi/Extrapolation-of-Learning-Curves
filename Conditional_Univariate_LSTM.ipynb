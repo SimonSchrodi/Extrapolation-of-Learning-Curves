{
  "nbformat": 4,
  "nbformat_minor": 0,
  "metadata": {
    "kernelspec": {
      "name": "python3",
      "display_name": "Python 3"
    },
    "language_info": {
      "codemirror_mode": {
        "name": "ipython",
        "version": 3
      },
      "file_extension": ".py",
      "mimetype": "text/x-python",
      "name": "python",
      "nbconvert_exporter": "python",
      "pygments_lexer": "ipython3",
      "version": "3.6.0"
    },
    "colab": {
      "name": "Conditional_Univariate_LSTM.ipynb",
      "provenance": []
    },
    "accelerator": "GPU"
  },
  "cells": [
    {
      "cell_type": "markdown",
      "metadata": {
        "id": "oJd_VxDKN8pn",
        "colab_type": "text"
      },
      "source": [
        "# Task A: Creating a Performance Predictor\n",
        "\n",
        "In this task, you will use training data from 2000 configurations on a single OpenML dataset to train a performance predictor. The data will be splitted into train, test and validation set and we will only use the first 10 epochs of the learning curves for predicitons. You are provided with the full benchmark logs for Fashion-MNIST, that is learning curves, config parameters and gradient statistics, and you can use them freely.\n",
        "\n",
        "For questions, you can contact zimmerl@informatik.uni-freiburg.\n",
        "\n",
        "__Note: Please use the dataloading and splits you are provided with in this notebook.__"
      ]
    },
    {
      "cell_type": "markdown",
      "metadata": {
        "id": "cqPBWpd5N8pt",
        "colab_type": "text"
      },
      "source": [
        "## Specifications:\n",
        "\n",
        "* Data: fashion_mnist.json\n",
        "* Number of datasets: 1\n",
        "* Number of configurations: 2000\n",
        "* Number of epochs seed during prediction: 10\n",
        "* Available data: Learning curves, architecture parameters and hyperparameters, gradient statistics \n",
        "* Target: Final validation accuracy\n",
        "* Evaluation metric: MSE"
      ]
    },
    {
      "cell_type": "markdown",
      "metadata": {
        "id": "4eYlSG9BN8py",
        "colab_type": "text"
      },
      "source": [
        "## Importing and splitting data\n",
        "\n",
        "__Note__: There are 51 steps logged, 50 epochs plus the 0th epoch, prior to any weight updates."
      ]
    },
    {
      "cell_type": "code",
      "metadata": {
        "id": "aT8tEKUJOqNy",
        "colab_type": "code",
        "outputId": "16760770-7b34-4441-e097-67386176cd52",
        "colab": {
          "base_uri": "https://localhost:8080/",
          "height": 248
        }
      },
      "source": [
        "!pip install wget\n",
        "!pip install zipfile36"
      ],
      "execution_count": 1,
      "outputs": [
        {
          "output_type": "stream",
          "text": [
            "Collecting wget\n",
            "  Downloading https://files.pythonhosted.org/packages/47/6a/62e288da7bcda82b935ff0c6cfe542970f04e29c756b0e147251b2fb251f/wget-3.2.zip\n",
            "Building wheels for collected packages: wget\n",
            "  Building wheel for wget (setup.py) ... \u001b[?25l\u001b[?25hdone\n",
            "  Created wheel for wget: filename=wget-3.2-cp36-none-any.whl size=9682 sha256=e002d507bb9a3ea9c089efed75089faf9a0bf21610c5f48dafce5371b1e36035\n",
            "  Stored in directory: /root/.cache/pip/wheels/40/15/30/7d8f7cea2902b4db79e3fea550d7d7b85ecb27ef992b618f3f\n",
            "Successfully built wget\n",
            "Installing collected packages: wget\n",
            "Successfully installed wget-3.2\n",
            "Collecting zipfile36\n",
            "  Downloading https://files.pythonhosted.org/packages/fd/8a/3b7da0b0bd87d1ef05b74207827c72d348b56a0d6d83242582be18a81e02/zipfile36-0.1.3-py3-none-any.whl\n",
            "Installing collected packages: zipfile36\n",
            "Successfully installed zipfile36-0.1.3\n"
          ],
          "name": "stdout"
        }
      ]
    },
    {
      "cell_type": "code",
      "metadata": {
        "id": "-GSY73FpOPdD",
        "colab_type": "code",
        "outputId": "243508c3-48ba-499f-9680-f5baeeb2b9dc",
        "colab": {
          "base_uri": "https://localhost:8080/",
          "height": 35
        }
      },
      "source": [
        "import wget\n",
        "import zipfile\n",
        "dir_path = 'content/'\n",
        "filename=wget.download('https://ndownloader.figshare.com/files/21001311')\n",
        "with zipfile.ZipFile(filename, 'r') as zip_ref:\n",
        "    zip_ref.extractall(\"\")\n",
        "!rm fashion_mnist.zip\n",
        "wget.download('https://raw.githubusercontent.com/automl/LCBench/master/api.py')\n",
        "wget.download('https://raw.githubusercontent.com/infomon/Extrapolation-of-Learning-Curves/master/utils.py')\n",
        "!mkdir content/models\n",
        "!mkdir models"
      ],
      "execution_count": 2,
      "outputs": [
        {
          "output_type": "stream",
          "text": [
            "mkdir: cannot create directory ‘content/models’: No such file or directory\n"
          ],
          "name": "stdout"
        }
      ]
    },
    {
      "cell_type": "code",
      "metadata": {
        "id": "ql1OqCfgN8p4",
        "colab_type": "code",
        "colab": {}
      },
      "source": [
        "%%capture\n",
        "%cd ..\n",
        "import numpy as np\n",
        "from sklearn.model_selection import train_test_split\n",
        "from sklearn.metrics import mean_squared_error\n",
        "import matplotlib.pyplot as plt\n",
        "\n",
        "from content.api import Benchmark\n",
        "import content.utils as utils\n",
        "import torch"
      ],
      "execution_count": 0,
      "outputs": []
    },
    {
      "cell_type": "code",
      "metadata": {
        "id": "e2sQv_05N8qJ",
        "colab_type": "code",
        "outputId": "c5c4744a-ffbc-450b-dd99-18f758ff1972",
        "colab": {
          "base_uri": "https://localhost:8080/",
          "height": 88
        }
      },
      "source": [
        "bench_dir = dir_path+\"fashion_mnist.json\"\n",
        "bench = Benchmark(bench_dir, cache=False)"
      ],
      "execution_count": 4,
      "outputs": [
        {
          "output_type": "stream",
          "text": [
            "==> Loading data...\n",
            "==> No cached data found or cache set to False.\n",
            "==> Reading json data...\n",
            "==> Done.\n"
          ],
          "name": "stdout"
        }
      ]
    },
    {
      "cell_type": "code",
      "metadata": {
        "id": "9eq4DxuuN8qe",
        "colab_type": "code",
        "outputId": "d332b257-23f6-4aa6-b5f4-cb3950824982",
        "colab": {
          "base_uri": "https://localhost:8080/",
          "height": 70
        }
      },
      "source": [
        "# Read data\n",
        "def cut_data(data, cut_position):\n",
        "    targets = []\n",
        "    for dp in data:\n",
        "        targets.append(dp[\"Train/val_accuracy\"][50])\n",
        "        for tag in dp:\n",
        "            if tag.startswith(\"Train/\"):\n",
        "                dp[tag] = dp[tag][0:cut_position]\n",
        "    return data, targets\n",
        "\n",
        "def read_data():\n",
        "    dataset_name = 'Fashion-MNIST'\n",
        "    n_configs = bench.get_number_of_configs(dataset_name)\n",
        "    \n",
        "    # Query API\n",
        "    data = []\n",
        "    for config_id in range(n_configs):\n",
        "        data_point = dict()\n",
        "        data_point[\"config\"] = bench.query(dataset_name=dataset_name, tag=\"config\", config_id=config_id)\n",
        "        for tag in bench.get_queriable_tags(dataset_name=dataset_name, config_id=config_id):\n",
        "            if tag.startswith(\"Train/\"):\n",
        "                data_point[tag] = bench.query(dataset_name=dataset_name, tag=tag, config_id=config_id)    \n",
        "        data.append(data_point)\n",
        "        \n",
        "    # Split: 50% train, 25% validation, 25% test (the data is already shuffled)\n",
        "    indices = np.arange(n_configs)\n",
        "    ind_train = indices[0:int(np.floor(0.5*n_configs))]\n",
        "    ind_val = indices[int(np.floor(0.5*n_configs)):int(np.floor(0.75*n_configs))]\n",
        "    ind_test = indices[int(np.floor(0.75*n_configs)):]\n",
        "\n",
        "    array_data = np.array(data)\n",
        "    train_data = array_data[ind_train]\n",
        "    val_data = array_data[ind_val]\n",
        "    test_data = array_data[ind_test]\n",
        "    \n",
        "    # Cut curves for validation and test\n",
        "    cut_position = 11\n",
        "    val_data, val_targets = cut_data(val_data, cut_position)\n",
        "    test_data, test_targets = cut_data(test_data, cut_position)\n",
        "    train_data, train_targets = cut_data(train_data, 51)   # Cut last value as it is repeated\n",
        "    \n",
        "    return train_data, val_data, test_data, train_targets, val_targets, test_targets\n",
        "    \n",
        "train_data, val_data, test_data, train_targets, val_targets, test_targets = read_data()\n",
        "\n",
        "print(\"Train:\", len(train_data))\n",
        "print(\"Validation:\", len(val_data))\n",
        "print(\"Test:\", len(test_data))"
      ],
      "execution_count": 5,
      "outputs": [
        {
          "output_type": "stream",
          "text": [
            "Train: 1000\n",
            "Validation: 500\n",
            "Test: 500\n"
          ],
          "name": "stdout"
        }
      ]
    },
    {
      "cell_type": "markdown",
      "metadata": {
        "id": "9PphdZ2aN8qv",
        "colab_type": "text"
      },
      "source": [
        "The data contains the configuration of the trained model and learning curves as well as global and layer-wise gradient statistics.\n",
        "\n",
        "__Note__: Not all parameters vary across different configurations. The varying parameters are batch_size, max_dropout, max_units, num_layers, learning_rate, momentum, weight_decay"
      ]
    },
    {
      "cell_type": "code",
      "metadata": {
        "id": "Ybnns3VKN8q0",
        "colab_type": "code",
        "outputId": "cfda4701-cde8-4886-8ac3-8e6759c02707",
        "colab": {
          "base_uri": "https://localhost:8080/",
          "height": 55
        }
      },
      "source": [
        "# Config\n",
        "print(\"Config example:\", train_data[0][\"config\"])"
      ],
      "execution_count": 6,
      "outputs": [
        {
          "output_type": "stream",
          "text": [
            "Config example: {'batch_size': 71, 'imputation_strategy': 'mean', 'learning_rate_scheduler': 'cosine_annealing', 'loss': 'cross_entropy_weighted', 'network': 'shapedmlpnet', 'max_dropout': 0.025926231827891333, 'normalization_strategy': 'standardize', 'optimizer': 'sgd', 'cosine_annealing_T_max': 50, 'cosine_annealing_eta_min': 1e-08, 'activation': 'relu', 'max_units': 293, 'mlp_shape': 'funnel', 'num_layers': 3, 'learning_rate': 0.0018243300267253295, 'momentum': 0.21325193168301043, 'weight_decay': 0.020472816917443872}\n"
          ],
          "name": "stdout"
        }
      ]
    },
    {
      "cell_type": "code",
      "metadata": {
        "id": "Ua6h3ORrlA5N",
        "colab_type": "code",
        "outputId": "797eaad4-f386-48fd-939f-721b50ddd018",
        "colab": {
          "base_uri": "https://localhost:8080/",
          "height": 319
        }
      },
      "source": [
        "train_data[1][\"config\"]"
      ],
      "execution_count": 7,
      "outputs": [
        {
          "output_type": "execute_result",
          "data": {
            "text/plain": [
              "{'activation': 'relu',\n",
              " 'batch_size': 457,\n",
              " 'cosine_annealing_T_max': 50,\n",
              " 'cosine_annealing_eta_min': 1e-08,\n",
              " 'imputation_strategy': 'mean',\n",
              " 'learning_rate': 0.01239328605026128,\n",
              " 'learning_rate_scheduler': 'cosine_annealing',\n",
              " 'loss': 'cross_entropy_weighted',\n",
              " 'max_dropout': 0.5472322491757223,\n",
              " 'max_units': 950,\n",
              " 'mlp_shape': 'funnel',\n",
              " 'momentum': 0.16411425552061212,\n",
              " 'network': 'shapedmlpnet',\n",
              " 'normalization_strategy': 'standardize',\n",
              " 'num_layers': 4,\n",
              " 'optimizer': 'sgd',\n",
              " 'weight_decay': 0.09762768273307641}"
            ]
          },
          "metadata": {
            "tags": []
          },
          "execution_count": 7
        }
      ]
    },
    {
      "cell_type": "code",
      "metadata": {
        "id": "pTl67TOTN8rD",
        "colab_type": "code",
        "outputId": "c8b817c4-de18-444c-9b10-fe4304327b32",
        "colab": {
          "base_uri": "https://localhost:8080/",
          "height": 283
        }
      },
      "source": [
        "# Learning curve\n",
        "plt.plot(train_data[10][\"Train/val_accuracy\"])"
      ],
      "execution_count": 8,
      "outputs": [
        {
          "output_type": "execute_result",
          "data": {
            "text/plain": [
              "[<matplotlib.lines.Line2D at 0x7fb3c1aa4a58>]"
            ]
          },
          "metadata": {
            "tags": []
          },
          "execution_count": 8
        },
        {
          "output_type": "display_data",
          "data": {
            "image/png": "[encoded data removed]",
            "text/plain": [
              "<Figure size 432x288 with 1 Axes>"
            ]
          },
          "metadata": {
            "tags": []
          }
        }
      ]
    },
    {
      "cell_type": "code",
      "metadata": {
        "id": "zXGuPeBKN8rM",
        "colab_type": "code",
        "outputId": "acbbb34a-8f76-4b70-86d1-1096aadd5178",
        "colab": {
          "base_uri": "https://localhost:8080/",
          "height": 283
        }
      },
      "source": [
        "# Gradient statistics\n",
        "plt.plot(train_data[10][\"Train/layer_wise_gradient_mean_layer_0\"])"
      ],
      "execution_count": 9,
      "outputs": [
        {
          "output_type": "execute_result",
          "data": {
            "text/plain": [
              "[<matplotlib.lines.Line2D at 0x7fb3c15f2e80>]"
            ]
          },
          "metadata": {
            "tags": []
          },
          "execution_count": 9
        },
        {
          "output_type": "display_data",
          "data": {
            "image/png": "[encoded data removed]",
            "text/plain": [
              "<Figure size 432x288 with 1 Axes>"
            ]
          },
          "metadata": {
            "tags": []
          }
        }
      ]
    },
    {
      "cell_type": "markdown",
      "metadata": {
        "id": "IaYC_PH4N8rQ",
        "colab_type": "text"
      },
      "source": [
        "## A simple baseline"
      ]
    },
    {
      "cell_type": "code",
      "metadata": {
        "id": "WJrvEgLzN8rS",
        "colab_type": "code",
        "colab": {}
      },
      "source": [
        "class SimpleLearningCurvePredictor():\n",
        "    \"\"\"A learning curve predictor that predicts the last observed epoch of the validation accuracy as final performance\"\"\"\n",
        "    \n",
        "    def __init__(self):\n",
        "        pass\n",
        "        \n",
        "    def fit(self, X, y):\n",
        "        pass\n",
        "    \n",
        "    def predict(self, X):\n",
        "        predictions = []\n",
        "        for datapoint in X:\n",
        "            predictions.append(datapoint[\"Train/val_accuracy\"][-1])\n",
        "        return predictions\n",
        "    \n",
        "def score(y_true, y_pred):\n",
        "    return mean_squared_error(y_true, y_pred)"
      ],
      "execution_count": 0,
      "outputs": []
    },
    {
      "cell_type": "code",
      "metadata": {
        "id": "d23UZhgHN8rW",
        "colab_type": "code",
        "outputId": "3e6dcc5c-183b-49ce-fee9-a03cbbbacdb2",
        "colab": {
          "base_uri": "https://localhost:8080/",
          "height": 35
        }
      },
      "source": [
        "# Training & tuning\n",
        "predictor = SimpleLearningCurvePredictor()\n",
        "predictor.fit(train_data, train_targets)\n",
        "preds = predictor.predict(val_data)\n",
        "mse = score(val_targets, preds)\n",
        "print(\"Score on validation set:\", mse)"
      ],
      "execution_count": 11,
      "outputs": [
        {
          "output_type": "stream",
          "text": [
            "Score on validation set: 31.921338670622784\n"
          ],
          "name": "stdout"
        }
      ]
    },
    {
      "cell_type": "code",
      "metadata": {
        "id": "NMWiY0XbN8rc",
        "colab_type": "code",
        "outputId": "a367c916-da19-4536-9368-fff9c8cefd6f",
        "colab": {
          "base_uri": "https://localhost:8080/",
          "height": 35
        }
      },
      "source": [
        "# Final evaluation (after tuning)\n",
        "final_preds = predictor.predict(test_data)\n",
        "final_score = score(test_targets, final_preds)\n",
        "print(\"Final test score:\", final_score)"
      ],
      "execution_count": 12,
      "outputs": [
        {
          "output_type": "stream",
          "text": [
            "Final test score: 24.199496266785523\n"
          ],
          "name": "stdout"
        }
      ]
    },
    {
      "cell_type": "code",
      "metadata": {
        "id": "B8rs7p0Jyqog",
        "colab_type": "code",
        "colab": {}
      },
      "source": [
        "device = utils.check_cuda()"
      ],
      "execution_count": 0,
      "outputs": []
    },
    {
      "cell_type": "code",
      "metadata": {
        "id": "VnEQJbbLyGG2",
        "colab_type": "code",
        "colab": {}
      },
      "source": [
        "train_data_loader = utils.prep_data(train_data, train_targets, batch_size=32,normalization_factor_temporal_data=[100])\n",
        "val_data_loader = utils.prep_data(val_data, val_targets, batch_size=32,normalization_factor_temporal_data=[100])\n",
        "test_data_loader = utils.prep_data(test_data, test_targets, batch_size=32,normalization_factor_temporal_data=[100])"
      ],
      "execution_count": 0,
      "outputs": []
    },
    {
      "cell_type": "code",
      "metadata": {
        "id": "cOrgWvjIaU8n",
        "colab_type": "code",
        "colab": {}
      },
      "source": [
        "class UnivariatMultiStepLSTM(torch.nn.Module):\n",
        "    \"\"\"An univariate multi-step LSTM that predicts from a single input sequence the validation learning curve\"\"\"\n",
        "    \n",
        "    def __init__(self,input_size, hidden_size, output_size, \n",
        "                 num_layers=1, lstm_dropout=0, bidirectional=False,fc_dropout=0):\n",
        "        super(UnivariatMultiStepLSTM,self).__init__()\n",
        "        \n",
        "        self.input_size = input_size\n",
        "        self.hidden_size = hidden_size\n",
        "        self.output_size = output_size\n",
        "        self.num_layers = num_layers\n",
        "        self.lstm_dropout = lstm_dropout\n",
        "        self.bidirectional = bidirectional\n",
        "        self.fc_dropout = fc_dropout\n",
        "\n",
        "        self.relu = torch.nn.functional.relu\n",
        "        self.encode_fc1 = torch.nn.Linear(7,int(self.hidden_size/4))\n",
        "        self.encode_bn1 = torch.nn.BatchNorm1d(int(self.hidden_size/4))\n",
        "        self.encode_fc2 = torch.nn.Linear(int(self.hidden_size/4),self.hidden_size)\n",
        "        self.encode_bn2 = torch.nn.BatchNorm1d(self.hidden_size)\n",
        "\n",
        "        self.lstm = torch.nn.LSTM(input_size=input_size, hidden_size=hidden_size, num_layers=num_layers,\n",
        "                            dropout=lstm_dropout, bidirectional=bidirectional)\n",
        "        self.dropout_layer = torch.nn.Dropout(fc_dropout)\n",
        "        self.fc1 = torch.nn.Linear(hidden_size*10*2 if self.bidirectional else hidden_size,64)\n",
        "        self.fc2 = torch.nn.Linear(64,output_size)\n",
        "\n",
        "    def encode(self,x):\n",
        "        x = self.relu(self.encode_bn1(self.encode_fc1(x)))\n",
        "        return self.encode_bn2(self.encode_fc2(x))\n",
        "\n",
        "    def forward(self,x):\n",
        "        seq, config = x\n",
        "        batch_size = seq.size(0)\n",
        "        h0 = self.encode(config)\n",
        "        h0 = torch.stack([h0 for _ in range(self.num_layers*2 if self.bidirectional else self.num_layers)])\n",
        "        c0 = torch.zeros(self.num_layers*2 if self.bidirectional else self.num_layers, config.size()[0], self.hidden_size)\n",
        "        seq = torch.transpose(seq,1,0)\n",
        "        seq = seq.unsqueeze(-1)\n",
        "        lstm_out, _ = self.lstm(seq,(h0,c0))\n",
        "        lstm_out = lstm_out.contiguous().view(batch_size,-1)\n",
        "        lstm_out = self.dropout_layer(lstm_out)\n",
        "        forecast = self.relu(self.fc1(lstm_out))\n",
        "        forecast = self.fc2(forecast)\n",
        "        return forecast"
      ],
      "execution_count": 0,
      "outputs": []
    },
    {
      "cell_type": "code",
      "metadata": {
        "id": "sqyIN3cLHlwC",
        "colab_type": "code",
        "colab": {}
      },
      "source": [
        "def train(model, optimizer, criterion, clip=5):\n",
        "    model.train()\n",
        "    epoch_loss = []\n",
        "    for val_acc, configs, targets in train_data_loader:\n",
        "      optimizer.zero_grad()\n",
        "      output = model([val_acc,configs])\n",
        "      loss = criterion(output, targets)\n",
        "      loss.backward()\n",
        "      torch.nn.utils.clip_grad_norm_(model.parameters(),clip)\n",
        "      optimizer.step()\n",
        "      epoch_loss.append(loss.item())\n",
        "    return np.array(epoch_loss).mean()"
      ],
      "execution_count": 0,
      "outputs": []
    },
    {
      "cell_type": "code",
      "metadata": {
        "id": "Lom0qSLfHh-J",
        "colab_type": "code",
        "colab": {}
      },
      "source": [
        "def evaluate(model, criterion):\n",
        "  model.eval()\n",
        "  epoch_loss = []\n",
        "  with torch.no_grad():\n",
        "    for val_acc, configs, targets in val_data_loader:\n",
        "      output = model([val_acc, configs])\n",
        "      loss = criterion(output, targets)\n",
        "      epoch_loss.append(loss.item())\n",
        "  return np.array(epoch_loss).mean()"
      ],
      "execution_count": 0,
      "outputs": []
    },
    {
      "cell_type": "code",
      "metadata": {
        "id": "9OFaN6Rx1Njn",
        "colab_type": "code",
        "colab": {}
      },
      "source": [
        "def test(model, criterion):\n",
        "    model.load_state_dict(torch.load('content/models/model.pt'))\n",
        "    model.eval()\n",
        "    epoch_loss=[]\n",
        "    with torch.no_grad():\n",
        "      for val_acc, configs, targets in test_data_loader:\n",
        "        output = model([val_acc, configs])\n",
        "        loss = criterion(output, targets)\n",
        "        epoch_loss.append(loss.item())\n",
        "        \n",
        "    return np.array(epoch_loss).mean()"
      ],
      "execution_count": 0,
      "outputs": []
    },
    {
      "cell_type": "code",
      "metadata": {
        "id": "Iqtn_wsjIJxm",
        "colab_type": "code",
        "colab": {}
      },
      "source": [
        "def init_weights(m):\n",
        "    for name, param in m.named_parameters():\n",
        "      torch.nn.init.uniform_(param.data, -0.08, 0.08)"
      ],
      "execution_count": 0,
      "outputs": []
    },
    {
      "cell_type": "code",
      "metadata": {
        "id": "yUioFDjfIIer",
        "colab_type": "code",
        "colab": {
          "base_uri": "https://localhost:8080/",
          "height": 195
        },
        "outputId": "c76f9de5-8daf-4019-e73e-b23cb36c7e21"
      },
      "source": [
        "input_size = 1\n",
        "outcome_dim = 1\n",
        "hidden_dim=50\n",
        "num_layers=3\n",
        "config_size = 7\n",
        "bidirectional = True\n",
        "lstm_dropout=0.5\n",
        "model = UnivariatMultiStepLSTM(input_size, hidden_dim, outcome_dim, num_layers,\n",
        "                      lstm_dropout=lstm_dropout,bidirectional=bidirectional,fc_dropout=0.0)\n",
        "model.apply(init_weights)"
      ],
      "execution_count": 93,
      "outputs": [
        {
          "output_type": "execute_result",
          "data": {
            "text/plain": [
              "UnivariatMultiStepLSTM(\n",
              "  (encode_fc1): Linear(in_features=7, out_features=12, bias=True)\n",
              "  (encode_bn1): BatchNorm1d(12, eps=1e-05, momentum=0.1, affine=True, track_running_stats=True)\n",
              "  (encode_fc2): Linear(in_features=12, out_features=50, bias=True)\n",
              "  (encode_bn2): BatchNorm1d(50, eps=1e-05, momentum=0.1, affine=True, track_running_stats=True)\n",
              "  (lstm): LSTM(1, 50, num_layers=3, dropout=0.5, bidirectional=True)\n",
              "  (dropout_layer): Dropout(p=0.0, inplace=False)\n",
              "  (fc1): Linear(in_features=1000, out_features=64, bias=True)\n",
              "  (fc2): Linear(in_features=64, out_features=1, bias=True)\n",
              ")"
            ]
          },
          "metadata": {
            "tags": []
          },
          "execution_count": 93
        }
      ]
    },
    {
      "cell_type": "code",
      "metadata": {
        "id": "jR-Zp7gmnXU_",
        "colab_type": "code",
        "colab": {}
      },
      "source": [
        "epochs=200\n",
        "lr=0.001\n",
        "weight_decay = 10e-3\n",
        "T_0 = int(epochs/4)\n",
        "\n",
        "criterion = torch.nn.MSELoss()\n",
        "optimizer = torch.optim.Adam(model.parameters(), lr=lr, weight_decay=weight_decay)\n",
        "scheduler = torch.optim.lr_scheduler.CosineAnnealingLR(optimizer, T_max=epochs*0.8)"
      ],
      "execution_count": 0,
      "outputs": []
    },
    {
      "cell_type": "code",
      "metadata": {
        "id": "e565yxk3H7mX",
        "colab_type": "code",
        "colab": {
          "base_uri": "https://localhost:8080/",
          "height": 1000
        },
        "outputId": "3756b879-4c7d-46e2-9e19-ff6248129b5a"
      },
      "source": [
        "best_val_loss = float('inf')\n",
        "\n",
        "for epoch in range(epochs):\n",
        "  train_loss = train(model, optimizer, criterion)\n",
        "  val_loss = evaluate(model, criterion)\n",
        "\n",
        "  if val_loss < best_val_loss:\n",
        "    torch.save(model.state_dict(),\"content/models/model.pt\")    \n",
        "    print('Val loss decreased ({:.6f} --> {:.6f}).  Saving model ...'.format(best_val_loss,val_loss))\n",
        "    best_val_loss = val_loss\n",
        "\n",
        "  print(f'Epoch: {epoch}\\t Train Loss: {train_loss:.3f}\\t Val. Loss: {val_loss:.3f}')\n",
        "  scheduler.step()"
      ],
      "execution_count": 95,
      "outputs": [
        {
          "output_type": "stream",
          "text": [
            "/usr/local/lib/python3.6/dist-packages/torch/nn/modules/loss.py:431: UserWarning: Using a target size (torch.Size([32])) that is different to the input size (torch.Size([32, 1])). This will likely lead to incorrect results due to broadcasting. Please ensure they have the same size.\n",
            "  return F.mse_loss(input, target, reduction=self.reduction)\n",
            "/usr/local/lib/python3.6/dist-packages/torch/nn/modules/loss.py:431: UserWarning: Using a target size (torch.Size([8])) that is different to the input size (torch.Size([8, 1])). This will likely lead to incorrect results due to broadcasting. Please ensure they have the same size.\n",
            "  return F.mse_loss(input, target, reduction=self.reduction)\n",
            "/usr/local/lib/python3.6/dist-packages/torch/nn/modules/loss.py:431: UserWarning: Using a target size (torch.Size([20])) that is different to the input size (torch.Size([20, 1])). This will likely lead to incorrect results due to broadcasting. Please ensure they have the same size.\n",
            "  return F.mse_loss(input, target, reduction=self.reduction)\n"
          ],
          "name": "stderr"
        },
        {
          "output_type": "stream",
          "text": [
            "Val loss decreased (inf --> 1613.567772).  Saving model ...\n",
            "Epoch: 0\t Train Loss: 5194.016\t Val. Loss: 1613.568\n",
            "Val loss decreased (1613.567772 --> 128.038867).  Saving model ...\n",
            "Epoch: 1\t Train Loss: 351.003\t Val. Loss: 128.039\n",
            "Val loss decreased (128.038867 --> 72.395228).  Saving model ...\n",
            "Epoch: 2\t Train Loss: 107.606\t Val. Loss: 72.395\n",
            "Val loss decreased (72.395228 --> 63.023740).  Saving model ...\n",
            "Epoch: 3\t Train Loss: 78.757\t Val. Loss: 63.024\n",
            "Epoch: 4\t Train Loss: 76.809\t Val. Loss: 71.422\n",
            "Epoch: 5\t Train Loss: 77.477\t Val. Loss: 65.871\n",
            "Epoch: 6\t Train Loss: 76.453\t Val. Loss: 64.035\n",
            "Epoch: 7\t Train Loss: 75.415\t Val. Loss: 65.232\n",
            "Epoch: 8\t Train Loss: 77.527\t Val. Loss: 63.846\n",
            "Epoch: 9\t Train Loss: 76.768\t Val. Loss: 63.796\n",
            "Val loss decreased (63.023740 --> 62.791976).  Saving model ...\n",
            "Epoch: 10\t Train Loss: 77.655\t Val. Loss: 62.792\n",
            "Epoch: 11\t Train Loss: 77.174\t Val. Loss: 63.160\n",
            "Epoch: 12\t Train Loss: 76.274\t Val. Loss: 73.664\n",
            "Epoch: 13\t Train Loss: 77.869\t Val. Loss: 72.300\n",
            "Epoch: 14\t Train Loss: 77.927\t Val. Loss: 71.573\n",
            "Epoch: 15\t Train Loss: 77.904\t Val. Loss: 63.300\n",
            "Epoch: 16\t Train Loss: 78.552\t Val. Loss: 70.616\n",
            "Epoch: 17\t Train Loss: 79.988\t Val. Loss: 64.499\n",
            "Epoch: 18\t Train Loss: 77.134\t Val. Loss: 67.697\n",
            "Epoch: 19\t Train Loss: 83.224\t Val. Loss: 64.182\n",
            "Epoch: 20\t Train Loss: 81.287\t Val. Loss: 116.167\n",
            "Epoch: 21\t Train Loss: 100.275\t Val. Loss: 71.478\n",
            "Epoch: 22\t Train Loss: 81.676\t Val. Loss: 63.166\n",
            "Epoch: 23\t Train Loss: 80.731\t Val. Loss: 63.424\n",
            "Epoch: 24\t Train Loss: 81.120\t Val. Loss: 71.544\n",
            "Epoch: 25\t Train Loss: 79.582\t Val. Loss: 66.849\n",
            "Epoch: 26\t Train Loss: 78.456\t Val. Loss: 76.976\n",
            "Epoch: 27\t Train Loss: 83.258\t Val. Loss: 66.028\n",
            "Epoch: 28\t Train Loss: 80.188\t Val. Loss: 65.125\n",
            "Val loss decreased (62.791976 --> 62.596563).  Saving model ...\n",
            "Epoch: 29\t Train Loss: 76.414\t Val. Loss: 62.597\n",
            "Epoch: 30\t Train Loss: 77.263\t Val. Loss: 71.975\n",
            "Epoch: 31\t Train Loss: 80.347\t Val. Loss: 65.060\n",
            "Epoch: 32\t Train Loss: 78.232\t Val. Loss: 65.407\n",
            "Epoch: 33\t Train Loss: 77.331\t Val. Loss: 65.072\n",
            "Epoch: 34\t Train Loss: 76.829\t Val. Loss: 63.799\n",
            "Epoch: 35\t Train Loss: 77.523\t Val. Loss: 62.714\n",
            "Epoch: 36\t Train Loss: 76.946\t Val. Loss: 63.363\n",
            "Val loss decreased (62.596563 --> 62.349774).  Saving model ...\n",
            "Epoch: 37\t Train Loss: 77.390\t Val. Loss: 62.350\n",
            "Epoch: 38\t Train Loss: 77.927\t Val. Loss: 64.244\n",
            "Val loss decreased (62.349774 --> 62.343263).  Saving model ...\n",
            "Epoch: 39\t Train Loss: 76.635\t Val. Loss: 62.343\n",
            "Epoch: 40\t Train Loss: 77.792\t Val. Loss: 73.233\n",
            "Epoch: 41\t Train Loss: 78.425\t Val. Loss: 93.378\n",
            "Epoch: 42\t Train Loss: 80.174\t Val. Loss: 67.065\n",
            "Epoch: 43\t Train Loss: 78.347\t Val. Loss: 68.112\n",
            "Epoch: 44\t Train Loss: 77.725\t Val. Loss: 66.928\n",
            "Epoch: 45\t Train Loss: 76.250\t Val. Loss: 63.107\n",
            "Val loss decreased (62.343263 --> 62.225504).  Saving model ...\n",
            "Epoch: 46\t Train Loss: 80.136\t Val. Loss: 62.226\n",
            "Epoch: 47\t Train Loss: 77.768\t Val. Loss: 64.481\n",
            "Epoch: 48\t Train Loss: 78.749\t Val. Loss: 64.851\n",
            "Epoch: 49\t Train Loss: 78.886\t Val. Loss: 63.779\n",
            "Epoch: 50\t Train Loss: 77.338\t Val. Loss: 79.240\n",
            "Epoch: 51\t Train Loss: 79.207\t Val. Loss: 88.962\n",
            "Epoch: 52\t Train Loss: 83.682\t Val. Loss: 62.701\n",
            "Epoch: 53\t Train Loss: 76.375\t Val. Loss: 63.025\n",
            "Epoch: 54\t Train Loss: 75.891\t Val. Loss: 62.309\n",
            "Epoch: 55\t Train Loss: 78.331\t Val. Loss: 68.478\n",
            "Epoch: 56\t Train Loss: 76.634\t Val. Loss: 63.467\n",
            "Epoch: 57\t Train Loss: 81.624\t Val. Loss: 82.898\n",
            "Epoch: 58\t Train Loss: 85.046\t Val. Loss: 67.368\n",
            "Epoch: 59\t Train Loss: 76.507\t Val. Loss: 63.382\n",
            "Epoch: 60\t Train Loss: 76.959\t Val. Loss: 92.346\n",
            "Epoch: 61\t Train Loss: 84.777\t Val. Loss: 66.731\n",
            "Epoch: 62\t Train Loss: 76.306\t Val. Loss: 63.599\n",
            "Epoch: 63\t Train Loss: 76.544\t Val. Loss: 70.710\n",
            "Epoch: 64\t Train Loss: 82.801\t Val. Loss: 74.437\n",
            "Epoch: 65\t Train Loss: 79.022\t Val. Loss: 63.406\n",
            "Epoch: 66\t Train Loss: 77.349\t Val. Loss: 68.238\n",
            "Epoch: 67\t Train Loss: 80.552\t Val. Loss: 64.295\n",
            "Val loss decreased (62.225504 --> 62.224690).  Saving model ...\n",
            "Epoch: 68\t Train Loss: 77.662\t Val. Loss: 62.225\n",
            "Epoch: 69\t Train Loss: 78.665\t Val. Loss: 63.132\n",
            "Epoch: 70\t Train Loss: 75.955\t Val. Loss: 62.797\n",
            "Epoch: 71\t Train Loss: 79.172\t Val. Loss: 77.080\n",
            "Epoch: 72\t Train Loss: 83.271\t Val. Loss: 65.975\n",
            "Epoch: 73\t Train Loss: 79.303\t Val. Loss: 78.678\n",
            "Epoch: 74\t Train Loss: 82.018\t Val. Loss: 67.148\n",
            "Epoch: 75\t Train Loss: 79.647\t Val. Loss: 66.183\n",
            "Epoch: 76\t Train Loss: 77.390\t Val. Loss: 62.810\n",
            "Epoch: 77\t Train Loss: 79.061\t Val. Loss: 84.659\n",
            "Epoch: 78\t Train Loss: 78.158\t Val. Loss: 65.604\n",
            "Epoch: 79\t Train Loss: 76.613\t Val. Loss: 73.620\n",
            "Epoch: 80\t Train Loss: 81.918\t Val. Loss: 65.677\n",
            "Epoch: 81\t Train Loss: 78.613\t Val. Loss: 77.141\n",
            "Epoch: 82\t Train Loss: 79.319\t Val. Loss: 68.076\n",
            "Epoch: 83\t Train Loss: 77.302\t Val. Loss: 68.496\n",
            "Epoch: 84\t Train Loss: 76.763\t Val. Loss: 65.533\n",
            "Epoch: 85\t Train Loss: 75.751\t Val. Loss: 69.482\n",
            "Epoch: 86\t Train Loss: 76.647\t Val. Loss: 63.962\n",
            "Epoch: 87\t Train Loss: 77.737\t Val. Loss: 71.517\n",
            "Epoch: 88\t Train Loss: 78.804\t Val. Loss: 64.341\n",
            "Epoch: 89\t Train Loss: 75.851\t Val. Loss: 64.502\n",
            "Epoch: 90\t Train Loss: 75.778\t Val. Loss: 66.888\n",
            "Epoch: 91\t Train Loss: 76.873\t Val. Loss: 68.650\n",
            "Epoch: 92\t Train Loss: 75.455\t Val. Loss: 63.502\n",
            "Epoch: 93\t Train Loss: 76.379\t Val. Loss: 67.993\n",
            "Epoch: 94\t Train Loss: 76.045\t Val. Loss: 71.965\n",
            "Epoch: 95\t Train Loss: 78.053\t Val. Loss: 66.665\n",
            "Epoch: 96\t Train Loss: 76.449\t Val. Loss: 68.227\n",
            "Epoch: 97\t Train Loss: 78.567\t Val. Loss: 62.240\n",
            "Epoch: 98\t Train Loss: 76.089\t Val. Loss: 62.476\n",
            "Epoch: 99\t Train Loss: 75.911\t Val. Loss: 63.167\n",
            "Epoch: 100\t Train Loss: 76.426\t Val. Loss: 64.834\n",
            "Val loss decreased (62.224690 --> 62.190763).  Saving model ...\n",
            "Epoch: 101\t Train Loss: 77.601\t Val. Loss: 62.191\n",
            "Epoch: 102\t Train Loss: 75.622\t Val. Loss: 64.473\n",
            "Epoch: 103\t Train Loss: 75.727\t Val. Loss: 64.105\n",
            "Epoch: 104\t Train Loss: 75.282\t Val. Loss: 63.647\n",
            "Epoch: 105\t Train Loss: 76.315\t Val. Loss: 62.739\n",
            "Epoch: 106\t Train Loss: 75.993\t Val. Loss: 64.592\n",
            "Epoch: 107\t Train Loss: 75.728\t Val. Loss: 62.378\n",
            "Epoch: 108\t Train Loss: 76.035\t Val. Loss: 64.402\n",
            "Epoch: 109\t Train Loss: 76.354\t Val. Loss: 62.242\n",
            "Epoch: 110\t Train Loss: 78.445\t Val. Loss: 73.342\n",
            "Epoch: 111\t Train Loss: 76.933\t Val. Loss: 62.347\n",
            "Epoch: 112\t Train Loss: 75.815\t Val. Loss: 63.463\n",
            "Epoch: 113\t Train Loss: 75.466\t Val. Loss: 62.221\n",
            "Val loss decreased (62.190763 --> 62.136232).  Saving model ...\n",
            "Epoch: 114\t Train Loss: 75.727\t Val. Loss: 62.136\n",
            "Epoch: 115\t Train Loss: 75.675\t Val. Loss: 62.852\n",
            "Epoch: 116\t Train Loss: 75.114\t Val. Loss: 62.489\n",
            "Epoch: 117\t Train Loss: 75.722\t Val. Loss: 62.359\n",
            "Epoch: 118\t Train Loss: 76.556\t Val. Loss: 65.325\n",
            "Epoch: 119\t Train Loss: 75.108\t Val. Loss: 62.145\n",
            "Epoch: 120\t Train Loss: 75.935\t Val. Loss: 64.493\n",
            "Epoch: 121\t Train Loss: 75.035\t Val. Loss: 62.334\n",
            "Epoch: 122\t Train Loss: 75.452\t Val. Loss: 62.664\n",
            "Epoch: 123\t Train Loss: 74.969\t Val. Loss: 62.176\n",
            "Epoch: 124\t Train Loss: 75.765\t Val. Loss: 63.336\n",
            "Epoch: 125\t Train Loss: 74.750\t Val. Loss: 62.422\n",
            "Val loss decreased (62.136232 --> 62.130737).  Saving model ...\n",
            "Epoch: 126\t Train Loss: 75.435\t Val. Loss: 62.131\n",
            "Epoch: 127\t Train Loss: 75.972\t Val. Loss: 63.074\n",
            "Epoch: 128\t Train Loss: 75.251\t Val. Loss: 62.938\n",
            "Epoch: 129\t Train Loss: 76.452\t Val. Loss: 63.040\n",
            "Epoch: 130\t Train Loss: 76.632\t Val. Loss: 63.295\n",
            "Epoch: 131\t Train Loss: 76.122\t Val. Loss: 62.535\n",
            "Epoch: 132\t Train Loss: 76.020\t Val. Loss: 63.033\n",
            "Epoch: 133\t Train Loss: 76.083\t Val. Loss: 62.412\n",
            "Epoch: 134\t Train Loss: 75.550\t Val. Loss: 62.164\n",
            "Epoch: 135\t Train Loss: 75.697\t Val. Loss: 62.533\n",
            "Epoch: 136\t Train Loss: 75.892\t Val. Loss: 62.447\n",
            "Epoch: 137\t Train Loss: 75.240\t Val. Loss: 62.226\n",
            "Val loss decreased (62.130737 --> 62.122661).  Saving model ...\n",
            "Epoch: 138\t Train Loss: 75.340\t Val. Loss: 62.123\n",
            "Epoch: 139\t Train Loss: 75.462\t Val. Loss: 62.179\n",
            "Epoch: 140\t Train Loss: 75.193\t Val. Loss: 62.124\n",
            "Epoch: 141\t Train Loss: 75.166\t Val. Loss: 62.152\n",
            "Epoch: 142\t Train Loss: 75.244\t Val. Loss: 62.150\n",
            "Val loss decreased (62.122661 --> 62.118433).  Saving model ...\n",
            "Epoch: 143\t Train Loss: 74.881\t Val. Loss: 62.118\n",
            "Epoch: 144\t Train Loss: 74.973\t Val. Loss: 62.136\n"
          ],
          "name": "stdout"
        },
        {
          "output_type": "error",
          "ename": "KeyboardInterrupt",
          "evalue": "ignored",
          "traceback": [
            "\u001b[0;31m---------------------------------------------------------------------------\u001b[0m",
            "\u001b[0;31mKeyboardInterrupt\u001b[0m                         Traceback (most recent call last)",
            "\u001b[0;32m<ipython-input-95-55322374d926>\u001b[0m in \u001b[0;36m<module>\u001b[0;34m()\u001b[0m\n\u001b[1;32m      2\u001b[0m \u001b[0;34m\u001b[0m\u001b[0m\n\u001b[1;32m      3\u001b[0m \u001b[0;32mfor\u001b[0m \u001b[0mepoch\u001b[0m \u001b[0;32min\u001b[0m \u001b[0mrange\u001b[0m\u001b[0;34m(\u001b[0m\u001b[0mepochs\u001b[0m\u001b[0;34m)\u001b[0m\u001b[0;34m:\u001b[0m\u001b[0;34m\u001b[0m\u001b[0;34m\u001b[0m\u001b[0m\n\u001b[0;32m----> 4\u001b[0;31m   \u001b[0mtrain_loss\u001b[0m \u001b[0;34m=\u001b[0m \u001b[0mtrain\u001b[0m\u001b[0;34m(\u001b[0m\u001b[0mmodel\u001b[0m\u001b[0;34m,\u001b[0m \u001b[0moptimizer\u001b[0m\u001b[0;34m,\u001b[0m \u001b[0mcriterion\u001b[0m\u001b[0;34m)\u001b[0m\u001b[0;34m\u001b[0m\u001b[0;34m\u001b[0m\u001b[0m\n\u001b[0m\u001b[1;32m      5\u001b[0m   \u001b[0mval_loss\u001b[0m \u001b[0;34m=\u001b[0m \u001b[0mevaluate\u001b[0m\u001b[0;34m(\u001b[0m\u001b[0mmodel\u001b[0m\u001b[0;34m,\u001b[0m \u001b[0mcriterion\u001b[0m\u001b[0;34m)\u001b[0m\u001b[0;34m\u001b[0m\u001b[0;34m\u001b[0m\u001b[0m\n\u001b[1;32m      6\u001b[0m \u001b[0;34m\u001b[0m\u001b[0m\n",
            "\u001b[0;32m<ipython-input-80-df6dd2bf00fd>\u001b[0m in \u001b[0;36mtrain\u001b[0;34m(model, optimizer, criterion, clip)\u001b[0m\n\u001b[1;32m      4\u001b[0m     \u001b[0;32mfor\u001b[0m \u001b[0mval_acc\u001b[0m\u001b[0;34m,\u001b[0m \u001b[0mconfigs\u001b[0m\u001b[0;34m,\u001b[0m \u001b[0mtargets\u001b[0m \u001b[0;32min\u001b[0m \u001b[0mtrain_data_loader\u001b[0m\u001b[0;34m:\u001b[0m\u001b[0;34m\u001b[0m\u001b[0;34m\u001b[0m\u001b[0m\n\u001b[1;32m      5\u001b[0m       \u001b[0moptimizer\u001b[0m\u001b[0;34m.\u001b[0m\u001b[0mzero_grad\u001b[0m\u001b[0;34m(\u001b[0m\u001b[0;34m)\u001b[0m\u001b[0;34m\u001b[0m\u001b[0;34m\u001b[0m\u001b[0m\n\u001b[0;32m----> 6\u001b[0;31m       \u001b[0moutput\u001b[0m \u001b[0;34m=\u001b[0m \u001b[0mmodel\u001b[0m\u001b[0;34m(\u001b[0m\u001b[0;34m[\u001b[0m\u001b[0mval_acc\u001b[0m\u001b[0;34m,\u001b[0m\u001b[0mconfigs\u001b[0m\u001b[0;34m]\u001b[0m\u001b[0;34m)\u001b[0m\u001b[0;34m\u001b[0m\u001b[0;34m\u001b[0m\u001b[0m\n\u001b[0m\u001b[1;32m      7\u001b[0m       \u001b[0mloss\u001b[0m \u001b[0;34m=\u001b[0m \u001b[0mcriterion\u001b[0m\u001b[0;34m(\u001b[0m\u001b[0moutput\u001b[0m\u001b[0;34m,\u001b[0m \u001b[0mtargets\u001b[0m\u001b[0;34m)\u001b[0m\u001b[0;34m\u001b[0m\u001b[0;34m\u001b[0m\u001b[0m\n\u001b[1;32m      8\u001b[0m       \u001b[0mloss\u001b[0m\u001b[0;34m.\u001b[0m\u001b[0mbackward\u001b[0m\u001b[0;34m(\u001b[0m\u001b[0;34m)\u001b[0m\u001b[0;34m\u001b[0m\u001b[0;34m\u001b[0m\u001b[0m\n",
            "\u001b[0;32m/usr/local/lib/python3.6/dist-packages/torch/nn/modules/module.py\u001b[0m in \u001b[0;36m__call__\u001b[0;34m(self, *input, **kwargs)\u001b[0m\n\u001b[1;32m    530\u001b[0m             \u001b[0mresult\u001b[0m \u001b[0;34m=\u001b[0m \u001b[0mself\u001b[0m\u001b[0;34m.\u001b[0m\u001b[0m_slow_forward\u001b[0m\u001b[0;34m(\u001b[0m\u001b[0;34m*\u001b[0m\u001b[0minput\u001b[0m\u001b[0;34m,\u001b[0m \u001b[0;34m**\u001b[0m\u001b[0mkwargs\u001b[0m\u001b[0;34m)\u001b[0m\u001b[0;34m\u001b[0m\u001b[0;34m\u001b[0m\u001b[0m\n\u001b[1;32m    531\u001b[0m         \u001b[0;32melse\u001b[0m\u001b[0;34m:\u001b[0m\u001b[0;34m\u001b[0m\u001b[0;34m\u001b[0m\u001b[0m\n\u001b[0;32m--> 532\u001b[0;31m             \u001b[0mresult\u001b[0m \u001b[0;34m=\u001b[0m \u001b[0mself\u001b[0m\u001b[0;34m.\u001b[0m\u001b[0mforward\u001b[0m\u001b[0;34m(\u001b[0m\u001b[0;34m*\u001b[0m\u001b[0minput\u001b[0m\u001b[0;34m,\u001b[0m \u001b[0;34m**\u001b[0m\u001b[0mkwargs\u001b[0m\u001b[0;34m)\u001b[0m\u001b[0;34m\u001b[0m\u001b[0;34m\u001b[0m\u001b[0m\n\u001b[0m\u001b[1;32m    533\u001b[0m         \u001b[0;32mfor\u001b[0m \u001b[0mhook\u001b[0m \u001b[0;32min\u001b[0m \u001b[0mself\u001b[0m\u001b[0;34m.\u001b[0m\u001b[0m_forward_hooks\u001b[0m\u001b[0;34m.\u001b[0m\u001b[0mvalues\u001b[0m\u001b[0;34m(\u001b[0m\u001b[0;34m)\u001b[0m\u001b[0;34m:\u001b[0m\u001b[0;34m\u001b[0m\u001b[0;34m\u001b[0m\u001b[0m\n\u001b[1;32m    534\u001b[0m             \u001b[0mhook_result\u001b[0m \u001b[0;34m=\u001b[0m \u001b[0mhook\u001b[0m\u001b[0;34m(\u001b[0m\u001b[0mself\u001b[0m\u001b[0;34m,\u001b[0m \u001b[0minput\u001b[0m\u001b[0;34m,\u001b[0m \u001b[0mresult\u001b[0m\u001b[0;34m)\u001b[0m\u001b[0;34m\u001b[0m\u001b[0;34m\u001b[0m\u001b[0m\n",
            "\u001b[0;32m<ipython-input-79-abdb63fba6d5>\u001b[0m in \u001b[0;36mforward\u001b[0;34m(self, x)\u001b[0m\n\u001b[1;32m     38\u001b[0m         \u001b[0mseq\u001b[0m \u001b[0;34m=\u001b[0m \u001b[0mtorch\u001b[0m\u001b[0;34m.\u001b[0m\u001b[0mtranspose\u001b[0m\u001b[0;34m(\u001b[0m\u001b[0mseq\u001b[0m\u001b[0;34m,\u001b[0m\u001b[0;36m1\u001b[0m\u001b[0;34m,\u001b[0m\u001b[0;36m0\u001b[0m\u001b[0;34m)\u001b[0m\u001b[0;34m\u001b[0m\u001b[0;34m\u001b[0m\u001b[0m\n\u001b[1;32m     39\u001b[0m         \u001b[0mseq\u001b[0m \u001b[0;34m=\u001b[0m \u001b[0mseq\u001b[0m\u001b[0;34m.\u001b[0m\u001b[0munsqueeze\u001b[0m\u001b[0;34m(\u001b[0m\u001b[0;34m-\u001b[0m\u001b[0;36m1\u001b[0m\u001b[0;34m)\u001b[0m\u001b[0;34m\u001b[0m\u001b[0;34m\u001b[0m\u001b[0m\n\u001b[0;32m---> 40\u001b[0;31m         \u001b[0mlstm_out\u001b[0m\u001b[0;34m,\u001b[0m \u001b[0m_\u001b[0m \u001b[0;34m=\u001b[0m \u001b[0mself\u001b[0m\u001b[0;34m.\u001b[0m\u001b[0mlstm\u001b[0m\u001b[0;34m(\u001b[0m\u001b[0mseq\u001b[0m\u001b[0;34m,\u001b[0m\u001b[0;34m(\u001b[0m\u001b[0mh0\u001b[0m\u001b[0;34m,\u001b[0m\u001b[0mc0\u001b[0m\u001b[0;34m)\u001b[0m\u001b[0;34m)\u001b[0m\u001b[0;34m\u001b[0m\u001b[0;34m\u001b[0m\u001b[0m\n\u001b[0m\u001b[1;32m     41\u001b[0m         \u001b[0mlstm_out\u001b[0m \u001b[0;34m=\u001b[0m \u001b[0mlstm_out\u001b[0m\u001b[0;34m.\u001b[0m\u001b[0mcontiguous\u001b[0m\u001b[0;34m(\u001b[0m\u001b[0;34m)\u001b[0m\u001b[0;34m.\u001b[0m\u001b[0mview\u001b[0m\u001b[0;34m(\u001b[0m\u001b[0mbatch_size\u001b[0m\u001b[0;34m,\u001b[0m\u001b[0;34m-\u001b[0m\u001b[0;36m1\u001b[0m\u001b[0;34m)\u001b[0m\u001b[0;34m\u001b[0m\u001b[0;34m\u001b[0m\u001b[0m\n\u001b[1;32m     42\u001b[0m         \u001b[0mlstm_out\u001b[0m \u001b[0;34m=\u001b[0m \u001b[0mself\u001b[0m\u001b[0;34m.\u001b[0m\u001b[0mdropout_layer\u001b[0m\u001b[0;34m(\u001b[0m\u001b[0mlstm_out\u001b[0m\u001b[0;34m)\u001b[0m\u001b[0;34m\u001b[0m\u001b[0;34m\u001b[0m\u001b[0m\n",
            "\u001b[0;32m/usr/local/lib/python3.6/dist-packages/torch/nn/modules/module.py\u001b[0m in \u001b[0;36m__call__\u001b[0;34m(self, *input, **kwargs)\u001b[0m\n\u001b[1;32m    530\u001b[0m             \u001b[0mresult\u001b[0m \u001b[0;34m=\u001b[0m \u001b[0mself\u001b[0m\u001b[0;34m.\u001b[0m\u001b[0m_slow_forward\u001b[0m\u001b[0;34m(\u001b[0m\u001b[0;34m*\u001b[0m\u001b[0minput\u001b[0m\u001b[0;34m,\u001b[0m \u001b[0;34m**\u001b[0m\u001b[0mkwargs\u001b[0m\u001b[0;34m)\u001b[0m\u001b[0;34m\u001b[0m\u001b[0;34m\u001b[0m\u001b[0m\n\u001b[1;32m    531\u001b[0m         \u001b[0;32melse\u001b[0m\u001b[0;34m:\u001b[0m\u001b[0;34m\u001b[0m\u001b[0;34m\u001b[0m\u001b[0m\n\u001b[0;32m--> 532\u001b[0;31m             \u001b[0mresult\u001b[0m \u001b[0;34m=\u001b[0m \u001b[0mself\u001b[0m\u001b[0;34m.\u001b[0m\u001b[0mforward\u001b[0m\u001b[0;34m(\u001b[0m\u001b[0;34m*\u001b[0m\u001b[0minput\u001b[0m\u001b[0;34m,\u001b[0m \u001b[0;34m**\u001b[0m\u001b[0mkwargs\u001b[0m\u001b[0;34m)\u001b[0m\u001b[0;34m\u001b[0m\u001b[0;34m\u001b[0m\u001b[0m\n\u001b[0m\u001b[1;32m    533\u001b[0m         \u001b[0;32mfor\u001b[0m \u001b[0mhook\u001b[0m \u001b[0;32min\u001b[0m \u001b[0mself\u001b[0m\u001b[0;34m.\u001b[0m\u001b[0m_forward_hooks\u001b[0m\u001b[0;34m.\u001b[0m\u001b[0mvalues\u001b[0m\u001b[0;34m(\u001b[0m\u001b[0;34m)\u001b[0m\u001b[0;34m:\u001b[0m\u001b[0;34m\u001b[0m\u001b[0;34m\u001b[0m\u001b[0m\n\u001b[1;32m    534\u001b[0m             \u001b[0mhook_result\u001b[0m \u001b[0;34m=\u001b[0m \u001b[0mhook\u001b[0m\u001b[0;34m(\u001b[0m\u001b[0mself\u001b[0m\u001b[0;34m,\u001b[0m \u001b[0minput\u001b[0m\u001b[0;34m,\u001b[0m \u001b[0mresult\u001b[0m\u001b[0;34m)\u001b[0m\u001b[0;34m\u001b[0m\u001b[0;34m\u001b[0m\u001b[0m\n",
            "\u001b[0;32m/usr/local/lib/python3.6/dist-packages/torch/nn/modules/rnn.py\u001b[0m in \u001b[0;36mforward\u001b[0;34m(self, input, hx)\u001b[0m\n\u001b[1;32m    557\u001b[0m         \u001b[0;32mif\u001b[0m \u001b[0mbatch_sizes\u001b[0m \u001b[0;32mis\u001b[0m \u001b[0;32mNone\u001b[0m\u001b[0;34m:\u001b[0m\u001b[0;34m\u001b[0m\u001b[0;34m\u001b[0m\u001b[0m\n\u001b[1;32m    558\u001b[0m             result = _VF.lstm(input, hx, self._flat_weights, self.bias, self.num_layers,\n\u001b[0;32m--> 559\u001b[0;31m                               self.dropout, self.training, self.bidirectional, self.batch_first)\n\u001b[0m\u001b[1;32m    560\u001b[0m         \u001b[0;32melse\u001b[0m\u001b[0;34m:\u001b[0m\u001b[0;34m\u001b[0m\u001b[0;34m\u001b[0m\u001b[0m\n\u001b[1;32m    561\u001b[0m             result = _VF.lstm(input, batch_sizes, hx, self._flat_weights, self.bias,\n",
            "\u001b[0;31mKeyboardInterrupt\u001b[0m: "
          ]
        }
      ]
    },
    {
      "cell_type": "code",
      "metadata": {
        "id": "5loOywuhHem-",
        "colab_type": "code",
        "colab": {}
      },
      "source": [
        "def RMSELoss(yhat,y):\n",
        "    return torch.sqrt(torch.mean((yhat-y)**2))"
      ],
      "execution_count": 0,
      "outputs": []
    },
    {
      "cell_type": "code",
      "metadata": {
        "id": "9vKyR0Rq1JxW",
        "colab_type": "code",
        "colab": {}
      },
      "source": [
        "test_acc, msqrt = test_model(model, criterion)"
      ],
      "execution_count": 0,
      "outputs": []
    }
  ]
}