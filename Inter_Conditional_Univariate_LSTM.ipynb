{
  "nbformat": 4,
  "nbformat_minor": 0,
  "metadata": {
    "kernelspec": {
      "name": "python3",
      "display_name": "Python 3"
    },
    "language_info": {
      "codemirror_mode": {
        "name": "ipython",
        "version": 3
      },
      "file_extension": ".py",
      "mimetype": "text/x-python",
      "name": "python",
      "nbconvert_exporter": "python",
      "pygments_lexer": "ipython3",
      "version": "3.6.0"
    },
    "colab": {
      "name": "Inter_Conditional_Univariate_LSTM.ipynb",
      "provenance": []
    },
    "accelerator": "GPU"
  },
  "cells": [
    {
      "cell_type": "markdown",
      "metadata": {
        "id": "oJd_VxDKN8pn",
        "colab_type": "text"
      },
      "source": [
        "# Task A: Creating a Performance Predictor\n",
        "\n",
        "In this task, you will use training data from 2000 configurations on a single OpenML dataset to train a performance predictor. The data will be splitted into train, test and validation set and we will only use the first 10 epochs of the learning curves for predicitons. You are provided with the full benchmark logs for Fashion-MNIST, that is learning curves, config parameters and gradient statistics, and you can use them freely.\n",
        "\n",
        "For questions, you can contact zimmerl@informatik.uni-freiburg.\n",
        "\n",
        "__Note: Please use the dataloading and splits you are provided with in this notebook.__"
      ]
    },
    {
      "cell_type": "markdown",
      "metadata": {
        "id": "cqPBWpd5N8pt",
        "colab_type": "text"
      },
      "source": [
        "## Specifications:\n",
        "\n",
        "* Data: fashion_mnist.json\n",
        "* Number of datasets: 1\n",
        "* Number of configurations: 2000\n",
        "* Number of epochs seed during prediction: 10\n",
        "* Available data: Learning curves, architecture parameters and hyperparameters, gradient statistics \n",
        "* Target: Final validation accuracy\n",
        "* Evaluation metric: MSE"
      ]
    },
    {
      "cell_type": "markdown",
      "metadata": {
        "id": "4eYlSG9BN8py",
        "colab_type": "text"
      },
      "source": [
        "## Importing and splitting data\n",
        "\n",
        "__Note__: There are 51 steps logged, 50 epochs plus the 0th epoch, prior to any weight updates."
      ]
    },
    {
      "cell_type": "code",
      "metadata": {
        "id": "aT8tEKUJOqNy",
        "colab_type": "code",
        "outputId": "825772e9-7a48-43c8-9fac-b056e0acc571",
        "colab": {
          "base_uri": "https://localhost:8080/",
          "height": 268
        }
      },
      "source": [
        "!pip install wget\n",
        "!pip install zipfile36"
      ],
      "execution_count": 1,
      "outputs": [
        {
          "output_type": "stream",
          "text": [
            "Collecting wget\n",
            "  Downloading https://files.pythonhosted.org/packages/47/6a/62e288da7bcda82b935ff0c6cfe542970f04e29c756b0e147251b2fb251f/wget-3.2.zip\n",
            "Building wheels for collected packages: wget\n",
            "  Building wheel for wget (setup.py) ... \u001b[?25l\u001b[?25hdone\n",
            "  Created wheel for wget: filename=wget-3.2-cp36-none-any.whl size=9682 sha256=51c083105d35062aa9806b0bc5e838fd88c6a7f81abbcca9b252294e9e71edec\n",
            "  Stored in directory: /root/.cache/pip/wheels/40/15/30/7d8f7cea2902b4db79e3fea550d7d7b85ecb27ef992b618f3f\n",
            "Successfully built wget\n",
            "Installing collected packages: wget\n",
            "Successfully installed wget-3.2\n",
            "Collecting zipfile36\n",
            "  Downloading https://files.pythonhosted.org/packages/fd/8a/3b7da0b0bd87d1ef05b74207827c72d348b56a0d6d83242582be18a81e02/zipfile36-0.1.3-py3-none-any.whl\n",
            "Installing collected packages: zipfile36\n",
            "Successfully installed zipfile36-0.1.3\n"
          ],
          "name": "stdout"
        }
      ]
    },
    {
      "cell_type": "code",
      "metadata": {
        "id": "-GSY73FpOPdD",
        "colab_type": "code",
        "outputId": "dded4298-b599-4e86-f676-ab9adbaf498c",
        "colab": {
          "base_uri": "https://localhost:8080/",
          "height": 35
        }
      },
      "source": [
        "import wget\n",
        "import zipfile\n",
        "dir_path = 'content/'\n",
        "filename=wget.download('https://ndownloader.figshare.com/files/21001311')\n",
        "with zipfile.ZipFile(filename, 'r') as zip_ref:\n",
        "    zip_ref.extractall(\"\")\n",
        "!rm fashion_mnist.zip\n",
        "wget.download('https://raw.githubusercontent.com/automl/LCBench/master/api.py')\n",
        "wget.download('https://raw.githubusercontent.com/infomon/Extrapolation-of-Learning-Curves/master/utils.py')\n",
        "!mkdir content/models\n",
        "!mkdir models"
      ],
      "execution_count": 2,
      "outputs": [
        {
          "output_type": "stream",
          "text": [
            "mkdir: cannot create directory ‘content/models’: No such file or directory\n"
          ],
          "name": "stdout"
        }
      ]
    },
    {
      "cell_type": "code",
      "metadata": {
        "id": "ql1OqCfgN8p4",
        "colab_type": "code",
        "colab": {}
      },
      "source": [
        "%%capture\n",
        "%cd ..\n",
        "import numpy as np\n",
        "from sklearn.model_selection import train_test_split\n",
        "from sklearn.metrics import mean_squared_error\n",
        "import matplotlib.pyplot as plt\n",
        "\n",
        "from content.api import Benchmark\n",
        "import content.utils as utils\n",
        "import torch"
      ],
      "execution_count": 0,
      "outputs": []
    },
    {
      "cell_type": "code",
      "metadata": {
        "id": "e2sQv_05N8qJ",
        "colab_type": "code",
        "outputId": "5759b300-86d0-4047-e850-b2a50c7b4353",
        "colab": {
          "base_uri": "https://localhost:8080/",
          "height": 88
        }
      },
      "source": [
        "bench_dir = dir_path+\"fashion_mnist.json\"\n",
        "bench = Benchmark(bench_dir, cache=False)"
      ],
      "execution_count": 4,
      "outputs": [
        {
          "output_type": "stream",
          "text": [
            "==> Loading data...\n",
            "==> No cached data found or cache set to False.\n",
            "==> Reading json data...\n",
            "==> Done.\n"
          ],
          "name": "stdout"
        }
      ]
    },
    {
      "cell_type": "code",
      "metadata": {
        "id": "9eq4DxuuN8qe",
        "colab_type": "code",
        "outputId": "85117980-f7f6-4b41-8bb0-76b75c077083",
        "colab": {
          "base_uri": "https://localhost:8080/",
          "height": 70
        }
      },
      "source": [
        "# Read data\n",
        "def cut_data(data, cut_position):\n",
        "    targets = []\n",
        "    for dp in data:\n",
        "        targets.append(dp[\"Train/val_accuracy\"][50])\n",
        "        for tag in dp:\n",
        "            if tag.startswith(\"Train/\"):\n",
        "                dp[tag] = dp[tag][0:cut_position]\n",
        "    return data, targets\n",
        "\n",
        "def read_data():\n",
        "    dataset_name = 'Fashion-MNIST'\n",
        "    n_configs = bench.get_number_of_configs(dataset_name)\n",
        "    \n",
        "    # Query API\n",
        "    data = []\n",
        "    for config_id in range(n_configs):\n",
        "        data_point = dict()\n",
        "        data_point[\"config\"] = bench.query(dataset_name=dataset_name, tag=\"config\", config_id=config_id)\n",
        "        for tag in bench.get_queriable_tags(dataset_name=dataset_name, config_id=config_id):\n",
        "            if tag.startswith(\"Train/\"):\n",
        "                data_point[tag] = bench.query(dataset_name=dataset_name, tag=tag, config_id=config_id)    \n",
        "        data.append(data_point)\n",
        "        \n",
        "    # Split: 50% train, 25% validation, 25% test (the data is already shuffled)\n",
        "    indices = np.arange(n_configs)\n",
        "    ind_train = indices[0:int(np.floor(0.5*n_configs))]\n",
        "    ind_val = indices[int(np.floor(0.5*n_configs)):int(np.floor(0.75*n_configs))]\n",
        "    ind_test = indices[int(np.floor(0.75*n_configs)):]\n",
        "\n",
        "    array_data = np.array(data)\n",
        "    train_data = array_data[ind_train]\n",
        "    val_data = array_data[ind_val]\n",
        "    test_data = array_data[ind_test]\n",
        "    \n",
        "    # Cut curves for validation and test\n",
        "    cut_position = 11\n",
        "    val_data, val_targets = cut_data(val_data, cut_position)\n",
        "    test_data, test_targets = cut_data(test_data, cut_position)\n",
        "    train_data, train_targets = cut_data(train_data, 51)   # Cut last value as it is repeated\n",
        "    \n",
        "    return train_data, val_data, test_data, train_targets, val_targets, test_targets\n",
        "    \n",
        "train_data, val_data, test_data, train_targets, val_targets, test_targets = read_data()\n",
        "\n",
        "print(\"Train:\", len(train_data))\n",
        "print(\"Validation:\", len(val_data))\n",
        "print(\"Test:\", len(test_data))"
      ],
      "execution_count": 5,
      "outputs": [
        {
          "output_type": "stream",
          "text": [
            "Train: 1000\n",
            "Validation: 500\n",
            "Test: 500\n"
          ],
          "name": "stdout"
        }
      ]
    },
    {
      "cell_type": "markdown",
      "metadata": {
        "id": "9PphdZ2aN8qv",
        "colab_type": "text"
      },
      "source": [
        "The data contains the configuration of the trained model and learning curves as well as global and layer-wise gradient statistics.\n",
        "\n",
        "__Note__: Not all parameters vary across different configurations. The varying parameters are batch_size, max_dropout, max_units, num_layers, learning_rate, momentum, weight_decay"
      ]
    },
    {
      "cell_type": "code",
      "metadata": {
        "id": "Ybnns3VKN8q0",
        "colab_type": "code",
        "outputId": "86f51f93-031b-4cfb-cbd8-442990437179",
        "colab": {
          "base_uri": "https://localhost:8080/",
          "height": 55
        }
      },
      "source": [
        "# Config\n",
        "print(\"Config example:\", train_data[0][\"config\"])"
      ],
      "execution_count": 0,
      "outputs": [
        {
          "output_type": "stream",
          "text": [
            "Config example: {'batch_size': 71, 'imputation_strategy': 'mean', 'learning_rate_scheduler': 'cosine_annealing', 'loss': 'cross_entropy_weighted', 'network': 'shapedmlpnet', 'max_dropout': 0.025926231827891333, 'normalization_strategy': 'standardize', 'optimizer': 'sgd', 'cosine_annealing_T_max': 50, 'cosine_annealing_eta_min': 1e-08, 'activation': 'relu', 'max_units': 293, 'mlp_shape': 'funnel', 'num_layers': 3, 'learning_rate': 0.0018243300267253295, 'momentum': 0.21325193168301043, 'weight_decay': 0.020472816917443872}\n"
          ],
          "name": "stdout"
        }
      ]
    },
    {
      "cell_type": "code",
      "metadata": {
        "id": "Ua6h3ORrlA5N",
        "colab_type": "code",
        "outputId": "075233fe-b32f-4ea1-ba22-3c9a5dcc284b",
        "colab": {
          "base_uri": "https://localhost:8080/",
          "height": 319
        }
      },
      "source": [
        "train_data[1][\"config\"]"
      ],
      "execution_count": 0,
      "outputs": [
        {
          "output_type": "execute_result",
          "data": {
            "text/plain": [
              "{'activation': 'relu',\n",
              " 'batch_size': 457,\n",
              " 'cosine_annealing_T_max': 50,\n",
              " 'cosine_annealing_eta_min': 1e-08,\n",
              " 'imputation_strategy': 'mean',\n",
              " 'learning_rate': 0.01239328605026128,\n",
              " 'learning_rate_scheduler': 'cosine_annealing',\n",
              " 'loss': 'cross_entropy_weighted',\n",
              " 'max_dropout': 0.5472322491757223,\n",
              " 'max_units': 950,\n",
              " 'mlp_shape': 'funnel',\n",
              " 'momentum': 0.16411425552061212,\n",
              " 'network': 'shapedmlpnet',\n",
              " 'normalization_strategy': 'standardize',\n",
              " 'num_layers': 4,\n",
              " 'optimizer': 'sgd',\n",
              " 'weight_decay': 0.09762768273307641}"
            ]
          },
          "metadata": {
            "tags": []
          },
          "execution_count": 7
        }
      ]
    },
    {
      "cell_type": "code",
      "metadata": {
        "id": "pTl67TOTN8rD",
        "colab_type": "code",
        "outputId": "185ff5e6-6e57-468f-a7f9-ab1b7bd55702",
        "colab": {
          "base_uri": "https://localhost:8080/",
          "height": 283
        }
      },
      "source": [
        "# Learning curve\n",
        "plt.plot(train_data[10][\"Train/val_accuracy\"])"
      ],
      "execution_count": 0,
      "outputs": [
        {
          "output_type": "execute_result",
          "data": {
            "text/plain": [
              "[<matplotlib.lines.Line2D at 0x7fc795fe4a58>]"
            ]
          },
          "metadata": {
            "tags": []
          },
          "execution_count": 8
        },
        {
          "output_type": "display_data",
          "data": {
            "image/png": "[encoded data removed]",
            "text/plain": [
              "<Figure size 432x288 with 1 Axes>"
            ]
          },
          "metadata": {
            "tags": []
          }
        }
      ]
    },
    {
      "cell_type": "code",
      "metadata": {
        "id": "zXGuPeBKN8rM",
        "colab_type": "code",
        "outputId": "7cdf601d-43b6-4cc8-eca2-371858747561",
        "colab": {
          "base_uri": "https://localhost:8080/",
          "height": 283
        }
      },
      "source": [
        "# Gradient statistics\n",
        "plt.plot(train_data[10][\"Train/layer_wise_gradient_mean_layer_0\"])"
      ],
      "execution_count": 0,
      "outputs": [
        {
          "output_type": "execute_result",
          "data": {
            "text/plain": [
              "[<matplotlib.lines.Line2D at 0x7fc795b30e80>]"
            ]
          },
          "metadata": {
            "tags": []
          },
          "execution_count": 9
        },
        {
          "output_type": "display_data",
          "data": {
            "image/png": "[encoded data removed]",
            "text/plain": [
              "<Figure size 432x288 with 1 Axes>"
            ]
          },
          "metadata": {
            "tags": []
          }
        }
      ]
    },
    {
      "cell_type": "markdown",
      "metadata": {
        "id": "IaYC_PH4N8rQ",
        "colab_type": "text"
      },
      "source": [
        "## A simple baseline"
      ]
    },
    {
      "cell_type": "code",
      "metadata": {
        "id": "WJrvEgLzN8rS",
        "colab_type": "code",
        "colab": {}
      },
      "source": [
        "class SimpleLearningCurvePredictor():\n",
        "    \"\"\"A learning curve predictor that predicts the last observed epoch of the validation accuracy as final performance\"\"\"\n",
        "    \n",
        "    def __init__(self):\n",
        "        pass\n",
        "        \n",
        "    def fit(self, X, y):\n",
        "        pass\n",
        "    \n",
        "    def predict(self, X):\n",
        "        predictions = []\n",
        "        for datapoint in X:\n",
        "            predictions.append(datapoint[\"Train/val_accuracy\"][-1])\n",
        "        return predictions\n",
        "    \n",
        "def score(y_true, y_pred):\n",
        "    return mean_squared_error(y_true, y_pred)"
      ],
      "execution_count": 0,
      "outputs": []
    },
    {
      "cell_type": "code",
      "metadata": {
        "id": "d23UZhgHN8rW",
        "colab_type": "code",
        "outputId": "6312fb03-c601-4582-9c3e-3d533d64919f",
        "colab": {
          "base_uri": "https://localhost:8080/",
          "height": 35
        }
      },
      "source": [
        "# Training & tuning\n",
        "predictor = SimpleLearningCurvePredictor()\n",
        "predictor.fit(train_data, train_targets)\n",
        "preds = predictor.predict(val_data)\n",
        "mse = score(val_targets, preds)\n",
        "print(\"Score on validation set:\", mse)"
      ],
      "execution_count": 0,
      "outputs": [
        {
          "output_type": "stream",
          "text": [
            "Score on validation set: 31.921338670622784\n"
          ],
          "name": "stdout"
        }
      ]
    },
    {
      "cell_type": "code",
      "metadata": {
        "id": "NMWiY0XbN8rc",
        "colab_type": "code",
        "outputId": "801c9724-ef88-4baa-9e51-85160227668d",
        "colab": {
          "base_uri": "https://localhost:8080/",
          "height": 35
        }
      },
      "source": [
        "# Final evaluation (after tuning)\n",
        "final_preds = predictor.predict(test_data)\n",
        "final_score = score(test_targets, final_preds)\n",
        "print(\"Final test score:\", final_score)"
      ],
      "execution_count": 0,
      "outputs": [
        {
          "output_type": "stream",
          "text": [
            "Final test score: 24.199496266785523\n"
          ],
          "name": "stdout"
        }
      ]
    },
    {
      "cell_type": "code",
      "metadata": {
        "id": "B8rs7p0Jyqog",
        "colab_type": "code",
        "colab": {}
      },
      "source": [
        "device = utils.check_cuda()"
      ],
      "execution_count": 0,
      "outputs": []
    },
    {
      "cell_type": "code",
      "metadata": {
        "id": "VnEQJbbLyGG2",
        "colab_type": "code",
        "colab": {}
      },
      "source": [
        "train_data_loader = utils.prep_data(train_data, train_targets, batch_size=32,normalization_factor_temporal_data=[100])\n",
        "val_data_loader = utils.prep_data(val_data, val_targets, batch_size=32,normalization_factor_temporal_data=[100])\n",
        "test_data_loader = utils.prep_data(test_data, test_targets, batch_size=32,normalization_factor_temporal_data=[100])"
      ],
      "execution_count": 0,
      "outputs": []
    },
    {
      "cell_type": "code",
      "metadata": {
        "id": "cOrgWvjIaU8n",
        "colab_type": "code",
        "colab": {}
      },
      "source": [
        "class InterCondUniLSTM(torch.nn.Module):\n",
        "    \"\"\"An inter-conditional univariate LSTM that predicts from a single input sequence the final validation accuracy\"\"\"\n",
        "    \n",
        "    def __init__(self,input_size, hidden_size, output_size, \n",
        "                 num_layers=1, lstm_dropout=0, bidirectional=False,fc_dropout=0):\n",
        "        super(InterCondUniLSTM,self).__init__()\n",
        "        \n",
        "        self.input_size = input_size\n",
        "        self.hidden_size = hidden_size\n",
        "        self.output_size = output_size\n",
        "        self.num_layers = num_layers\n",
        "        self.lstm_dropout = lstm_dropout\n",
        "        self.bidirectional = bidirectional\n",
        "        self.fc_dropout = fc_dropout\n",
        "\n",
        "        self.relu = torch.nn.functional.relu\n",
        "\n",
        "        self.lstm = torch.nn.LSTM(input_size=input_size, hidden_size=hidden_size, num_layers=num_layers,\n",
        "                            dropout=lstm_dropout, bidirectional=bidirectional)\n",
        "        \n",
        "        self.fc = torch.nn.Linear(self.hidden_size*10*2 if self.bidirectional else hidden_size*10,output_size)\n",
        "\n",
        "    def forward(self,x):\n",
        "        seq, config = x\n",
        "        batch_size = seq.size(0)\n",
        "\n",
        "        h0 = torch.zeros(self.num_layers*2 if self.bidirectional else self.num_layers, config.size()[0], self.hidden_size)\n",
        "        c0 = torch.zeros(self.num_layers*2 if self.bidirectional else self.num_layers, config.size()[0], self.hidden_size)\n",
        "        seq = torch.transpose(seq,1,0)\n",
        "        seq = seq.unsqueeze(-1)\n",
        "\n",
        "        inter_seq = []\n",
        "        for i in range(10):\n",
        "          inter_seq.append(torch.cat((seq[i],config),-1))\n",
        "        inter_seq = torch.stack(inter_seq)\n",
        "\n",
        "        lstm_out, _ = self.lstm(inter_seq,(h0,c0))\n",
        "        lstm_out = lstm_out.permute(1,0,2)\n",
        "        lstm_out = lstm_out.contiguous().view(batch_size,-1)\n",
        "      \n",
        "        forecast = self.fc(lstm_out)\n",
        "        return forecast"
      ],
      "execution_count": 0,
      "outputs": []
    },
    {
      "cell_type": "code",
      "metadata": {
        "id": "sqyIN3cLHlwC",
        "colab_type": "code",
        "colab": {}
      },
      "source": [
        "def train(model, optimizer, criterion, clip=5):\n",
        "    model.train()\n",
        "    epoch_loss = []\n",
        "    for val_acc, configs, targets in train_data_loader:\n",
        "      optimizer.zero_grad()\n",
        "      output = model([val_acc,configs])\n",
        "      loss = criterion(output, targets)\n",
        "      loss.backward()\n",
        "      torch.nn.utils.clip_grad_norm_(model.parameters(),clip)\n",
        "      optimizer.step()\n",
        "      epoch_loss.append(loss.item())\n",
        "    return np.array(epoch_loss).mean()"
      ],
      "execution_count": 0,
      "outputs": []
    },
    {
      "cell_type": "code",
      "metadata": {
        "id": "Lom0qSLfHh-J",
        "colab_type": "code",
        "colab": {}
      },
      "source": [
        "def evaluate(model, criterion):\n",
        "  model.eval()\n",
        "  epoch_loss = []\n",
        "  with torch.no_grad():\n",
        "    for val_acc, configs, targets in val_data_loader:\n",
        "      output = model([val_acc, configs])\n",
        "      loss = criterion(output, targets)\n",
        "      epoch_loss.append(loss.item())\n",
        "  return np.array(epoch_loss).mean()"
      ],
      "execution_count": 0,
      "outputs": []
    },
    {
      "cell_type": "code",
      "metadata": {
        "id": "9OFaN6Rx1Njn",
        "colab_type": "code",
        "colab": {}
      },
      "source": [
        "def test(model, criterion):\n",
        "    #model.load_state_dict(torch.load('content/models/model.pt'))\n",
        "    model.eval()\n",
        "    epoch_loss=[]\n",
        "    with torch.no_grad():\n",
        "      for val_acc, configs, targets in test_data_loader:\n",
        "        output = model([val_acc, configs])\n",
        "        loss = criterion(output, targets)\n",
        "        epoch_loss.append(loss.item())\n",
        "        \n",
        "    return np.array(epoch_loss).mean()"
      ],
      "execution_count": 0,
      "outputs": []
    },
    {
      "cell_type": "code",
      "metadata": {
        "id": "HBuizjkSCrXk",
        "colab_type": "code",
        "colab": {}
      },
      "source": [
        "def max_error(model, criterion):\n",
        "    #model.load_state_dict(torch.load('content/models/model.pt'))\n",
        "    model.eval()\n",
        "    epoch_loss=[]\n",
        "    with torch.no_grad():\n",
        "      for val_acc, configs, targets in test_data_loader:\n",
        "        output = model([val_acc, configs])\n",
        "        loss = np.abs(output.detach().numpy()-targets.detach().numpy().reshape(-1,1))\n",
        "        epoch_loss += loss.tolist()\n",
        "        \n",
        "    return np.array(epoch_loss)"
      ],
      "execution_count": 0,
      "outputs": []
    },
    {
      "cell_type": "code",
      "metadata": {
        "id": "Iqtn_wsjIJxm",
        "colab_type": "code",
        "colab": {}
      },
      "source": [
        "def init_weights(m):\n",
        "    for name, param in m.named_parameters():\n",
        "      torch.nn.init.uniform_(param.data, -0.08, 0.08)"
      ],
      "execution_count": 0,
      "outputs": []
    },
    {
      "cell_type": "code",
      "metadata": {
        "id": "yUioFDjfIIer",
        "colab_type": "code",
        "outputId": "e7f79f98-887f-40d4-d280-fd94248db6c1",
        "colab": {
          "base_uri": "https://localhost:8080/",
          "height": 106
        }
      },
      "source": [
        "input_size = 8\n",
        "outcome_dim = 1\n",
        "hidden_dim=35\n",
        "num_layers=2\n",
        "config_size = 7\n",
        "bidirectional = True\n",
        "lstm_dropout=0.5\n",
        "fc_dropout=0.0\n",
        "\n",
        "model = InterCondUniLSTM(input_size, hidden_dim, outcome_dim, num_layers,\n",
        "                      lstm_dropout=lstm_dropout,bidirectional=bidirectional,fc_dropout=fc_dropout)\n",
        "pytorch_total_params = sum(p.numel() for p in model.parameters())\n",
        "print(pytorch_total_params)\n",
        "model.apply(init_weights)"
      ],
      "execution_count": 183,
      "outputs": [
        {
          "output_type": "stream",
          "text": [
            "43261\n"
          ],
          "name": "stdout"
        },
        {
          "output_type": "execute_result",
          "data": {
            "text/plain": [
              "InterCondUniLSTM(\n",
              "  (lstm): LSTM(8, 35, num_layers=2, dropout=0.5, bidirectional=True)\n",
              "  (fc): Linear(in_features=700, out_features=1, bias=True)\n",
              ")"
            ]
          },
          "metadata": {
            "tags": []
          },
          "execution_count": 183
        }
      ]
    },
    {
      "cell_type": "code",
      "metadata": {
        "id": "jR-Zp7gmnXU_",
        "colab_type": "code",
        "colab": {}
      },
      "source": [
        "epochs=200\n",
        "lr=0.01\n",
        "weight_decay = 10e-3\n",
        "T_0 = int(epochs/4)\n",
        "\n",
        "criterion = torch.nn.MSELoss()\n",
        "optimizer = torch.optim.Adam(model.parameters(), lr=lr, weight_decay=weight_decay)\n",
        "scheduler = torch.optim.lr_scheduler.CosineAnnealingLR(optimizer, T_max=epochs)"
      ],
      "execution_count": 0,
      "outputs": []
    },
    {
      "cell_type": "code",
      "metadata": {
        "id": "rnjIfsKuwSs_",
        "colab_type": "code",
        "colab": {}
      },
      "source": [
        "from collections import namedtuple\n",
        "train_stats = namedtuple(\"Stats\",[\"train_loss\", \"val_loss\"])\n",
        "stats = train_stats(train_loss=np.zeros(epochs),\n",
        "                     val_loss=np.zeros(epochs))"
      ],
      "execution_count": 0,
      "outputs": []
    },
    {
      "cell_type": "code",
      "metadata": {
        "id": "e565yxk3H7mX",
        "colab_type": "code",
        "outputId": "d218bae9-1fa4-453f-c872-87378c4233d6",
        "colab": {
          "base_uri": "https://localhost:8080/",
          "height": 1000
        }
      },
      "source": [
        "best_val_loss = float('inf')\n",
        "\n",
        "for epoch in range(epochs):\n",
        "  train_loss = train(model, optimizer, criterion)\n",
        "  val_loss = evaluate(model, criterion)\n",
        "\n",
        "  if val_loss < best_val_loss:\n",
        "    torch.save(model.state_dict(),\"content/models/model_5.pt\")    \n",
        "    print('Val loss decreased ({:.6f} --> {:.6f}).  Saving model ...'.format(best_val_loss,val_loss))\n",
        "    best_val_loss = val_loss\n",
        "\n",
        "  print(f'Epoch: {epoch}\\t Train Loss: {train_loss:.3f}\\t Val. Loss: {val_loss:.3f}')\n",
        "  stats.train_loss[epoch] = train_loss\n",
        "  stats.val_loss[epoch] = val_loss\n",
        "\n",
        "  scheduler.step()"
      ],
      "execution_count": 186,
      "outputs": [
        {
          "output_type": "stream",
          "text": [
            "/usr/local/lib/python3.6/dist-packages/torch/nn/modules/loss.py:431: UserWarning: Using a target size (torch.Size([32])) that is different to the input size (torch.Size([32, 1])). This will likely lead to incorrect results due to broadcasting. Please ensure they have the same size.\n",
            "  return F.mse_loss(input, target, reduction=self.reduction)\n",
            "/usr/local/lib/python3.6/dist-packages/torch/nn/modules/loss.py:431: UserWarning: Using a target size (torch.Size([8])) that is different to the input size (torch.Size([8, 1])). This will likely lead to incorrect results due to broadcasting. Please ensure they have the same size.\n",
            "  return F.mse_loss(input, target, reduction=self.reduction)\n",
            "/usr/local/lib/python3.6/dist-packages/torch/nn/modules/loss.py:431: UserWarning: Using a target size (torch.Size([20])) that is different to the input size (torch.Size([20, 1])). This will likely lead to incorrect results due to broadcasting. Please ensure they have the same size.\n",
            "  return F.mse_loss(input, target, reduction=self.reduction)\n"
          ],
          "name": "stderr"
        },
        {
          "output_type": "stream",
          "text": [
            "Val loss decreased (inf --> 65.781340).  Saving model ...\n",
            "Epoch: 0\t Train Loss: 1377.565\t Val. Loss: 65.781\n",
            "Val loss decreased (65.781340 --> 62.199132).  Saving model ...\n",
            "Epoch: 1\t Train Loss: 76.590\t Val. Loss: 62.199\n",
            "Val loss decreased (62.199132 --> 62.188114).  Saving model ...\n",
            "Epoch: 2\t Train Loss: 79.774\t Val. Loss: 62.188\n",
            "Epoch: 3\t Train Loss: 79.011\t Val. Loss: 88.090\n",
            "Epoch: 4\t Train Loss: 83.941\t Val. Loss: 62.997\n",
            "Val loss decreased (62.188114 --> 62.152932).  Saving model ...\n",
            "Epoch: 5\t Train Loss: 80.615\t Val. Loss: 62.153\n",
            "Epoch: 6\t Train Loss: 80.000\t Val. Loss: 62.777\n",
            "Epoch: 7\t Train Loss: 79.289\t Val. Loss: 96.774\n",
            "Epoch: 8\t Train Loss: 79.823\t Val. Loss: 63.923\n",
            "Epoch: 9\t Train Loss: 80.042\t Val. Loss: 76.855\n",
            "Epoch: 10\t Train Loss: 79.865\t Val. Loss: 92.278\n",
            "Epoch: 11\t Train Loss: 78.971\t Val. Loss: 65.389\n",
            "Epoch: 12\t Train Loss: 79.068\t Val. Loss: 101.373\n",
            "Epoch: 13\t Train Loss: 80.002\t Val. Loss: 63.059\n",
            "Epoch: 14\t Train Loss: 78.638\t Val. Loss: 72.071\n",
            "Epoch: 15\t Train Loss: 77.601\t Val. Loss: 70.756\n",
            "Epoch: 16\t Train Loss: 78.520\t Val. Loss: 66.065\n",
            "Epoch: 17\t Train Loss: 78.479\t Val. Loss: 101.521\n",
            "Epoch: 18\t Train Loss: 84.073\t Val. Loss: 63.741\n",
            "Epoch: 19\t Train Loss: 78.602\t Val. Loss: 98.715\n",
            "Epoch: 20\t Train Loss: 79.704\t Val. Loss: 63.463\n",
            "Epoch: 21\t Train Loss: 78.569\t Val. Loss: 68.103\n",
            "Epoch: 22\t Train Loss: 77.164\t Val. Loss: 65.430\n",
            "Epoch: 23\t Train Loss: 92.944\t Val. Loss: 62.523\n",
            "Epoch: 24\t Train Loss: 79.411\t Val. Loss: 66.994\n",
            "Epoch: 25\t Train Loss: 76.939\t Val. Loss: 63.017\n",
            "Epoch: 26\t Train Loss: 82.045\t Val. Loss: 63.340\n",
            "Val loss decreased (62.152932 --> 62.144857).  Saving model ...\n",
            "Epoch: 27\t Train Loss: 80.027\t Val. Loss: 62.145\n",
            "Epoch: 28\t Train Loss: 78.616\t Val. Loss: 87.386\n",
            "Epoch: 29\t Train Loss: 79.482\t Val. Loss: 62.145\n",
            "Epoch: 30\t Train Loss: 77.658\t Val. Loss: 77.555\n",
            "Epoch: 31\t Train Loss: 77.470\t Val. Loss: 68.464\n",
            "Epoch: 32\t Train Loss: 77.144\t Val. Loss: 64.081\n",
            "Epoch: 33\t Train Loss: 80.336\t Val. Loss: 67.996\n",
            "Epoch: 34\t Train Loss: 77.797\t Val. Loss: 89.066\n",
            "Epoch: 35\t Train Loss: 79.035\t Val. Loss: 76.806\n",
            "Epoch: 36\t Train Loss: 78.104\t Val. Loss: 73.891\n",
            "Epoch: 37\t Train Loss: 77.517\t Val. Loss: 69.636\n",
            "Epoch: 38\t Train Loss: 77.906\t Val. Loss: 64.807\n",
            "Epoch: 39\t Train Loss: 76.391\t Val. Loss: 69.439\n",
            "Epoch: 40\t Train Loss: 77.238\t Val. Loss: 75.982\n",
            "Epoch: 41\t Train Loss: 77.685\t Val. Loss: 64.483\n",
            "Epoch: 42\t Train Loss: 76.311\t Val. Loss: 68.802\n",
            "Epoch: 43\t Train Loss: 76.766\t Val. Loss: 68.236\n",
            "Epoch: 44\t Train Loss: 77.451\t Val. Loss: 81.228\n",
            "Epoch: 45\t Train Loss: 79.837\t Val. Loss: 68.711\n",
            "Epoch: 46\t Train Loss: 81.219\t Val. Loss: 72.451\n",
            "Epoch: 47\t Train Loss: 77.272\t Val. Loss: 73.710\n",
            "Epoch: 48\t Train Loss: 85.076\t Val. Loss: 65.689\n",
            "Epoch: 49\t Train Loss: 78.080\t Val. Loss: 62.336\n",
            "Epoch: 50\t Train Loss: 76.595\t Val. Loss: 63.156\n",
            "Epoch: 51\t Train Loss: 77.316\t Val. Loss: 75.803\n",
            "Epoch: 52\t Train Loss: 79.119\t Val. Loss: 62.208\n",
            "Epoch: 53\t Train Loss: 76.356\t Val. Loss: 70.313\n",
            "Epoch: 54\t Train Loss: 77.192\t Val. Loss: 67.870\n",
            "Epoch: 55\t Train Loss: 76.334\t Val. Loss: 65.781\n",
            "Epoch: 56\t Train Loss: 78.916\t Val. Loss: 80.385\n",
            "Epoch: 57\t Train Loss: 81.858\t Val. Loss: 64.667\n",
            "Epoch: 58\t Train Loss: 75.713\t Val. Loss: 62.196\n",
            "Epoch: 59\t Train Loss: 76.201\t Val. Loss: 62.820\n",
            "Epoch: 60\t Train Loss: 76.482\t Val. Loss: 62.490\n",
            "Epoch: 61\t Train Loss: 76.150\t Val. Loss: 67.988\n",
            "Epoch: 62\t Train Loss: 77.947\t Val. Loss: 62.313\n",
            "Epoch: 63\t Train Loss: 76.051\t Val. Loss: 65.305\n",
            "Epoch: 64\t Train Loss: 76.613\t Val. Loss: 64.490\n",
            "Epoch: 65\t Train Loss: 78.463\t Val. Loss: 77.361\n",
            "Epoch: 66\t Train Loss: 80.735\t Val. Loss: 69.373\n",
            "Epoch: 67\t Train Loss: 77.055\t Val. Loss: 63.082\n",
            "Epoch: 68\t Train Loss: 76.922\t Val. Loss: 70.009\n",
            "Epoch: 69\t Train Loss: 76.894\t Val. Loss: 62.629\n",
            "Epoch: 70\t Train Loss: 76.257\t Val. Loss: 62.862\n",
            "Epoch: 71\t Train Loss: 75.773\t Val. Loss: 62.191\n",
            "Epoch: 72\t Train Loss: 76.547\t Val. Loss: 62.507\n",
            "Epoch: 73\t Train Loss: 76.614\t Val. Loss: 81.690\n",
            "Epoch: 74\t Train Loss: 79.432\t Val. Loss: 72.082\n",
            "Epoch: 75\t Train Loss: 76.590\t Val. Loss: 62.212\n",
            "Epoch: 76\t Train Loss: 77.486\t Val. Loss: 86.734\n",
            "Epoch: 77\t Train Loss: 81.372\t Val. Loss: 63.610\n",
            "Epoch: 78\t Train Loss: 76.003\t Val. Loss: 64.795\n",
            "Epoch: 79\t Train Loss: 75.524\t Val. Loss: 63.115\n",
            "Epoch: 80\t Train Loss: 77.733\t Val. Loss: 63.620\n",
            "Epoch: 81\t Train Loss: 76.394\t Val. Loss: 66.153\n",
            "Epoch: 82\t Train Loss: 76.748\t Val. Loss: 67.172\n",
            "Epoch: 83\t Train Loss: 76.071\t Val. Loss: 71.669\n",
            "Epoch: 84\t Train Loss: 75.946\t Val. Loss: 62.591\n",
            "Epoch: 85\t Train Loss: 76.058\t Val. Loss: 65.133\n",
            "Epoch: 86\t Train Loss: 76.245\t Val. Loss: 66.508\n",
            "Epoch: 87\t Train Loss: 75.174\t Val. Loss: 62.394\n",
            "Epoch: 88\t Train Loss: 76.533\t Val. Loss: 75.485\n",
            "Epoch: 89\t Train Loss: 76.557\t Val. Loss: 62.362\n",
            "Epoch: 90\t Train Loss: 75.816\t Val. Loss: 65.177\n",
            "Epoch: 91\t Train Loss: 75.861\t Val. Loss: 69.908\n",
            "Epoch: 92\t Train Loss: 78.917\t Val. Loss: 64.750\n",
            "Epoch: 93\t Train Loss: 75.441\t Val. Loss: 68.665\n",
            "Epoch: 94\t Train Loss: 75.391\t Val. Loss: 63.115\n",
            "Epoch: 95\t Train Loss: 76.539\t Val. Loss: 65.745\n",
            "Epoch: 96\t Train Loss: 74.914\t Val. Loss: 62.945\n",
            "Epoch: 97\t Train Loss: 75.455\t Val. Loss: 66.502\n",
            "Epoch: 98\t Train Loss: 76.819\t Val. Loss: 65.216\n",
            "Epoch: 99\t Train Loss: 76.591\t Val. Loss: 72.068\n",
            "Epoch: 100\t Train Loss: 76.550\t Val. Loss: 67.292\n",
            "Epoch: 101\t Train Loss: 75.862\t Val. Loss: 73.956\n",
            "Epoch: 102\t Train Loss: 78.428\t Val. Loss: 62.733\n",
            "Epoch: 103\t Train Loss: 76.391\t Val. Loss: 64.457\n",
            "Epoch: 104\t Train Loss: 77.834\t Val. Loss: 63.503\n",
            "Epoch: 105\t Train Loss: 75.574\t Val. Loss: 70.164\n",
            "Epoch: 106\t Train Loss: 76.374\t Val. Loss: 63.545\n",
            "Epoch: 107\t Train Loss: 75.315\t Val. Loss: 63.439\n",
            "Epoch: 108\t Train Loss: 76.057\t Val. Loss: 69.004\n",
            "Epoch: 109\t Train Loss: 77.749\t Val. Loss: 62.162\n",
            "Epoch: 110\t Train Loss: 75.701\t Val. Loss: 64.238\n",
            "Epoch: 111\t Train Loss: 75.250\t Val. Loss: 64.116\n",
            "Epoch: 112\t Train Loss: 75.174\t Val. Loss: 65.961\n",
            "Epoch: 113\t Train Loss: 75.791\t Val. Loss: 69.372\n",
            "Epoch: 114\t Train Loss: 75.773\t Val. Loss: 66.443\n",
            "Epoch: 115\t Train Loss: 78.381\t Val. Loss: 65.225\n",
            "Epoch: 116\t Train Loss: 77.452\t Val. Loss: 63.776\n",
            "Epoch: 117\t Train Loss: 75.676\t Val. Loss: 63.789\n",
            "Epoch: 118\t Train Loss: 75.198\t Val. Loss: 64.796\n",
            "Epoch: 119\t Train Loss: 75.151\t Val. Loss: 62.648\n",
            "Epoch: 120\t Train Loss: 76.190\t Val. Loss: 62.221\n",
            "Epoch: 121\t Train Loss: 75.667\t Val. Loss: 63.333\n",
            "Epoch: 122\t Train Loss: 75.822\t Val. Loss: 62.159\n",
            "Epoch: 123\t Train Loss: 75.369\t Val. Loss: 63.090\n",
            "Epoch: 124\t Train Loss: 75.340\t Val. Loss: 62.409\n",
            "Epoch: 125\t Train Loss: 76.363\t Val. Loss: 62.470\n",
            "Epoch: 126\t Train Loss: 76.011\t Val. Loss: 62.611\n",
            "Epoch: 127\t Train Loss: 75.642\t Val. Loss: 63.239\n",
            "Epoch: 128\t Train Loss: 75.095\t Val. Loss: 62.949\n",
            "Epoch: 129\t Train Loss: 75.151\t Val. Loss: 62.619\n",
            "Epoch: 130\t Train Loss: 74.767\t Val. Loss: 62.469\n",
            "Epoch: 131\t Train Loss: 74.890\t Val. Loss: 63.508\n",
            "Epoch: 132\t Train Loss: 75.580\t Val. Loss: 62.195\n",
            "Epoch: 133\t Train Loss: 75.334\t Val. Loss: 62.586\n",
            "Epoch: 134\t Train Loss: 75.025\t Val. Loss: 63.406\n",
            "Epoch: 135\t Train Loss: 75.387\t Val. Loss: 62.154\n",
            "Epoch: 136\t Train Loss: 75.331\t Val. Loss: 62.902\n",
            "Val loss decreased (62.144857 --> 62.128070).  Saving model ...\n",
            "Epoch: 137\t Train Loss: 75.286\t Val. Loss: 62.128\n",
            "Epoch: 138\t Train Loss: 75.591\t Val. Loss: 62.197\n",
            "Epoch: 139\t Train Loss: 75.277\t Val. Loss: 62.823\n",
            "Epoch: 140\t Train Loss: 75.265\t Val. Loss: 62.133\n",
            "Epoch: 141\t Train Loss: 75.534\t Val. Loss: 62.330\n",
            "Epoch: 142\t Train Loss: 74.949\t Val. Loss: 63.125\n",
            "Epoch: 143\t Train Loss: 74.570\t Val. Loss: 62.170\n",
            "Epoch: 144\t Train Loss: 75.310\t Val. Loss: 62.424\n",
            "Epoch: 145\t Train Loss: 75.254\t Val. Loss: 62.502\n",
            "Epoch: 146\t Train Loss: 75.009\t Val. Loss: 62.200\n",
            "Epoch: 147\t Train Loss: 75.520\t Val. Loss: 62.378\n",
            "Epoch: 148\t Train Loss: 75.012\t Val. Loss: 62.563\n",
            "Epoch: 149\t Train Loss: 74.812\t Val. Loss: 62.166\n",
            "Epoch: 150\t Train Loss: 75.332\t Val. Loss: 62.475\n",
            "Epoch: 151\t Train Loss: 75.008\t Val. Loss: 62.285\n",
            "Epoch: 152\t Train Loss: 75.452\t Val. Loss: 62.323\n",
            "Epoch: 153\t Train Loss: 75.314\t Val. Loss: 62.129\n",
            "Epoch: 154\t Train Loss: 76.060\t Val. Loss: 62.164\n",
            "Epoch: 155\t Train Loss: 75.523\t Val. Loss: 62.474\n",
            "Epoch: 156\t Train Loss: 75.288\t Val. Loss: 62.455\n",
            "Epoch: 157\t Train Loss: 75.881\t Val. Loss: 62.878\n",
            "Epoch: 158\t Train Loss: 76.268\t Val. Loss: 63.557\n",
            "Epoch: 159\t Train Loss: 76.220\t Val. Loss: 62.590\n",
            "Epoch: 160\t Train Loss: 75.870\t Val. Loss: 62.797\n",
            "Epoch: 161\t Train Loss: 75.680\t Val. Loss: 62.168\n",
            "Epoch: 162\t Train Loss: 75.630\t Val. Loss: 62.515\n",
            "Epoch: 163\t Train Loss: 75.661\t Val. Loss: 62.300\n",
            "Epoch: 164\t Train Loss: 75.579\t Val. Loss: 62.148\n",
            "Epoch: 165\t Train Loss: 75.418\t Val. Loss: 62.231\n",
            "Epoch: 166\t Train Loss: 75.537\t Val. Loss: 62.255\n",
            "Epoch: 167\t Train Loss: 75.622\t Val. Loss: 62.312\n",
            "Epoch: 168\t Train Loss: 75.672\t Val. Loss: 62.328\n",
            "Epoch: 169\t Train Loss: 75.337\t Val. Loss: 62.245\n",
            "Epoch: 170\t Train Loss: 75.303\t Val. Loss: 62.130\n",
            "Epoch: 171\t Train Loss: 75.360\t Val. Loss: 62.247\n",
            "Val loss decreased (62.128070 --> 62.127015).  Saving model ...\n",
            "Epoch: 172\t Train Loss: 75.085\t Val. Loss: 62.127\n",
            "Epoch: 173\t Train Loss: 75.363\t Val. Loss: 62.140\n",
            "Epoch: 174\t Train Loss: 75.066\t Val. Loss: 62.134\n",
            "Epoch: 175\t Train Loss: 75.083\t Val. Loss: 62.137\n",
            "Epoch: 176\t Train Loss: 74.924\t Val. Loss: 62.147\n",
            "Epoch: 177\t Train Loss: 75.207\t Val. Loss: 62.142\n",
            "Epoch: 178\t Train Loss: 74.778\t Val. Loss: 62.127\n",
            "Epoch: 179\t Train Loss: 74.998\t Val. Loss: 62.169\n",
            "Epoch: 180\t Train Loss: 74.785\t Val. Loss: 62.129\n",
            "Epoch: 181\t Train Loss: 74.791\t Val. Loss: 62.160\n",
            "Epoch: 182\t Train Loss: 74.746\t Val. Loss: 62.156\n",
            "Epoch: 183\t Train Loss: 74.746\t Val. Loss: 62.169\n",
            "Epoch: 184\t Train Loss: 74.738\t Val. Loss: 62.169\n",
            "Epoch: 185\t Train Loss: 74.657\t Val. Loss: 62.160\n",
            "Epoch: 186\t Train Loss: 74.673\t Val. Loss: 62.151\n",
            "Epoch: 187\t Train Loss: 74.585\t Val. Loss: 62.169\n",
            "Epoch: 188\t Train Loss: 74.619\t Val. Loss: 62.177\n",
            "Epoch: 189\t Train Loss: 74.588\t Val. Loss: 62.169\n",
            "Epoch: 190\t Train Loss: 74.570\t Val. Loss: 62.176\n",
            "Epoch: 191\t Train Loss: 74.571\t Val. Loss: 62.191\n",
            "Epoch: 192\t Train Loss: 74.533\t Val. Loss: 62.195\n",
            "Epoch: 193\t Train Loss: 74.554\t Val. Loss: 62.198\n",
            "Epoch: 194\t Train Loss: 74.522\t Val. Loss: 62.214\n",
            "Epoch: 195\t Train Loss: 74.559\t Val. Loss: 62.213\n",
            "Epoch: 196\t Train Loss: 74.599\t Val. Loss: 62.213\n",
            "Epoch: 197\t Train Loss: 74.598\t Val. Loss: 62.214\n",
            "Epoch: 198\t Train Loss: 74.533\t Val. Loss: 62.216\n",
            "Epoch: 199\t Train Loss: 74.488\t Val. Loss: 62.216\n"
          ],
          "name": "stdout"
        }
      ]
    },
    {
      "cell_type": "code",
      "metadata": {
        "id": "IYsehDzCx2Km",
        "colab_type": "code",
        "colab": {}
      },
      "source": [
        "np.save(\"content/train_stats_1.npy\",stats)"
      ],
      "execution_count": 0,
      "outputs": []
    },
    {
      "cell_type": "code",
      "metadata": {
        "id": "5loOywuhHem-",
        "colab_type": "code",
        "colab": {}
      },
      "source": [
        "def RMSELoss(yhat,y):\n",
        "    return torch.sqrt(torch.mean((yhat-y)**2))"
      ],
      "execution_count": 0,
      "outputs": []
    },
    {
      "cell_type": "code",
      "metadata": {
        "id": "9vKyR0Rq1JxW",
        "colab_type": "code",
        "colab": {
          "base_uri": "https://localhost:8080/",
          "height": 126
        },
        "outputId": "871b80af-443e-44f9-ffba-01d5d562d442"
      },
      "source": [
        "test_loss = test(model, criterion)\n",
        "print(test_loss)"
      ],
      "execution_count": 189,
      "outputs": [
        {
          "output_type": "stream",
          "text": [
            "/usr/local/lib/python3.6/dist-packages/torch/nn/modules/loss.py:431: UserWarning: Using a target size (torch.Size([32])) that is different to the input size (torch.Size([32, 1])). This will likely lead to incorrect results due to broadcasting. Please ensure they have the same size.\n",
            "  return F.mse_loss(input, target, reduction=self.reduction)\n"
          ],
          "name": "stderr"
        },
        {
          "output_type": "stream",
          "text": [
            "63.4225355386734\n"
          ],
          "name": "stdout"
        },
        {
          "output_type": "stream",
          "text": [
            "/usr/local/lib/python3.6/dist-packages/torch/nn/modules/loss.py:431: UserWarning: Using a target size (torch.Size([20])) that is different to the input size (torch.Size([20, 1])). This will likely lead to incorrect results due to broadcasting. Please ensure they have the same size.\n",
            "  return F.mse_loss(input, target, reduction=self.reduction)\n"
          ],
          "name": "stderr"
        }
      ]
    },
    {
      "cell_type": "code",
      "metadata": {
        "id": "3veSufNOAfJN",
        "colab_type": "code",
        "colab": {
          "base_uri": "https://localhost:8080/",
          "height": 401
        },
        "outputId": "afc43149-f3c0-4885-839c-743588cc890e"
      },
      "source": [
        "model_list = []\n",
        "for i in range(5):\n",
        "  model = UnivariatMultiStepLSTM(input_size, hidden_dim, outcome_dim, num_layers,\n",
        "                      lstm_dropout=lstm_dropout,bidirectional=bidirectional,fc_dropout=fc_dropout)\n",
        "  model.load_state_dict(torch.load(\"content/model_\"+str(i+1)+\".pt\"))\n",
        "  model_list.append(model)"
      ],
      "execution_count": 190,
      "outputs": [
        {
          "output_type": "error",
          "ename": "RuntimeError",
          "evalue": "ignored",
          "traceback": [
            "\u001b[0;31m---------------------------------------------------------------------------\u001b[0m",
            "\u001b[0;31mRuntimeError\u001b[0m                              Traceback (most recent call last)",
            "\u001b[0;32m<ipython-input-190-72829df33af1>\u001b[0m in \u001b[0;36m<module>\u001b[0;34m()\u001b[0m\n\u001b[1;32m      3\u001b[0m   model = UnivariatMultiStepLSTM(input_size, hidden_dim, outcome_dim, num_layers,\n\u001b[1;32m      4\u001b[0m                       lstm_dropout=lstm_dropout,bidirectional=bidirectional,fc_dropout=fc_dropout)\n\u001b[0;32m----> 5\u001b[0;31m   \u001b[0mmodel\u001b[0m\u001b[0;34m.\u001b[0m\u001b[0mload_state_dict\u001b[0m\u001b[0;34m(\u001b[0m\u001b[0mtorch\u001b[0m\u001b[0;34m.\u001b[0m\u001b[0mload\u001b[0m\u001b[0;34m(\u001b[0m\u001b[0;34m\"content/model_\"\u001b[0m\u001b[0;34m+\u001b[0m\u001b[0mstr\u001b[0m\u001b[0;34m(\u001b[0m\u001b[0mi\u001b[0m\u001b[0;34m+\u001b[0m\u001b[0;36m1\u001b[0m\u001b[0;34m)\u001b[0m\u001b[0;34m+\u001b[0m\u001b[0;34m\".pt\"\u001b[0m\u001b[0;34m)\u001b[0m\u001b[0;34m)\u001b[0m\u001b[0;34m\u001b[0m\u001b[0;34m\u001b[0m\u001b[0m\n\u001b[0m\u001b[1;32m      6\u001b[0m   \u001b[0mmodel_list\u001b[0m\u001b[0;34m.\u001b[0m\u001b[0mappend\u001b[0m\u001b[0;34m(\u001b[0m\u001b[0mmodel\u001b[0m\u001b[0;34m)\u001b[0m\u001b[0;34m\u001b[0m\u001b[0;34m\u001b[0m\u001b[0m\n",
            "\u001b[0;32m/usr/local/lib/python3.6/dist-packages/torch/nn/modules/module.py\u001b[0m in \u001b[0;36mload_state_dict\u001b[0;34m(self, state_dict, strict)\u001b[0m\n\u001b[1;32m    828\u001b[0m         \u001b[0;32mif\u001b[0m \u001b[0mlen\u001b[0m\u001b[0;34m(\u001b[0m\u001b[0merror_msgs\u001b[0m\u001b[0;34m)\u001b[0m \u001b[0;34m>\u001b[0m \u001b[0;36m0\u001b[0m\u001b[0;34m:\u001b[0m\u001b[0;34m\u001b[0m\u001b[0;34m\u001b[0m\u001b[0m\n\u001b[1;32m    829\u001b[0m             raise RuntimeError('Error(s) in loading state_dict for {}:\\n\\t{}'.format(\n\u001b[0;32m--> 830\u001b[0;31m                                self.__class__.__name__, \"\\n\\t\".join(error_msgs)))\n\u001b[0m\u001b[1;32m    831\u001b[0m         \u001b[0;32mreturn\u001b[0m \u001b[0m_IncompatibleKeys\u001b[0m\u001b[0;34m(\u001b[0m\u001b[0mmissing_keys\u001b[0m\u001b[0;34m,\u001b[0m \u001b[0munexpected_keys\u001b[0m\u001b[0;34m)\u001b[0m\u001b[0;34m\u001b[0m\u001b[0;34m\u001b[0m\u001b[0m\n\u001b[1;32m    832\u001b[0m \u001b[0;34m\u001b[0m\u001b[0m\n",
            "\u001b[0;31mRuntimeError\u001b[0m: Error(s) in loading state_dict for UnivariatMultiStepLSTM:\n\tsize mismatch for lstm.weight_ih_l0: copying a param with shape torch.Size([140, 1]) from checkpoint, the shape in current model is torch.Size([140, 8]).\n\tsize mismatch for lstm.weight_ih_l0_reverse: copying a param with shape torch.Size([140, 1]) from checkpoint, the shape in current model is torch.Size([140, 8])."
          ]
        }
      ]
    },
    {
      "cell_type": "code",
      "metadata": {
        "id": "0ENml8i-BpID",
        "colab_type": "code",
        "colab": {}
      },
      "source": [
        "test_losses = []\n",
        "for i in range(5):\n",
        "  test_losses.append(test(model_list[i],criterion))\n",
        "print(np.array(test_losses).mean())"
      ],
      "execution_count": 0,
      "outputs": []
    },
    {
      "cell_type": "code",
      "metadata": {
        "id": "Dz44UzJkCMhG",
        "colab_type": "code",
        "colab": {}
      },
      "source": [
        "test_losses = []\n",
        "for i in range(5):\n",
        "  test_losses.append(test(model_list[i],RMSELoss))\n",
        "print(np.array(test_losses).mean())"
      ],
      "execution_count": 0,
      "outputs": []
    },
    {
      "cell_type": "code",
      "metadata": {
        "id": "F5q7TUrvDCrz",
        "colab_type": "code",
        "colab": {}
      },
      "source": [
        "tmp = max_error(model_list[0],RMSELoss)"
      ],
      "execution_count": 0,
      "outputs": []
    },
    {
      "cell_type": "code",
      "metadata": {
        "id": "Wym5y3h6C4pr",
        "colab_type": "code",
        "colab": {}
      },
      "source": [
        "max_errors = []\n",
        "for i in range(5):\n",
        "  max_errors.append(max_error(model_list[i],RMSELoss).max())\n",
        "print(np.array(max_errors).mean())"
      ],
      "execution_count": 0,
      "outputs": []
    },
    {
      "cell_type": "code",
      "metadata": {
        "id": "lK2YtfIJHWf1",
        "colab_type": "code",
        "colab": {}
      },
      "source": [
        "max_errors = []\n",
        "for i in range(5):\n",
        "  max_errors.append(max_error(model_list[i],RMSELoss))\n",
        "print(np.array(max_errors).mean(axis=0).shape)\n",
        "np.save(\"max_errors\",np.array(max_errors).mean(axis=0))"
      ],
      "execution_count": 0,
      "outputs": []
    },
    {
      "cell_type": "code",
      "metadata": {
        "id": "PJ5fKFDuvW75",
        "colab_type": "code",
        "colab": {}
      },
      "source": [
        "def test_ensemble(model_list, criterion):\n",
        "    #model.load_state_dict(torch.load('content/models/model.pt'))\n",
        "    epoch_loss=[]\n",
        "    with torch.no_grad():\n",
        "      for val_acc, configs, targets in test_data_loader:\n",
        "        output = []\n",
        "        for model in model_list:\n",
        "          model.eval()\n",
        "          output.append(model([val_acc, configs]))\n",
        "        output = torch.stack(output)\n",
        "        output = torch.mean(output,dim=0)\n",
        "        loss = criterion(output, targets.unsqueeze(-1))\n",
        "        epoch_loss.append(loss.item())\n",
        "        \n",
        "    return np.array(epoch_loss).mean()"
      ],
      "execution_count": 0,
      "outputs": []
    },
    {
      "cell_type": "code",
      "metadata": {
        "id": "qY1OeI5jvrE1",
        "colab_type": "code",
        "colab": {}
      },
      "source": [
        "test_losses=test_ensemble(model_list,criterion)\n",
        "print(test_losses)"
      ],
      "execution_count": 0,
      "outputs": []
    },
    {
      "cell_type": "code",
      "metadata": {
        "id": "DIEwvzjUwzee",
        "colab_type": "code",
        "colab": {}
      },
      "source": [
        "test_losses=test_ensemble(model_list,RMSELoss)\n",
        "print(test_losses)"
      ],
      "execution_count": 0,
      "outputs": []
    },
    {
      "cell_type": "code",
      "metadata": {
        "id": "JZMc9hPvw5CE",
        "colab_type": "code",
        "colab": {}
      },
      "source": [
        "def max_error_ensemble(model_list, criterion):\n",
        "    epoch_loss=[]\n",
        "    with torch.no_grad():\n",
        "      for val_acc, configs, targets in test_data_loader:\n",
        "        output = []\n",
        "        for model in model_list:\n",
        "          model.eval()\n",
        "          output.append(model([val_acc, configs]))\n",
        "        output = torch.stack(output)\n",
        "        output = torch.mean(output,dim=0)\n",
        "        loss = np.abs(output.detach().numpy()-targets.detach().numpy().reshape(-1,1))\n",
        "        epoch_loss += loss.tolist()\n",
        "        \n",
        "    return np.array(epoch_loss)"
      ],
      "execution_count": 0,
      "outputs": []
    },
    {
      "cell_type": "code",
      "metadata": {
        "id": "YVPlCR9jxLko",
        "colab_type": "code",
        "colab": {}
      },
      "source": [
        "test_losses=max_error_ensemble(model_list,RMSELoss)\n",
        "print(test_losses.max())"
      ],
      "execution_count": 0,
      "outputs": []
    }
  ]
}