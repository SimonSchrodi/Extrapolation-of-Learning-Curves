{
 "nbformat": 4,
 "nbformat_minor": 2,
 "metadata": {
  "language_info": {
   "name": "python",
   "codemirror_mode": {
    "name": "ipython",
    "version": 3
   },
   "version": "3.6.9-final"
  },
  "orig_nbformat": 2,
  "file_extension": ".py",
  "mimetype": "text/x-python",
  "name": "python",
  "npconvert_exporter": "python",
  "pygments_lexer": "ipython3",
  "version": 3,
  "kernelspec": {
   "name": "python36964bit369pyenvaaf3857fa60142739b1c7b799ddf22e6",
   "display_name": "Python 3.6.9 64-bit ('3.6.9': pyenv)"
  }
 },
 "cells": [
  {
   "cell_type": "code",
   "execution_count": 23,
   "metadata": {},
   "outputs": [
    {
     "name": "stdout",
     "output_type": "stream",
     "text": "tensor([[-2.2910e-31],\n        [ 3.0646e-41],\n        [ 0.0000e+00],\n        [ 0.0000e+00],\n        [ 0.0000e+00],\n        [ 0.0000e+00],\n        [-1.9998e+37],\n        [ 4.5689e-41],\n        [ 0.0000e+00],\n        [ 0.0000e+00],\n        [-1.7079e+37],\n        [ 4.5689e-41],\n        [ 0.0000e+00],\n        [ 0.0000e+00],\n        [        nan],\n        [ 0.0000e+00],\n        [ 1.4013e-45],\n        [ 0.0000e+00],\n        [-2.2803e-31],\n        [ 3.0646e-41]])\ntorch.Size([20, 1])\ntorch.Size([1, 30])\ntensor([[nan, nan, nan, nan, nan, nan, nan, nan, nan, nan, nan, nan, nan, nan, nan, nan, nan, nan, nan, nan, nan, nan, nan, nan,\n         nan, nan, nan, nan, nan, nan]], grad_fn=<SigmoidBackward>)\n"
    }
   ],
   "source": [
    "import torch.nn as nn\n",
    "import torch\n",
    "import numpy as np\n",
    "\n",
    "# this layer expects a single vector of size 20, 1 or 1, 20 and produces a single vector as output with 30 outputs, i.e, there are 30 hidden neurons\n",
    "v = nn.Linear(20, 30)  # this layer size is (20, 30), so input must be of size (m, 20) for matrix multiplication to work\n",
    "\n",
    "g = np.ndarray((20, 1), dtype=np.float32)  # define a random vector of and set size to float\n",
    "g_torch = torch.from_numpy(g)\n",
    "\n",
    "# g = torch.randn((20, 1))\n",
    "print(g_torch)\n",
    "print(g_torch.shape)\n",
    "\n",
    "# we need to make the input (1, 20) to match the input layer specs\n",
    "out = v(g_torch.T)  # pass the input through the linear layer, we should get output of shape (30, 1)\n",
    "print(out.shape)\n",
    "\n",
    "sig_tensor = nn.Sigmoid()\n",
    "\n",
    "sig_out = sig_tensor(out)\n",
    "print(sig_out)"
   ]
  }
 ]
}